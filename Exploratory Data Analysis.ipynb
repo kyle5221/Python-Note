{
  "nbformat": 4,
  "nbformat_minor": 0,
  "metadata": {
    "colab": {
      "name": "n111a-eda.ipynb",
      "provenance": []
    },
    "kernelspec": {
      "name": "python3",
      "display_name": "Python 3"
    }
  },
  "cells": [
    {
      "cell_type": "markdown",
      "metadata": {
        "id": "MSnsTgZLKO72"
      },
      "source": [
        "<img src='https://i.imgur.com/RDAD11M.png' width = '200' align = 'right'>\n",
        "\n",
        "## *DATA SCIENCE / SECTION 1 / SPRINT 1 / NOTE 1*\n",
        "\n",
        "---\n",
        "\n",
        "# 📝 Assignment\n",
        "\n"
      ]
    },
    {
      "cell_type": "markdown",
      "metadata": {
        "id": "qoR8E-T2TYPd"
      },
      "source": [
        "## 1.데이터셋 불러오기 연습\n",
        "\n",
        "다음 url에서 엑셀 파일을 불러오세요. (pandas excel)\n",
        "\n",
        "<https://ds-lecture-data.s3.ap-northeast-2.amazonaws.com/stocks/Travel.xlsx>\n",
        "\n",
        "  - 데이터셋 변수의 이름은 `df1`, `df2`로 저장하세요.\n",
        "  - row가 아닌 column에 '매출액', '영업이익' 이 가도록 데이터를 transpose 하세요.\n",
        "  - 이후 아래 링크를 참조하여 첫번째 row를 column name으로 설정하세요.\n",
        "\n",
        "<https://stackoverflow.com/questions/31328861/python-pandas-replacing-header-with-top-row>\n",
        "\n",
        "- 파일은 2개의 시트로 구성되어 있으며 각각 이름은 `008770`, `035250` 입니다.\n",
        "\n"
      ]
    },
    {
      "cell_type": "code",
      "metadata": {
        "id": "WwZ_-ykBT5e9",
        "colab": {
          "base_uri": "https://localhost:8080/"
        },
        "outputId": "cc6cfae1-b7da-44bf-e26f-fed233af5d62"
      },
      "source": [
        "!sudo apt-get install -y fonts-nanum\n",
        "!sudo fc-cache -fv\n",
        "!rm ~/.cache/matplotlib -rf"
      ],
      "execution_count": null,
      "outputs": [
        {
          "output_type": "stream",
          "text": [
            "Reading package lists... Done\n",
            "Building dependency tree       \n",
            "Reading state information... Done\n",
            "The following package was automatically installed and is no longer required:\n",
            "  libnvidia-common-460\n",
            "Use 'sudo apt autoremove' to remove it.\n",
            "The following NEW packages will be installed:\n",
            "  fonts-nanum\n",
            "0 upgraded, 1 newly installed, 0 to remove and 34 not upgraded.\n",
            "Need to get 9,604 kB of archives.\n",
            "After this operation, 29.5 MB of additional disk space will be used.\n",
            "Get:1 http://archive.ubuntu.com/ubuntu bionic/universe amd64 fonts-nanum all 20170925-1 [9,604 kB]\n",
            "Fetched 9,604 kB in 0s (49.1 MB/s)\n",
            "debconf: unable to initialize frontend: Dialog\n",
            "debconf: (No usable dialog-like program is installed, so the dialog based frontend cannot be used. at /usr/share/perl5/Debconf/FrontEnd/Dialog.pm line 76, <> line 1.)\n",
            "debconf: falling back to frontend: Readline\n",
            "debconf: unable to initialize frontend: Readline\n",
            "debconf: (This frontend requires a controlling tty.)\n",
            "debconf: falling back to frontend: Teletype\n",
            "dpkg-preconfigure: unable to re-open stdin: \n",
            "Selecting previously unselected package fonts-nanum.\n",
            "(Reading database ... 160706 files and directories currently installed.)\n",
            "Preparing to unpack .../fonts-nanum_20170925-1_all.deb ...\n",
            "Unpacking fonts-nanum (20170925-1) ...\n",
            "Setting up fonts-nanum (20170925-1) ...\n",
            "Processing triggers for fontconfig (2.12.6-0ubuntu2) ...\n",
            "/usr/share/fonts: caching, new cache contents: 0 fonts, 1 dirs\n",
            "/usr/share/fonts/truetype: caching, new cache contents: 0 fonts, 3 dirs\n",
            "/usr/share/fonts/truetype/humor-sans: caching, new cache contents: 1 fonts, 0 dirs\n",
            "/usr/share/fonts/truetype/liberation: caching, new cache contents: 16 fonts, 0 dirs\n",
            "/usr/share/fonts/truetype/nanum: caching, new cache contents: 10 fonts, 0 dirs\n",
            "/usr/local/share/fonts: caching, new cache contents: 0 fonts, 0 dirs\n",
            "/root/.local/share/fonts: skipping, no such directory\n",
            "/root/.fonts: skipping, no such directory\n",
            "/var/cache/fontconfig: cleaning cache directory\n",
            "/root/.cache/fontconfig: not cleaning non-existent cache directory\n",
            "/root/.fontconfig: not cleaning non-existent cache directory\n",
            "fc-cache: succeeded\n"
          ],
          "name": "stdout"
        }
      ]
    },
    {
      "cell_type": "code",
      "metadata": {
        "id": "Vp4c0jPEF2nJ"
      },
      "source": [
        "#barplot 한글 깨짐 해결을 위한 한글 폰트 불러오기\n",
        "import matplotlib.pyplot as plt\n",
        "\n",
        "plt.rc('font', family='NanumBarunGothic')\n",
        "plt.rc('axes', unicode_minus=False)\n",
        "\n",
        "#1 데이터 셋 불러오기 연습\n",
        "\n",
        "travel_data_url = 'https://ds-lecture-data.s3.ap-northeast-2.amazonaws.com/stocks/Travel.xlsx'\n",
        "\n",
        "import pandas as pd"
      ],
      "execution_count": null,
      "outputs": []
    },
    {
      "cell_type": "code",
      "metadata": {
        "colab": {
          "base_uri": "https://localhost:8080/",
          "height": 557
        },
        "id": "wwNBQeanF4TP",
        "outputId": "f04dfa33-7f09-4134-e32d-5119e32796be"
      },
      "source": [
        "#첫번째 시트 불러오기\n",
        "df1 = pd.read_excel(travel_data_url, sheet_name = 0)\n",
        "df1 = df1.transpose()\n",
        "new_header = df1.iloc[0] #grab the first row for the header\n",
        "df1 = df1[1:] #take the data less the header row\n",
        "df1.columns = new_header #set the header row as the df header\n",
        "df1"
      ],
      "execution_count": null,
      "outputs": [
        {
          "output_type": "execute_result",
          "data": {
            "text/html": [
              "<div>\n",
              "<style scoped>\n",
              "    .dataframe tbody tr th:only-of-type {\n",
              "        vertical-align: middle;\n",
              "    }\n",
              "\n",
              "    .dataframe tbody tr th {\n",
              "        vertical-align: top;\n",
              "    }\n",
              "\n",
              "    .dataframe thead th {\n",
              "        text-align: right;\n",
              "    }\n",
              "</style>\n",
              "<table border=\"1\" class=\"dataframe\">\n",
              "  <thead>\n",
              "    <tr style=\"text-align: right;\">\n",
              "      <th>주요재무정보</th>\n",
              "      <th>매출액</th>\n",
              "      <th>영업이익</th>\n",
              "      <th>영업이익(발표기준)</th>\n",
              "      <th>세전계속사업이익</th>\n",
              "      <th>당기순이익</th>\n",
              "      <th>당기순이익(지배)</th>\n",
              "      <th>당기순이익(비지배)</th>\n",
              "      <th>자산총계</th>\n",
              "      <th>부채총계</th>\n",
              "      <th>자본총계</th>\n",
              "      <th>자본총계(지배)</th>\n",
              "      <th>자본총계(비지배)</th>\n",
              "      <th>자본금</th>\n",
              "      <th>영업활동현금흐름</th>\n",
              "      <th>투자활동현금흐름</th>\n",
              "      <th>재무활동현금흐름</th>\n",
              "      <th>CAPEX</th>\n",
              "      <th>FCF</th>\n",
              "      <th>이자발생부채</th>\n",
              "      <th>영업이익률</th>\n",
              "      <th>순이익률</th>\n",
              "      <th>ROE(%)</th>\n",
              "      <th>ROA(%)</th>\n",
              "      <th>부채비율</th>\n",
              "      <th>자본유보율</th>\n",
              "      <th>EPS(원)</th>\n",
              "      <th>PER(배)</th>\n",
              "      <th>BPS(원)</th>\n",
              "      <th>PBR(배)</th>\n",
              "      <th>현금DPS(원)</th>\n",
              "      <th>현금배당수익률</th>\n",
              "      <th>현금배당성향(%)</th>\n",
              "    </tr>\n",
              "  </thead>\n",
              "  <tbody>\n",
              "    <tr>\n",
              "      <th>2019/09\\n(IFRS연결)</th>\n",
              "      <td>14753</td>\n",
              "      <td>574</td>\n",
              "      <td>574</td>\n",
              "      <td>376</td>\n",
              "      <td>274</td>\n",
              "      <td>277</td>\n",
              "      <td>-3</td>\n",
              "      <td>37747</td>\n",
              "      <td>28854</td>\n",
              "      <td>8893</td>\n",
              "      <td>8889</td>\n",
              "      <td>4</td>\n",
              "      <td>2000</td>\n",
              "      <td>1652</td>\n",
              "      <td>-284</td>\n",
              "      <td>-900</td>\n",
              "      <td>159</td>\n",
              "      <td>1493</td>\n",
              "      <td>19035</td>\n",
              "      <td>3.89</td>\n",
              "      <td>1.86</td>\n",
              "      <td>13.18</td>\n",
              "      <td>3.62</td>\n",
              "      <td>324.45</td>\n",
              "      <td>395.1</td>\n",
              "      <td>692</td>\n",
              "      <td>31.19</td>\n",
              "      <td>23484</td>\n",
              "      <td>3.67</td>\n",
              "      <td>0</td>\n",
              "      <td>NaN</td>\n",
              "      <td>0</td>\n",
              "    </tr>\n",
              "    <tr>\n",
              "      <th>2019/12\\n(IFRS연결)</th>\n",
              "      <td>15440</td>\n",
              "      <td>776</td>\n",
              "      <td>776</td>\n",
              "      <td>538</td>\n",
              "      <td>380</td>\n",
              "      <td>380</td>\n",
              "      <td>0</td>\n",
              "      <td>35273</td>\n",
              "      <td>26077</td>\n",
              "      <td>9195</td>\n",
              "      <td>9192</td>\n",
              "      <td>4</td>\n",
              "      <td>2000</td>\n",
              "      <td>-480</td>\n",
              "      <td>-208</td>\n",
              "      <td>1230</td>\n",
              "      <td>109</td>\n",
              "      <td>-589</td>\n",
              "      <td>15615</td>\n",
              "      <td>5.03</td>\n",
              "      <td>2.46</td>\n",
              "      <td>20.16</td>\n",
              "      <td>5.81</td>\n",
              "      <td>283.59</td>\n",
              "      <td>411.78</td>\n",
              "      <td>950</td>\n",
              "      <td>21.4</td>\n",
              "      <td>24282</td>\n",
              "      <td>3.74</td>\n",
              "      <td>350</td>\n",
              "      <td>NaN</td>\n",
              "      <td>34.94</td>\n",
              "    </tr>\n",
              "    <tr>\n",
              "      <th>2020/03\\n(IFRS연결)</th>\n",
              "      <td>9437</td>\n",
              "      <td>-668</td>\n",
              "      <td>-668</td>\n",
              "      <td>-925</td>\n",
              "      <td>-736</td>\n",
              "      <td>-736</td>\n",
              "      <td>0</td>\n",
              "      <td>33188</td>\n",
              "      <td>24813</td>\n",
              "      <td>8375</td>\n",
              "      <td>8371</td>\n",
              "      <td>4</td>\n",
              "      <td>2000</td>\n",
              "      <td>-4525</td>\n",
              "      <td>-237</td>\n",
              "      <td>1288</td>\n",
              "      <td>155</td>\n",
              "      <td>-4680</td>\n",
              "      <td>17505</td>\n",
              "      <td>-7.08</td>\n",
              "      <td>-7.8</td>\n",
              "      <td>5.39</td>\n",
              "      <td>1.25</td>\n",
              "      <td>296.28</td>\n",
              "      <td>368.36</td>\n",
              "      <td>-1839</td>\n",
              "      <td>63.76</td>\n",
              "      <td>22114</td>\n",
              "      <td>3.19</td>\n",
              "      <td>NaN</td>\n",
              "      <td>NaN</td>\n",
              "      <td>0</td>\n",
              "    </tr>\n",
              "    <tr>\n",
              "      <th>2020/06\\n(IFRS연결)</th>\n",
              "      <td>5230</td>\n",
              "      <td>-634</td>\n",
              "      <td>-634</td>\n",
              "      <td>-819</td>\n",
              "      <td>-677</td>\n",
              "      <td>-678</td>\n",
              "      <td>1</td>\n",
              "      <td>33039</td>\n",
              "      <td>25364</td>\n",
              "      <td>7676</td>\n",
              "      <td>7671</td>\n",
              "      <td>5</td>\n",
              "      <td>2000</td>\n",
              "      <td>879</td>\n",
              "      <td>-856</td>\n",
              "      <td>448</td>\n",
              "      <td>90</td>\n",
              "      <td>789</td>\n",
              "      <td>18933</td>\n",
              "      <td>-12.13</td>\n",
              "      <td>-12.95</td>\n",
              "      <td>-9.31</td>\n",
              "      <td>-2.14</td>\n",
              "      <td>330.45</td>\n",
              "      <td>334.46</td>\n",
              "      <td>-1695</td>\n",
              "      <td>NaN</td>\n",
              "      <td>20265</td>\n",
              "      <td>3.5</td>\n",
              "      <td>NaN</td>\n",
              "      <td>NaN</td>\n",
              "      <td>0</td>\n",
              "    </tr>\n",
              "    <tr>\n",
              "      <th>2020/09\\n(IFRS연결)</th>\n",
              "      <td>8795</td>\n",
              "      <td>-198</td>\n",
              "      <td>-198</td>\n",
              "      <td>-366</td>\n",
              "      <td>-285</td>\n",
              "      <td>-285</td>\n",
              "      <td>0</td>\n",
              "      <td>32683</td>\n",
              "      <td>25318</td>\n",
              "      <td>7365</td>\n",
              "      <td>7360</td>\n",
              "      <td>5</td>\n",
              "      <td>2000</td>\n",
              "      <td>3104</td>\n",
              "      <td>-1388</td>\n",
              "      <td>-882</td>\n",
              "      <td>129</td>\n",
              "      <td>2975</td>\n",
              "      <td>17755</td>\n",
              "      <td>-2.25</td>\n",
              "      <td>-3.24</td>\n",
              "      <td>-16.22</td>\n",
              "      <td>-3.74</td>\n",
              "      <td>343.77</td>\n",
              "      <td>320.21</td>\n",
              "      <td>-712</td>\n",
              "      <td>NaN</td>\n",
              "      <td>19444</td>\n",
              "      <td>3.91</td>\n",
              "      <td>NaN</td>\n",
              "      <td>NaN</td>\n",
              "      <td>NaN</td>\n",
              "    </tr>\n",
              "    <tr>\n",
              "      <th>2020/12(E)\\n(IFRS연결)</th>\n",
              "      <td>9980</td>\n",
              "      <td>50</td>\n",
              "      <td>NaN</td>\n",
              "      <td>-109</td>\n",
              "      <td>-100</td>\n",
              "      <td>-100</td>\n",
              "      <td>NaN</td>\n",
              "      <td>32388</td>\n",
              "      <td>25171</td>\n",
              "      <td>7216</td>\n",
              "      <td>7263</td>\n",
              "      <td>NaN</td>\n",
              "      <td>2000</td>\n",
              "      <td>NaN</td>\n",
              "      <td>NaN</td>\n",
              "      <td>NaN</td>\n",
              "      <td>NaN</td>\n",
              "      <td>NaN</td>\n",
              "      <td>NaN</td>\n",
              "      <td>0.5</td>\n",
              "      <td>-1.01</td>\n",
              "      <td>NaN</td>\n",
              "      <td>NaN</td>\n",
              "      <td>348.79</td>\n",
              "      <td>NaN</td>\n",
              "      <td>-251</td>\n",
              "      <td>NaN</td>\n",
              "      <td>19187</td>\n",
              "      <td>4.22</td>\n",
              "      <td>NaN</td>\n",
              "      <td>NaN</td>\n",
              "      <td>NaN</td>\n",
              "    </tr>\n",
              "    <tr>\n",
              "      <th>2021/03(E)\\n(IFRS연결)</th>\n",
              "      <td>9761</td>\n",
              "      <td>144</td>\n",
              "      <td>NaN</td>\n",
              "      <td>14</td>\n",
              "      <td>71</td>\n",
              "      <td>53</td>\n",
              "      <td>NaN</td>\n",
              "      <td>NaN</td>\n",
              "      <td>NaN</td>\n",
              "      <td>NaN</td>\n",
              "      <td>NaN</td>\n",
              "      <td>NaN</td>\n",
              "      <td>NaN</td>\n",
              "      <td>NaN</td>\n",
              "      <td>NaN</td>\n",
              "      <td>NaN</td>\n",
              "      <td>NaN</td>\n",
              "      <td>NaN</td>\n",
              "      <td>NaN</td>\n",
              "      <td>1.47</td>\n",
              "      <td>0.73</td>\n",
              "      <td>NaN</td>\n",
              "      <td>NaN</td>\n",
              "      <td>NaN</td>\n",
              "      <td>NaN</td>\n",
              "      <td>133</td>\n",
              "      <td>NaN</td>\n",
              "      <td>NaN</td>\n",
              "      <td>NaN</td>\n",
              "      <td>NaN</td>\n",
              "      <td>NaN</td>\n",
              "      <td>NaN</td>\n",
              "    </tr>\n",
              "    <tr>\n",
              "      <th>2021/06(E)\\n(IFRS연결)</th>\n",
              "      <td>9820</td>\n",
              "      <td>265</td>\n",
              "      <td>NaN</td>\n",
              "      <td>172</td>\n",
              "      <td>214</td>\n",
              "      <td>123</td>\n",
              "      <td>NaN</td>\n",
              "      <td>NaN</td>\n",
              "      <td>NaN</td>\n",
              "      <td>NaN</td>\n",
              "      <td>NaN</td>\n",
              "      <td>NaN</td>\n",
              "      <td>NaN</td>\n",
              "      <td>NaN</td>\n",
              "      <td>NaN</td>\n",
              "      <td>NaN</td>\n",
              "      <td>NaN</td>\n",
              "      <td>NaN</td>\n",
              "      <td>NaN</td>\n",
              "      <td>2.7</td>\n",
              "      <td>2.18</td>\n",
              "      <td>NaN</td>\n",
              "      <td>NaN</td>\n",
              "      <td>NaN</td>\n",
              "      <td>NaN</td>\n",
              "      <td>308</td>\n",
              "      <td>NaN</td>\n",
              "      <td>NaN</td>\n",
              "      <td>NaN</td>\n",
              "      <td>NaN</td>\n",
              "      <td>NaN</td>\n",
              "      <td>NaN</td>\n",
              "    </tr>\n",
              "  </tbody>\n",
              "</table>\n",
              "</div>"
            ],
            "text/plain": [
              "주요재무정보                  매출액 영업이익 영업이익(발표기준)  ... 현금DPS(원) 현금배당수익률 현금배당성향(%)\n",
              "2019/09\\n(IFRS연결)     14753  574        574  ...        0     NaN         0\n",
              "2019/12\\n(IFRS연결)     15440  776        776  ...      350     NaN     34.94\n",
              "2020/03\\n(IFRS연결)      9437 -668       -668  ...      NaN     NaN         0\n",
              "2020/06\\n(IFRS연결)      5230 -634       -634  ...      NaN     NaN         0\n",
              "2020/09\\n(IFRS연결)      8795 -198       -198  ...      NaN     NaN       NaN\n",
              "2020/12(E)\\n(IFRS연결)   9980   50        NaN  ...      NaN     NaN       NaN\n",
              "2021/03(E)\\n(IFRS연결)   9761  144        NaN  ...      NaN     NaN       NaN\n",
              "2021/06(E)\\n(IFRS연결)   9820  265        NaN  ...      NaN     NaN       NaN\n",
              "\n",
              "[8 rows x 32 columns]"
            ]
          },
          "metadata": {
            "tags": []
          },
          "execution_count": 3
        }
      ]
    },
    {
      "cell_type": "code",
      "metadata": {
        "colab": {
          "base_uri": "https://localhost:8080/"
        },
        "id": "wjM-AU8UF7WV",
        "outputId": "08cc136b-cf8e-467f-a75e-b91ec72b863d"
      },
      "source": [
        "df1.shape"
      ],
      "execution_count": null,
      "outputs": [
        {
          "output_type": "execute_result",
          "data": {
            "text/plain": [
              "(8, 32)"
            ]
          },
          "metadata": {
            "tags": []
          },
          "execution_count": 3
        }
      ]
    },
    {
      "cell_type": "code",
      "metadata": {
        "colab": {
          "base_uri": "https://localhost:8080/"
        },
        "id": "EGW4K4XGI_V4",
        "outputId": "bd452d36-ac84-4356-b789-d954a5e1babb"
      },
      "source": [
        "df1['매출액'][0] == 14753"
      ],
      "execution_count": null,
      "outputs": [
        {
          "output_type": "execute_result",
          "data": {
            "text/plain": [
              "True"
            ]
          },
          "metadata": {
            "tags": []
          },
          "execution_count": 4
        }
      ]
    },
    {
      "cell_type": "code",
      "metadata": {
        "colab": {
          "base_uri": "https://localhost:8080/",
          "height": 417
        },
        "id": "4dhOBzB0HVxH",
        "outputId": "38e7f032-f9e3-45be-fb4d-4c44a0dbb2dc"
      },
      "source": [
        "# 두번쨰 시트 불러오기\n",
        "df2 = pd.read_excel(travel_data_url, sheet_name = 1)\n",
        "df2 = df2.transpose()\n",
        "new_header = df2.iloc[0] #첫번째 row Grab\n",
        "df2 = df2[1:] #두번째 row로 이동\n",
        "df2.columns = new_header #이동한 row를 header로\n",
        "df2.head()"
      ],
      "execution_count": null,
      "outputs": [
        {
          "output_type": "execute_result",
          "data": {
            "text/html": [
              "<div>\n",
              "<style scoped>\n",
              "    .dataframe tbody tr th:only-of-type {\n",
              "        vertical-align: middle;\n",
              "    }\n",
              "\n",
              "    .dataframe tbody tr th {\n",
              "        vertical-align: top;\n",
              "    }\n",
              "\n",
              "    .dataframe thead th {\n",
              "        text-align: right;\n",
              "    }\n",
              "</style>\n",
              "<table border=\"1\" class=\"dataframe\">\n",
              "  <thead>\n",
              "    <tr style=\"text-align: right;\">\n",
              "      <th>주요재무정보</th>\n",
              "      <th>매출액</th>\n",
              "      <th>영업이익</th>\n",
              "      <th>영업이익(발표기준)</th>\n",
              "      <th>세전계속사업이익</th>\n",
              "      <th>당기순이익</th>\n",
              "      <th>당기순이익(지배)</th>\n",
              "      <th>당기순이익(비지배)</th>\n",
              "      <th>자산총계</th>\n",
              "      <th>부채총계</th>\n",
              "      <th>자본총계</th>\n",
              "      <th>자본총계(지배)</th>\n",
              "      <th>자본총계(비지배)</th>\n",
              "      <th>자본금</th>\n",
              "      <th>영업활동현금흐름</th>\n",
              "      <th>투자활동현금흐름</th>\n",
              "      <th>재무활동현금흐름</th>\n",
              "      <th>CAPEX</th>\n",
              "      <th>FCF</th>\n",
              "      <th>이자발생부채</th>\n",
              "      <th>영업이익률</th>\n",
              "      <th>순이익률</th>\n",
              "      <th>ROE(%)</th>\n",
              "      <th>ROA(%)</th>\n",
              "      <th>부채비율</th>\n",
              "      <th>자본유보율</th>\n",
              "      <th>EPS(원)</th>\n",
              "      <th>PER(배)</th>\n",
              "      <th>BPS(원)</th>\n",
              "      <th>PBR(배)</th>\n",
              "      <th>현금DPS(원)</th>\n",
              "      <th>현금배당수익률</th>\n",
              "      <th>현금배당성향(%)</th>\n",
              "    </tr>\n",
              "  </thead>\n",
              "  <tbody>\n",
              "    <tr>\n",
              "      <th>2019/09\\n(IFRS연결)</th>\n",
              "      <td>4055</td>\n",
              "      <td>1392</td>\n",
              "      <td>1392</td>\n",
              "      <td>1554</td>\n",
              "      <td>1286</td>\n",
              "      <td>1286</td>\n",
              "      <td>0</td>\n",
              "      <td>41698</td>\n",
              "      <td>4781</td>\n",
              "      <td>36917</td>\n",
              "      <td>36916</td>\n",
              "      <td>NaN</td>\n",
              "      <td>1070</td>\n",
              "      <td>-22</td>\n",
              "      <td>-1260</td>\n",
              "      <td>-4</td>\n",
              "      <td>167</td>\n",
              "      <td>-189</td>\n",
              "      <td>48</td>\n",
              "      <td>34.33</td>\n",
              "      <td>31.72</td>\n",
              "      <td>8.27</td>\n",
              "      <td>7.2</td>\n",
              "      <td>12.95</td>\n",
              "      <td>3513.86</td>\n",
              "      <td>601</td>\n",
              "      <td>21</td>\n",
              "      <td>18209</td>\n",
              "      <td>1.62</td>\n",
              "      <td>0</td>\n",
              "      <td>NaN</td>\n",
              "      <td>0</td>\n",
              "    </tr>\n",
              "    <tr>\n",
              "      <th>2019/12\\n(IFRS연결)</th>\n",
              "      <td>3728</td>\n",
              "      <td>641</td>\n",
              "      <td>641</td>\n",
              "      <td>769</td>\n",
              "      <td>526</td>\n",
              "      <td>526</td>\n",
              "      <td>0</td>\n",
              "      <td>44381</td>\n",
              "      <td>7204</td>\n",
              "      <td>37178</td>\n",
              "      <td>37177</td>\n",
              "      <td>NaN</td>\n",
              "      <td>1070</td>\n",
              "      <td>2067</td>\n",
              "      <td>-2370</td>\n",
              "      <td>-4</td>\n",
              "      <td>383</td>\n",
              "      <td>1684</td>\n",
              "      <td>680</td>\n",
              "      <td>17.18</td>\n",
              "      <td>14.11</td>\n",
              "      <td>9.16</td>\n",
              "      <td>7.72</td>\n",
              "      <td>19.38</td>\n",
              "      <td>3538.24</td>\n",
              "      <td>246</td>\n",
              "      <td>18.92</td>\n",
              "      <td>18337</td>\n",
              "      <td>1.61</td>\n",
              "      <td>900</td>\n",
              "      <td>NaN</td>\n",
              "      <td>346.75</td>\n",
              "    </tr>\n",
              "    <tr>\n",
              "      <th>2020/03\\n(IFRS연결)</th>\n",
              "      <td>2360</td>\n",
              "      <td>-1868</td>\n",
              "      <td>-1868</td>\n",
              "      <td>-2204</td>\n",
              "      <td>-1561</td>\n",
              "      <td>-1561</td>\n",
              "      <td>0</td>\n",
              "      <td>43702</td>\n",
              "      <td>9945</td>\n",
              "      <td>33757</td>\n",
              "      <td>33757</td>\n",
              "      <td>NaN</td>\n",
              "      <td>1070</td>\n",
              "      <td>-684</td>\n",
              "      <td>909</td>\n",
              "      <td>-4</td>\n",
              "      <td>124</td>\n",
              "      <td>-808</td>\n",
              "      <td>651</td>\n",
              "      <td>-79.14</td>\n",
              "      <td>-66.15</td>\n",
              "      <td>2.21</td>\n",
              "      <td>1.75</td>\n",
              "      <td>29.46</td>\n",
              "      <td>3218.48</td>\n",
              "      <td>-730</td>\n",
              "      <td>55.53</td>\n",
              "      <td>16650</td>\n",
              "      <td>1.19</td>\n",
              "      <td>NaN</td>\n",
              "      <td>NaN</td>\n",
              "      <td>NaN</td>\n",
              "    </tr>\n",
              "    <tr>\n",
              "      <th>2020/06\\n(IFRS연결)</th>\n",
              "      <td>346</td>\n",
              "      <td>-1038</td>\n",
              "      <td>-1038</td>\n",
              "      <td>-723</td>\n",
              "      <td>-456</td>\n",
              "      <td>-456</td>\n",
              "      <td>0</td>\n",
              "      <td>39178</td>\n",
              "      <td>5900</td>\n",
              "      <td>33277</td>\n",
              "      <td>33277</td>\n",
              "      <td>1</td>\n",
              "      <td>1070</td>\n",
              "      <td>-3070</td>\n",
              "      <td>5414</td>\n",
              "      <td>-1842</td>\n",
              "      <td>82</td>\n",
              "      <td>-3153</td>\n",
              "      <td>639</td>\n",
              "      <td>-299.75</td>\n",
              "      <td>-131.55</td>\n",
              "      <td>-0.59</td>\n",
              "      <td>-0.5</td>\n",
              "      <td>17.73</td>\n",
              "      <td>3173.64</td>\n",
              "      <td>-213</td>\n",
              "      <td>NaN</td>\n",
              "      <td>16414</td>\n",
              "      <td>1.31</td>\n",
              "      <td>NaN</td>\n",
              "      <td>NaN</td>\n",
              "      <td>0</td>\n",
              "    </tr>\n",
              "    <tr>\n",
              "      <th>2020/09\\n(IFRS연결)</th>\n",
              "      <td>766</td>\n",
              "      <td>-649</td>\n",
              "      <td>-649</td>\n",
              "      <td>-552</td>\n",
              "      <td>-409</td>\n",
              "      <td>-409</td>\n",
              "      <td>0</td>\n",
              "      <td>37434</td>\n",
              "      <td>4560</td>\n",
              "      <td>32875</td>\n",
              "      <td>32874</td>\n",
              "      <td>0</td>\n",
              "      <td>1070</td>\n",
              "      <td>-1584</td>\n",
              "      <td>2327</td>\n",
              "      <td>-4</td>\n",
              "      <td>260</td>\n",
              "      <td>-1844</td>\n",
              "      <td>646</td>\n",
              "      <td>-84.68</td>\n",
              "      <td>-53.33</td>\n",
              "      <td>-5.44</td>\n",
              "      <td>-4.8</td>\n",
              "      <td>13.87</td>\n",
              "      <td>3136</td>\n",
              "      <td>-191</td>\n",
              "      <td>NaN</td>\n",
              "      <td>16215</td>\n",
              "      <td>1.33</td>\n",
              "      <td>NaN</td>\n",
              "      <td>NaN</td>\n",
              "      <td>NaN</td>\n",
              "    </tr>\n",
              "  </tbody>\n",
              "</table>\n",
              "</div>"
            ],
            "text/plain": [
              "주요재무정보              매출액  영업이익 영업이익(발표기준)  ... 현금DPS(원) 현금배당수익률 현금배당성향(%)\n",
              "2019/09\\n(IFRS연결)  4055  1392       1392  ...        0     NaN         0\n",
              "2019/12\\n(IFRS연결)  3728   641        641  ...      900     NaN    346.75\n",
              "2020/03\\n(IFRS연결)  2360 -1868      -1868  ...      NaN     NaN       NaN\n",
              "2020/06\\n(IFRS연결)   346 -1038      -1038  ...      NaN     NaN         0\n",
              "2020/09\\n(IFRS연결)   766  -649       -649  ...      NaN     NaN       NaN\n",
              "\n",
              "[5 rows x 32 columns]"
            ]
          },
          "metadata": {
            "tags": []
          },
          "execution_count": 4
        }
      ]
    },
    {
      "cell_type": "code",
      "metadata": {
        "colab": {
          "base_uri": "https://localhost:8080/"
        },
        "id": "GsgXvGlHHZ0y",
        "outputId": "6522e395-81d5-4786-84e6-fa863806fd76"
      },
      "source": [
        "df2.shape"
      ],
      "execution_count": null,
      "outputs": [
        {
          "output_type": "execute_result",
          "data": {
            "text/plain": [
              "(8, 32)"
            ]
          },
          "metadata": {
            "tags": []
          },
          "execution_count": 6
        }
      ]
    },
    {
      "cell_type": "code",
      "metadata": {
        "colab": {
          "base_uri": "https://localhost:8080/"
        },
        "id": "GQjKmnSzJDS7",
        "outputId": "b01cfbcd-3c72-4dd2-a268-b8a066fbaa2e"
      },
      "source": [
        "df2['매출액'][1] == 3728"
      ],
      "execution_count": null,
      "outputs": [
        {
          "output_type": "execute_result",
          "data": {
            "text/plain": [
              "True"
            ]
          },
          "metadata": {
            "tags": []
          },
          "execution_count": 7
        }
      ]
    },
    {
      "cell_type": "markdown",
      "metadata": {
        "id": "156P6ndeKojO"
      },
      "source": [
        "## 2. 데이터 확인\n",
        "\n",
        "- 데이터의 dimension을 확인하세요.\n",
        "- 데이터의 결측치가 어디에 있는지 확인 후 0으로 대체하세요.\n",
        "- 각 데이터 별로 **FCF**의 값을 barplot으로 시각화하세요.\n",
        "  - 0보다 큰값, 작은값의 수의 총합을 `num1`, `num2`에 저장하세요\n"
      ]
    },
    {
      "cell_type": "code",
      "metadata": {
        "colab": {
          "base_uri": "https://localhost:8080/",
          "height": 310
        },
        "id": "aA9tXleZIFea",
        "outputId": "7af76cef-287a-4b03-eb86-7b054b77b783"
      },
      "source": [
        "df1.fillna(0, inplace=True)\n",
        "#2 barlot 불러오기\n",
        "df1['FCF'].plot.bar();"
      ],
      "execution_count": null,
      "outputs": [
        {
          "output_type": "display_data",
          "data": {
            "image/png": "[encoded data removed]",
            "text/plain": [
              "<Figure size 432x288 with 1 Axes>"
            ]
          },
          "metadata": {
            "tags": [],
            "needs_background": "light"
          }
        }
      ]
    },
    {
      "cell_type": "code",
      "metadata": {
        "colab": {
          "base_uri": "https://localhost:8080/",
          "height": 310
        },
        "id": "v9T3PI6-Iq71",
        "outputId": "1b26b83c-2fea-42ce-dfd1-9db70071aa1a"
      },
      "source": [
        "df2.fillna(0, inplace=True)\n",
        "#2 barplot 불러오기\n",
        "df2['FCF'].plot.bar();"
      ],
      "execution_count": null,
      "outputs": [
        {
          "output_type": "display_data",
          "data": {
            "image/png": "[encoded data removed]",
            "text/plain": [
              "<Figure size 432x288 with 1 Axes>"
            ]
          },
          "metadata": {
            "tags": [],
            "needs_background": "light"
          }
        }
      ]
    },
    {
      "cell_type": "code",
      "metadata": {
        "colab": {
          "base_uri": "https://localhost:8080/"
        },
        "id": "4tHgP8C2Pg0z",
        "outputId": "3e52106a-5a27-42d2-a338-3cf35154b0a4"
      },
      "source": [
        "x1 = len(df1[df1['FCF'] > 0])\n",
        "x2 = len(df2[df2['FCF'] > 0])\n",
        "x3 = len(df1[df1['FCF'] < 0])\n",
        "x4 = len(df2[df2['FCF'] < 0])\n",
        "\n",
        "num1 = x1 + x2\n",
        "num2 = x3 + x4\n",
        "\n",
        "print(num1, num2)"
      ],
      "execution_count": null,
      "outputs": [
        {
          "output_type": "stream",
          "text": [
            "4 6\n"
          ],
          "name": "stdout"
        }
      ]
    },
    {
      "cell_type": "code",
      "metadata": {
        "colab": {
          "base_uri": "https://localhost:8080/"
        },
        "id": "ZINieZ5HJGZq",
        "outputId": "72559976-4db5-42e0-8e11-3fe821accfda"
      },
      "source": [
        "df1.isnull().sum().sum() == 0"
      ],
      "execution_count": null,
      "outputs": [
        {
          "output_type": "execute_result",
          "data": {
            "text/plain": [
              "True"
            ]
          },
          "metadata": {
            "tags": []
          },
          "execution_count": 11
        }
      ]
    },
    {
      "cell_type": "code",
      "metadata": {
        "colab": {
          "base_uri": "https://localhost:8080/"
        },
        "id": "bnurIru4KPTU",
        "outputId": "ee0c707d-aeaa-44c1-b77b-f09b57b3d3f7"
      },
      "source": [
        "df2.isnull().sum().sum() == 0"
      ],
      "execution_count": null,
      "outputs": [
        {
          "output_type": "execute_result",
          "data": {
            "text/plain": [
              "True"
            ]
          },
          "metadata": {
            "tags": []
          },
          "execution_count": 12
        }
      ]
    },
    {
      "cell_type": "code",
      "metadata": {
        "colab": {
          "base_uri": "https://localhost:8080/"
        },
        "id": "0-364Bx0KT2x",
        "outputId": "84efbcdf-3254-4a7a-ce5b-7eccf7cea7cc"
      },
      "source": [
        "num1 == 4 and num2 == 6"
      ],
      "execution_count": null,
      "outputs": [
        {
          "output_type": "execute_result",
          "data": {
            "text/plain": [
              "True"
            ]
          },
          "metadata": {
            "tags": []
          },
          "execution_count": 13
        }
      ]
    },
    {
      "cell_type": "markdown",
      "metadata": {
        "id": "OGMOBwEBTqKS"
      },
      "source": [
        "## 3. File export\n",
        "\n",
        "- 읽었던 엑셀 파일의 내용을 2개의 csv로 각각 출력하세요. (python export csv)\n",
        "\n",
        "  - 이름은 각각 `df1.csv`, `df2.csv` 입니다.\n"
      ]
    },
    {
      "cell_type": "code",
      "metadata": {
        "id": "nRmEu3pBIxFW"
      },
      "source": [
        "df2.to_csv('df1.csv', encoding=\"utf-8-sig\")\n",
        "df1.to_csv('df1.csv', encoding=\"utf-8-sig\")"
      ],
      "execution_count": null,
      "outputs": []
    },
    {
      "cell_type": "markdown",
      "metadata": {
        "id": "DCZ01w4Ps-jO"
      },
      "source": [
        "## 4. Error Handling\n",
        "\n",
        "- 다음의 에러를 고치세요. 결과값은 6912가 나와야합니다.\n"
      ]
    },
    {
      "cell_type": "code",
      "metadata": {
        "colab": {
          "base_uri": "https://localhost:8080/"
        },
        "id": "NJdISe69ZT7E",
        "outputId": "da79b4c3-0e3d-42c6-b92c-0d599a5b9069"
      },
      "source": [
        "#4 Error Handling\n",
        "a = 1234 #'1234'를 1234로 변경\n",
        "b = 5678\n",
        "\n",
        "correct = a+b\n",
        "a+b"
      ],
      "execution_count": null,
      "outputs": [
        {
          "output_type": "execute_result",
          "data": {
            "text/plain": [
              "6912"
            ]
          },
          "metadata": {
            "tags": []
          },
          "execution_count": 9
        }
      ]
    },
    {
      "cell_type": "markdown",
      "metadata": {
        "id": "KROePyMWQc08"
      },
      "source": [
        "## 5. EDA\n",
        "\n",
        "아래의 코드는 palmer penguin 데이터를 불러올 수 있는 코드입니다.\n",
        "\n",
        "```python\n",
        "import seaborn as sns\n",
        "\n",
        "pp = sns.load_dataset('penguins')\n",
        "```\n",
        "\n",
        "이를 참조하여, `pp`의 `species`와 `sex`변수에 대해서 cross-tabulation을 시행하고, 6개의 값들 중 가장 큰 값을 `num3`에, 가장 작은 값을 `num4`에 저장하세요."
      ]
    },
    {
      "cell_type": "code",
      "metadata": {
        "id": "GuENkrLISFeR",
        "colab": {
          "base_uri": "https://localhost:8080/",
          "height": 197
        },
        "outputId": "aba34f55-0d2f-485e-f9da-166842b46746"
      },
      "source": [
        "import seaborn as sns\n",
        "import pandas as pd\n",
        "import os\n",
        "\n",
        "pp = sns.load_dataset(\"penguins\")\n",
        "pp.columns = pp.columns.str.strip() #기존 실행시 spceices와 sex가 data로 인식이 안되어 있어 데이터로 지정\n",
        "x = pd.crosstab(pp.species, pp.sex, margins=True)\n",
        "x\n",
        "\n",
        "\n"
      ],
      "execution_count": null,
      "outputs": [
        {
          "output_type": "execute_result",
          "data": {
            "text/html": [
              "<div>\n",
              "<style scoped>\n",
              "    .dataframe tbody tr th:only-of-type {\n",
              "        vertical-align: middle;\n",
              "    }\n",
              "\n",
              "    .dataframe tbody tr th {\n",
              "        vertical-align: top;\n",
              "    }\n",
              "\n",
              "    .dataframe thead th {\n",
              "        text-align: right;\n",
              "    }\n",
              "</style>\n",
              "<table border=\"1\" class=\"dataframe\">\n",
              "  <thead>\n",
              "    <tr style=\"text-align: right;\">\n",
              "      <th>sex</th>\n",
              "      <th>Female</th>\n",
              "      <th>Male</th>\n",
              "      <th>All</th>\n",
              "    </tr>\n",
              "    <tr>\n",
              "      <th>species</th>\n",
              "      <th></th>\n",
              "      <th></th>\n",
              "      <th></th>\n",
              "    </tr>\n",
              "  </thead>\n",
              "  <tbody>\n",
              "    <tr>\n",
              "      <th>Adelie</th>\n",
              "      <td>73</td>\n",
              "      <td>73</td>\n",
              "      <td>146</td>\n",
              "    </tr>\n",
              "    <tr>\n",
              "      <th>Chinstrap</th>\n",
              "      <td>34</td>\n",
              "      <td>34</td>\n",
              "      <td>68</td>\n",
              "    </tr>\n",
              "    <tr>\n",
              "      <th>Gentoo</th>\n",
              "      <td>58</td>\n",
              "      <td>61</td>\n",
              "      <td>119</td>\n",
              "    </tr>\n",
              "    <tr>\n",
              "      <th>All</th>\n",
              "      <td>165</td>\n",
              "      <td>168</td>\n",
              "      <td>333</td>\n",
              "    </tr>\n",
              "  </tbody>\n",
              "</table>\n",
              "</div>"
            ],
            "text/plain": [
              "sex        Female  Male  All\n",
              "species                     \n",
              "Adelie         73    73  146\n",
              "Chinstrap      34    34   68\n",
              "Gentoo         58    61  119\n",
              "All           165   168  333"
            ]
          },
          "metadata": {
            "tags": []
          },
          "execution_count": 8
        }
      ]
    },
    {
      "cell_type": "code",
      "metadata": {
        "id": "i33cTCXDN4AD"
      },
      "source": [
        "num3 = 73\n",
        "num4 = 34"
      ],
      "execution_count": null,
      "outputs": []
    },
    {
      "cell_type": "code",
      "metadata": {
        "colab": {
          "base_uri": "https://localhost:8080/"
        },
        "id": "oPWXuNVbK7aE",
        "outputId": "78786e33-18d8-4c26-f75a-9133ac2b3621"
      },
      "source": [
        "(num3 == 73)"
      ],
      "execution_count": null,
      "outputs": [
        {
          "output_type": "execute_result",
          "data": {
            "text/plain": [
              "True"
            ]
          },
          "metadata": {
            "tags": []
          },
          "execution_count": 18
        }
      ]
    },
    {
      "cell_type": "code",
      "metadata": {
        "colab": {
          "base_uri": "https://localhost:8080/"
        },
        "id": "L2fToHaqLDps",
        "outputId": "bbc5e329-e2f9-4c65-f9f0-98b3c5ef7f09"
      },
      "source": [
        "(num4 == 34)"
      ],
      "execution_count": null,
      "outputs": [
        {
          "output_type": "execute_result",
          "data": {
            "text/plain": [
              "True"
            ]
          },
          "metadata": {
            "tags": []
          },
          "execution_count": 19
        }
      ]
    },
    {
      "cell_type": "code",
      "metadata": {
        "colab": {
          "base_uri": "https://localhost:8080/"
        },
        "id": "WmmKrwkeeqqj",
        "outputId": "61d86d87-f8ff-4b99-e994-695a73c5cb68"
      },
      "source": [
        "os.listdir() == ['.config', 'df2.csv', 'df1.csv', 'sample_data']"
      ],
      "execution_count": null,
      "outputs": [
        {
          "output_type": "execute_result",
          "data": {
            "text/plain": [
              "False"
            ]
          },
          "metadata": {
            "tags": []
          },
          "execution_count": 23
        }
      ]
    },
    {
      "cell_type": "markdown",
      "metadata": {
        "id": "en0Q_b5L4fxA"
      },
      "source": [
        "## Grading\n",
        "\n",
        "이전 과제를 완료했다면, 아래의 코드를 실행하세요. "
      ]
    },
    {
      "cell_type": "code",
      "metadata": {
        "id": "1k3zn-YV4fdg"
      },
      "source": [
        "import os\n",
        "\n",
        "def grade(df1, df2, num1, num2, num3, num4):\n",
        "  score = 0\n",
        "  \n",
        "  score += (df1['매출액'][0] == 14753)\n",
        "  score += (df2['매출액'][1] == 3728)\n",
        "\n",
        "  score += (df1.shape == (8, 32))\n",
        "  score += (df2.isnull().sum().sum() == 0)\n",
        "  score += (num1 == 4 and num2 == 6)\n",
        "  \n",
        "  score += (num3 == 73 and num4 == 34)\n",
        "\n",
        "  score += (os.listdir() == ['.config', 'df2.csv', 'df1.csv', 'sample_data'])\n",
        "\n",
        "  score += (a+b == 6912)\n",
        "\n",
        "  return(score)"
      ],
      "execution_count": null,
      "outputs": []
    },
    {
      "cell_type": "code",
      "metadata": {
        "id": "nj_RslFn4lCM",
        "colab": {
          "base_uri": "https://localhost:8080/"
        },
        "outputId": "168e6123-de2b-40a5-d58e-d3108038ec9a"
      },
      "source": [
        "grade(df1, df2, num1, num2, num3, num4)"
      ],
      "execution_count": null,
      "outputs": [
        {
          "output_type": "execute_result",
          "data": {
            "text/plain": [
              "5"
            ]
          },
          "metadata": {
            "tags": []
          },
          "execution_count": 14
        }
      ]
    },
    {
      "cell_type": "markdown",
      "metadata": {
        "id": "axPHh5t5s124"
      },
      "source": [
        "## 🔥 도전과제 \n",
        "\n",
        "- 다음 데이터를 사용하여 아래와 동일한 그래프를 그리세요.\n",
        "\n",
        "<https://ds-lecture-data.s3.ap-northeast-2.amazonaws.com/stocks/TSLA.csv>\n",
        "\n",
        "<img src='https://i.imgur.com/UsS5JcZ.png'>\n",
        "\n"
      ]
    },
    {
      "cell_type": "code",
      "metadata": {
        "id": "eNGiylrhwm2D",
        "colab": {
          "base_uri": "https://localhost:8080/",
          "height": 406
        },
        "outputId": "a541614d-b4d9-4259-afec-666e6cc0cf33"
      },
      "source": [
        "#데이터 셋 불러오기\n",
        "tsla_data_url = 'https://ds-lecture-data.s3.ap-northeast-2.amazonaws.com/stocks/TSLA.csv'\n",
        "\n",
        "import pandas as pd\n",
        "import matplotlib.pyplot as plt\n",
        "\n",
        "\n",
        "tsla.set_index('Date')\n",
        "tsla_date_close = tsla[['Date','Close']]\n",
        "tsla_date_close"
      ],
      "execution_count": null,
      "outputs": [
        {
          "output_type": "execute_result",
          "data": {
            "text/html": [
              "<div>\n",
              "<style scoped>\n",
              "    .dataframe tbody tr th:only-of-type {\n",
              "        vertical-align: middle;\n",
              "    }\n",
              "\n",
              "    .dataframe tbody tr th {\n",
              "        vertical-align: top;\n",
              "    }\n",
              "\n",
              "    .dataframe thead th {\n",
              "        text-align: right;\n",
              "    }\n",
              "</style>\n",
              "<table border=\"1\" class=\"dataframe\">\n",
              "  <thead>\n",
              "    <tr style=\"text-align: right;\">\n",
              "      <th></th>\n",
              "      <th>Date</th>\n",
              "      <th>Close</th>\n",
              "    </tr>\n",
              "  </thead>\n",
              "  <tbody>\n",
              "    <tr>\n",
              "      <th>0</th>\n",
              "      <td>2010-06-29</td>\n",
              "      <td>23.889999</td>\n",
              "    </tr>\n",
              "    <tr>\n",
              "      <th>1</th>\n",
              "      <td>2010-06-30</td>\n",
              "      <td>23.830000</td>\n",
              "    </tr>\n",
              "    <tr>\n",
              "      <th>2</th>\n",
              "      <td>2010-07-01</td>\n",
              "      <td>21.959999</td>\n",
              "    </tr>\n",
              "    <tr>\n",
              "      <th>3</th>\n",
              "      <td>2010-07-02</td>\n",
              "      <td>19.200001</td>\n",
              "    </tr>\n",
              "    <tr>\n",
              "      <th>4</th>\n",
              "      <td>2010-07-06</td>\n",
              "      <td>16.110001</td>\n",
              "    </tr>\n",
              "    <tr>\n",
              "      <th>...</th>\n",
              "      <td>...</td>\n",
              "      <td>...</td>\n",
              "    </tr>\n",
              "    <tr>\n",
              "      <th>2411</th>\n",
              "      <td>2020-01-28</td>\n",
              "      <td>566.900024</td>\n",
              "    </tr>\n",
              "    <tr>\n",
              "      <th>2412</th>\n",
              "      <td>2020-01-29</td>\n",
              "      <td>580.989990</td>\n",
              "    </tr>\n",
              "    <tr>\n",
              "      <th>2413</th>\n",
              "      <td>2020-01-30</td>\n",
              "      <td>640.809998</td>\n",
              "    </tr>\n",
              "    <tr>\n",
              "      <th>2414</th>\n",
              "      <td>2020-01-31</td>\n",
              "      <td>650.570007</td>\n",
              "    </tr>\n",
              "    <tr>\n",
              "      <th>2415</th>\n",
              "      <td>2020-02-03</td>\n",
              "      <td>780.000000</td>\n",
              "    </tr>\n",
              "  </tbody>\n",
              "</table>\n",
              "<p>2416 rows × 2 columns</p>\n",
              "</div>"
            ],
            "text/plain": [
              "            Date       Close\n",
              "0     2010-06-29   23.889999\n",
              "1     2010-06-30   23.830000\n",
              "2     2010-07-01   21.959999\n",
              "3     2010-07-02   19.200001\n",
              "4     2010-07-06   16.110001\n",
              "...          ...         ...\n",
              "2411  2020-01-28  566.900024\n",
              "2412  2020-01-29  580.989990\n",
              "2413  2020-01-30  640.809998\n",
              "2414  2020-01-31  650.570007\n",
              "2415  2020-02-03  780.000000\n",
              "\n",
              "[2416 rows x 2 columns]"
            ]
          },
          "metadata": {
            "tags": []
          },
          "execution_count": 264
        }
      ]
    },
    {
      "cell_type": "code",
      "metadata": {
        "colab": {
          "base_uri": "https://localhost:8080/",
          "height": 267
        },
        "id": "0nuDfcCFXM6R",
        "outputId": "f0ed08bd-7023-4ffc-c218-02709cda6998"
      },
      "source": [
        "tsla_date_close.plot();"
      ],
      "execution_count": null,
      "outputs": [
        {
          "output_type": "display_data",
          "data": {
            "image/png": "[encoded data removed]",
            "text/plain": [
              "<Figure size 432x288 with 1 Axes>"
            ]
          },
          "metadata": {
            "tags": []
          }
        }
      ]
    },
    {
      "cell_type": "markdown",
      "metadata": {
        "id": "Obp0rnowSgF8"
      },
      "source": [
        "- penguins 데이터를 계속 사용합니다.\n",
        "\n",
        "이에 대해 아래의 task들을 시행하세요.\n",
        "\n",
        "- 결측치 처리 (제거)\n",
        "\n",
        "- bill_length_mm에 대해서 qqplot 그리기\n",
        "\n",
        "- island에 대해서 다른 4개의 numerical feature 를 boxplot으로 표현하기\n",
        "\n",
        "- 각 numerical feature에 대해서 summary statistics : mean, sd, Quantiles(1Q, 2Q, 3Q, 4Q)를 계산하세요."
      ]
    },
    {
      "cell_type": "code",
      "metadata": {
        "id": "0tVL1EYBTS45",
        "colab": {
          "base_uri": "https://localhost:8080/"
        },
        "outputId": "51cb2664-8ba0-4817-a7ea-2585f9692d78"
      },
      "source": [
        "pp\n",
        "new_pp = pp['bill_length_mm']\n",
        "new_pp\n",
        "\n"
      ],
      "execution_count": null,
      "outputs": [
        {
          "output_type": "execute_result",
          "data": {
            "text/plain": [
              "0      39.1\n",
              "1      39.5\n",
              "2      40.3\n",
              "3       NaN\n",
              "4      36.7\n",
              "       ... \n",
              "339     NaN\n",
              "340    46.8\n",
              "341    50.4\n",
              "342    45.2\n",
              "343    49.9\n",
              "Name: bill_length_mm, Length: 344, dtype: float64"
            ]
          },
          "metadata": {
            "tags": []
          },
          "execution_count": 263
        }
      ]
    }
  ]
}