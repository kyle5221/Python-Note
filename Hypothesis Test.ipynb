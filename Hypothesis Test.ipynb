{
  "nbformat": 4,
  "nbformat_minor": 0,
  "metadata": {
    "colab": {
      "name": "n121a-hypothesis-test.ipynb",
      "provenance": []
    },
    "kernelspec": {
      "display_name": "Python 3",
      "language": "python",
      "name": "python3"
    },
    "language_info": {
      "codemirror_mode": {
        "name": "ipython",
        "version": 3
      },
      "file_extension": ".py",
      "mimetype": "text/x-python",
      "name": "python",
      "nbconvert_exporter": "python",
      "pygments_lexer": "ipython3",
      "version": "3.8.2"
    }
  },
  "cells": [
    {
      "cell_type": "markdown",
      "metadata": {
        "id": "Sa5KWMO1ngPN"
      },
      "source": [
        "<img src='https://i.imgur.com/RDAD11M.png' width = '200' align = 'right'>\n",
        "\n",
        "## *DATA SCIENCE / SECTION 1 / SPRINT 2 / NOTE 1*\n",
        "\n",
        "# 📝 Assignment"
      ]
    },
    {
      "cell_type": "code",
      "metadata": {
        "colab": {
          "base_uri": "https://localhost:8080/"
        },
        "id": "5RRBtC2nMx0Y",
        "outputId": "c2bc18fe-5c53-4532-fd7f-8c35b3cd3515"
      },
      "source": [
        "!sudo apt-get install -y fonts-nanum\n",
        "!sudo fc-cache -fv\n",
        "!rm ~/.cache/matplotlib -rf"
      ],
      "execution_count": null,
      "outputs": [
        {
          "output_type": "stream",
          "text": [
            "Reading package lists... Done\n",
            "Building dependency tree       \n",
            "Reading state information... Done\n",
            "The following package was automatically installed and is no longer required:\n",
            "  libnvidia-common-460\n",
            "Use 'sudo apt autoremove' to remove it.\n",
            "The following NEW packages will be installed:\n",
            "  fonts-nanum\n",
            "0 upgraded, 1 newly installed, 0 to remove and 34 not upgraded.\n",
            "Need to get 9,604 kB of archives.\n",
            "After this operation, 29.5 MB of additional disk space will be used.\n",
            "Get:1 http://archive.ubuntu.com/ubuntu bionic/universe amd64 fonts-nanum all 20170925-1 [9,604 kB]\n",
            "Fetched 9,604 kB in 2s (5,523 kB/s)\n",
            "debconf: unable to initialize frontend: Dialog\n",
            "debconf: (No usable dialog-like program is installed, so the dialog based frontend cannot be used. at /usr/share/perl5/Debconf/FrontEnd/Dialog.pm line 76, <> line 1.)\n",
            "debconf: falling back to frontend: Readline\n",
            "debconf: unable to initialize frontend: Readline\n",
            "debconf: (This frontend requires a controlling tty.)\n",
            "debconf: falling back to frontend: Teletype\n",
            "dpkg-preconfigure: unable to re-open stdin: \n",
            "Selecting previously unselected package fonts-nanum.\n",
            "(Reading database ... 160706 files and directories currently installed.)\n",
            "Preparing to unpack .../fonts-nanum_20170925-1_all.deb ...\n",
            "Unpacking fonts-nanum (20170925-1) ...\n",
            "Setting up fonts-nanum (20170925-1) ...\n",
            "Processing triggers for fontconfig (2.12.6-0ubuntu2) ...\n",
            "/usr/share/fonts: caching, new cache contents: 0 fonts, 1 dirs\n",
            "/usr/share/fonts/truetype: caching, new cache contents: 0 fonts, 3 dirs\n",
            "/usr/share/fonts/truetype/humor-sans: caching, new cache contents: 1 fonts, 0 dirs\n",
            "/usr/share/fonts/truetype/liberation: caching, new cache contents: 16 fonts, 0 dirs\n",
            "/usr/share/fonts/truetype/nanum: caching, new cache contents: 10 fonts, 0 dirs\n",
            "/usr/local/share/fonts: caching, new cache contents: 0 fonts, 0 dirs\n",
            "/root/.local/share/fonts: skipping, no such directory\n",
            "/root/.fonts: skipping, no such directory\n",
            "/var/cache/fontconfig: cleaning cache directory\n",
            "/root/.cache/fontconfig: not cleaning non-existent cache directory\n",
            "/root/.fontconfig: not cleaning non-existent cache directory\n",
            "fc-cache: succeeded\n"
          ],
          "name": "stdout"
        }
      ]
    },
    {
      "cell_type": "code",
      "metadata": {
        "id": "joWUKpVAM25R"
      },
      "source": [
        "#barplot 한글 깨짐 해결을 위한 한글 폰트 불러오기\n",
        "import matplotlib.pyplot as plt\n",
        "\n",
        "plt.rc('font', family='NanumBarunGothic')\n",
        "plt.rc('axes', unicode_minus=False)"
      ],
      "execution_count": null,
      "outputs": []
    },
    {
      "cell_type": "markdown",
      "metadata": {
        "id": "eeUNL9UKRWbZ"
      },
      "source": [
        "# 가설 검정"
      ]
    },
    {
      "cell_type": "markdown",
      "metadata": {
        "id": "gZDO3KBZOJNp"
      },
      "source": [
        "## 1. One-Sample T-test 연습"
      ]
    },
    {
      "cell_type": "markdown",
      "metadata": {
        "id": "CdRkOn9X5BdF"
      },
      "source": [
        "### 데이터 불러오기\n",
        "- [서울시 가로수 데이터셋](https://data.seoul.go.kr/dataList/367/S/2/datasetView.do)을 사용합니다.\n",
        "\n",
        "다음 링크를 참조하세요. \n",
        "<https://ds-lecture-data.s3.ap-northeast-2.amazonaws.com/seoul_tree/seoul_tree.txt>\n"
      ]
    },
    {
      "cell_type": "code",
      "metadata": {
        "id": "bd5YFp7Xvu8P",
        "colab": {
          "base_uri": "https://localhost:8080/",
          "height": 1000
        },
        "outputId": "9d853c4f-1dd8-4011-8581-87520f5ae5ef"
      },
      "source": [
        "#데이터 셋 불러오기\n",
        "\n",
        "import pandas as pd\n",
        "import numpy as np\n",
        "trees = pd.read_csv('https://ds-lecture-data.s3.ap-northeast-2.amazonaws.com/seoul_tree/seoul_tree.txt', sep = '\\t', skiprows = 1, thousands = ',')\n",
        "trees = trees.replace({'-':0})\n",
        "\n",
        "trees"
      ],
      "execution_count": null,
      "outputs": [
        {
          "output_type": "execute_result",
          "data": {
            "text/html": [
              "<div>\n",
              "<style scoped>\n",
              "    .dataframe tbody tr th:only-of-type {\n",
              "        vertical-align: middle;\n",
              "    }\n",
              "\n",
              "    .dataframe tbody tr th {\n",
              "        vertical-align: top;\n",
              "    }\n",
              "\n",
              "    .dataframe thead th {\n",
              "        text-align: right;\n",
              "    }\n",
              "</style>\n",
              "<table border=\"1\" class=\"dataframe\">\n",
              "  <thead>\n",
              "    <tr style=\"text-align: right;\">\n",
              "      <th></th>\n",
              "      <th>기간</th>\n",
              "      <th>자치구</th>\n",
              "      <th>노선수</th>\n",
              "      <th>수량</th>\n",
              "      <th>은행나무</th>\n",
              "      <th>양버즘나무</th>\n",
              "      <th>느티나무</th>\n",
              "      <th>왕벚나무</th>\n",
              "      <th>은단풍나무</th>\n",
              "      <th>메타세콰이어</th>\n",
              "      <th>회화나무</th>\n",
              "      <th>가죽나무</th>\n",
              "      <th>감나무</th>\n",
              "      <th>수양버들</th>\n",
              "      <th>튜울립나무</th>\n",
              "      <th>칠엽수</th>\n",
              "      <th>포플러</th>\n",
              "      <th>느릅나무</th>\n",
              "      <th>살구나무</th>\n",
              "      <th>무궁화</th>\n",
              "      <th>소나무</th>\n",
              "      <th>목련</th>\n",
              "      <th>이팝나무</th>\n",
              "      <th>기타</th>\n",
              "    </tr>\n",
              "  </thead>\n",
              "  <tbody>\n",
              "    <tr>\n",
              "      <th>0</th>\n",
              "      <td>2019</td>\n",
              "      <td>서울시</td>\n",
              "      <td>1412</td>\n",
              "      <td>307351</td>\n",
              "      <td>108050</td>\n",
              "      <td>62474</td>\n",
              "      <td>37473</td>\n",
              "      <td>34,150</td>\n",
              "      <td>545</td>\n",
              "      <td>5,171</td>\n",
              "      <td>7,816</td>\n",
              "      <td>52</td>\n",
              "      <td>871</td>\n",
              "      <td>32</td>\n",
              "      <td>948</td>\n",
              "      <td>1,533</td>\n",
              "      <td>7</td>\n",
              "      <td>504</td>\n",
              "      <td>234</td>\n",
              "      <td>2,374</td>\n",
              "      <td>4,539</td>\n",
              "      <td>378</td>\n",
              "      <td>20088</td>\n",
              "      <td>20,112</td>\n",
              "    </tr>\n",
              "    <tr>\n",
              "      <th>1</th>\n",
              "      <td>2019</td>\n",
              "      <td>종로구</td>\n",
              "      <td>70</td>\n",
              "      <td>7329</td>\n",
              "      <td>4072</td>\n",
              "      <td>1071</td>\n",
              "      <td>619</td>\n",
              "      <td>421</td>\n",
              "      <td>0</td>\n",
              "      <td>1</td>\n",
              "      <td>140</td>\n",
              "      <td>1</td>\n",
              "      <td>0</td>\n",
              "      <td>8</td>\n",
              "      <td>0</td>\n",
              "      <td>17</td>\n",
              "      <td>0</td>\n",
              "      <td>0</td>\n",
              "      <td>0</td>\n",
              "      <td>0</td>\n",
              "      <td>239</td>\n",
              "      <td>0</td>\n",
              "      <td>711</td>\n",
              "      <td>29</td>\n",
              "    </tr>\n",
              "    <tr>\n",
              "      <th>2</th>\n",
              "      <td>2019</td>\n",
              "      <td>중구</td>\n",
              "      <td>48</td>\n",
              "      <td>8250</td>\n",
              "      <td>3640</td>\n",
              "      <td>162</td>\n",
              "      <td>460</td>\n",
              "      <td>289</td>\n",
              "      <td>0</td>\n",
              "      <td>0</td>\n",
              "      <td>176</td>\n",
              "      <td>0</td>\n",
              "      <td>0</td>\n",
              "      <td>0</td>\n",
              "      <td>7</td>\n",
              "      <td>0</td>\n",
              "      <td>0</td>\n",
              "      <td>0</td>\n",
              "      <td>21</td>\n",
              "      <td>46</td>\n",
              "      <td>2,162</td>\n",
              "      <td>0</td>\n",
              "      <td>470</td>\n",
              "      <td>817</td>\n",
              "    </tr>\n",
              "    <tr>\n",
              "      <th>3</th>\n",
              "      <td>2019</td>\n",
              "      <td>용산구</td>\n",
              "      <td>39</td>\n",
              "      <td>7835</td>\n",
              "      <td>4444</td>\n",
              "      <td>1422</td>\n",
              "      <td>373</td>\n",
              "      <td>262</td>\n",
              "      <td>0</td>\n",
              "      <td>0</td>\n",
              "      <td>37</td>\n",
              "      <td>0</td>\n",
              "      <td>74</td>\n",
              "      <td>0</td>\n",
              "      <td>13</td>\n",
              "      <td>16</td>\n",
              "      <td>0</td>\n",
              "      <td>0</td>\n",
              "      <td>39</td>\n",
              "      <td>0</td>\n",
              "      <td>51</td>\n",
              "      <td>126</td>\n",
              "      <td>198</td>\n",
              "      <td>780</td>\n",
              "    </tr>\n",
              "    <tr>\n",
              "      <th>4</th>\n",
              "      <td>2019</td>\n",
              "      <td>성동구</td>\n",
              "      <td>38</td>\n",
              "      <td>8120</td>\n",
              "      <td>1090</td>\n",
              "      <td>2401</td>\n",
              "      <td>1975</td>\n",
              "      <td>602</td>\n",
              "      <td>29</td>\n",
              "      <td>48</td>\n",
              "      <td>325</td>\n",
              "      <td>33</td>\n",
              "      <td>146</td>\n",
              "      <td>0</td>\n",
              "      <td>0</td>\n",
              "      <td>1</td>\n",
              "      <td>3</td>\n",
              "      <td>59</td>\n",
              "      <td>0</td>\n",
              "      <td>0</td>\n",
              "      <td>53</td>\n",
              "      <td>0</td>\n",
              "      <td>709</td>\n",
              "      <td>646</td>\n",
              "    </tr>\n",
              "    <tr>\n",
              "      <th>5</th>\n",
              "      <td>2019</td>\n",
              "      <td>광진구</td>\n",
              "      <td>28</td>\n",
              "      <td>7223</td>\n",
              "      <td>1247</td>\n",
              "      <td>2306</td>\n",
              "      <td>1057</td>\n",
              "      <td>940</td>\n",
              "      <td>0</td>\n",
              "      <td>0</td>\n",
              "      <td>153</td>\n",
              "      <td>0</td>\n",
              "      <td>25</td>\n",
              "      <td>0</td>\n",
              "      <td>58</td>\n",
              "      <td>101</td>\n",
              "      <td>0</td>\n",
              "      <td>0</td>\n",
              "      <td>0</td>\n",
              "      <td>0</td>\n",
              "      <td>20</td>\n",
              "      <td>113</td>\n",
              "      <td>760</td>\n",
              "      <td>443</td>\n",
              "    </tr>\n",
              "    <tr>\n",
              "      <th>6</th>\n",
              "      <td>2019</td>\n",
              "      <td>동대문구</td>\n",
              "      <td>43</td>\n",
              "      <td>10664</td>\n",
              "      <td>3749</td>\n",
              "      <td>3342</td>\n",
              "      <td>855</td>\n",
              "      <td>747</td>\n",
              "      <td>0</td>\n",
              "      <td>60</td>\n",
              "      <td>143</td>\n",
              "      <td>7</td>\n",
              "      <td>38</td>\n",
              "      <td>7</td>\n",
              "      <td>37</td>\n",
              "      <td>19</td>\n",
              "      <td>0</td>\n",
              "      <td>1</td>\n",
              "      <td>26</td>\n",
              "      <td>1</td>\n",
              "      <td>0</td>\n",
              "      <td>0</td>\n",
              "      <td>1176</td>\n",
              "      <td>456</td>\n",
              "    </tr>\n",
              "    <tr>\n",
              "      <th>7</th>\n",
              "      <td>2019</td>\n",
              "      <td>중랑구</td>\n",
              "      <td>57</td>\n",
              "      <td>8365</td>\n",
              "      <td>2774</td>\n",
              "      <td>2759</td>\n",
              "      <td>471</td>\n",
              "      <td>354</td>\n",
              "      <td>0</td>\n",
              "      <td>74</td>\n",
              "      <td>0</td>\n",
              "      <td>0</td>\n",
              "      <td>52</td>\n",
              "      <td>0</td>\n",
              "      <td>0</td>\n",
              "      <td>0</td>\n",
              "      <td>0</td>\n",
              "      <td>0</td>\n",
              "      <td>0</td>\n",
              "      <td>212</td>\n",
              "      <td>64</td>\n",
              "      <td>0</td>\n",
              "      <td>449</td>\n",
              "      <td>1,156</td>\n",
              "    </tr>\n",
              "    <tr>\n",
              "      <th>8</th>\n",
              "      <td>2019</td>\n",
              "      <td>성북구</td>\n",
              "      <td>78</td>\n",
              "      <td>8449</td>\n",
              "      <td>2722</td>\n",
              "      <td>1282</td>\n",
              "      <td>1014</td>\n",
              "      <td>1,656</td>\n",
              "      <td>66</td>\n",
              "      <td>65</td>\n",
              "      <td>38</td>\n",
              "      <td>0</td>\n",
              "      <td>91</td>\n",
              "      <td>0</td>\n",
              "      <td>4</td>\n",
              "      <td>0</td>\n",
              "      <td>0</td>\n",
              "      <td>0</td>\n",
              "      <td>9</td>\n",
              "      <td>5</td>\n",
              "      <td>97</td>\n",
              "      <td>0</td>\n",
              "      <td>853</td>\n",
              "      <td>547</td>\n",
              "    </tr>\n",
              "    <tr>\n",
              "      <th>9</th>\n",
              "      <td>2019</td>\n",
              "      <td>강북구</td>\n",
              "      <td>31</td>\n",
              "      <td>7789</td>\n",
              "      <td>3510</td>\n",
              "      <td>934</td>\n",
              "      <td>324</td>\n",
              "      <td>497</td>\n",
              "      <td>284</td>\n",
              "      <td>0</td>\n",
              "      <td>103</td>\n",
              "      <td>0</td>\n",
              "      <td>0</td>\n",
              "      <td>0</td>\n",
              "      <td>5</td>\n",
              "      <td>0</td>\n",
              "      <td>0</td>\n",
              "      <td>140</td>\n",
              "      <td>0</td>\n",
              "      <td>0</td>\n",
              "      <td>1,007</td>\n",
              "      <td>0</td>\n",
              "      <td>575</td>\n",
              "      <td>410</td>\n",
              "    </tr>\n",
              "    <tr>\n",
              "      <th>10</th>\n",
              "      <td>2019</td>\n",
              "      <td>도봉구</td>\n",
              "      <td>63</td>\n",
              "      <td>9572</td>\n",
              "      <td>4914</td>\n",
              "      <td>323</td>\n",
              "      <td>779</td>\n",
              "      <td>2,095</td>\n",
              "      <td>6</td>\n",
              "      <td>61</td>\n",
              "      <td>32</td>\n",
              "      <td>0</td>\n",
              "      <td>0</td>\n",
              "      <td>1</td>\n",
              "      <td>15</td>\n",
              "      <td>0</td>\n",
              "      <td>0</td>\n",
              "      <td>0</td>\n",
              "      <td>0</td>\n",
              "      <td>214</td>\n",
              "      <td>15</td>\n",
              "      <td>0</td>\n",
              "      <td>47</td>\n",
              "      <td>1,070</td>\n",
              "    </tr>\n",
              "    <tr>\n",
              "      <th>11</th>\n",
              "      <td>2019</td>\n",
              "      <td>노원구</td>\n",
              "      <td>50</td>\n",
              "      <td>14489</td>\n",
              "      <td>6505</td>\n",
              "      <td>3336</td>\n",
              "      <td>1165</td>\n",
              "      <td>1,612</td>\n",
              "      <td>0</td>\n",
              "      <td>285</td>\n",
              "      <td>41</td>\n",
              "      <td>0</td>\n",
              "      <td>1</td>\n",
              "      <td>0</td>\n",
              "      <td>0</td>\n",
              "      <td>0</td>\n",
              "      <td>0</td>\n",
              "      <td>26</td>\n",
              "      <td>58</td>\n",
              "      <td>150</td>\n",
              "      <td>32</td>\n",
              "      <td>1</td>\n",
              "      <td>142</td>\n",
              "      <td>1,135</td>\n",
              "    </tr>\n",
              "    <tr>\n",
              "      <th>12</th>\n",
              "      <td>2019</td>\n",
              "      <td>은평구</td>\n",
              "      <td>35</td>\n",
              "      <td>9880</td>\n",
              "      <td>4324</td>\n",
              "      <td>1653</td>\n",
              "      <td>680</td>\n",
              "      <td>1,748</td>\n",
              "      <td>0</td>\n",
              "      <td>16</td>\n",
              "      <td>422</td>\n",
              "      <td>0</td>\n",
              "      <td>0</td>\n",
              "      <td>0</td>\n",
              "      <td>0</td>\n",
              "      <td>9</td>\n",
              "      <td>0</td>\n",
              "      <td>0</td>\n",
              "      <td>0</td>\n",
              "      <td>3</td>\n",
              "      <td>0</td>\n",
              "      <td>0</td>\n",
              "      <td>443</td>\n",
              "      <td>582</td>\n",
              "    </tr>\n",
              "    <tr>\n",
              "      <th>13</th>\n",
              "      <td>2019</td>\n",
              "      <td>서대문구</td>\n",
              "      <td>39</td>\n",
              "      <td>8627</td>\n",
              "      <td>3474</td>\n",
              "      <td>1890</td>\n",
              "      <td>721</td>\n",
              "      <td>732</td>\n",
              "      <td>0</td>\n",
              "      <td>25</td>\n",
              "      <td>80</td>\n",
              "      <td>0</td>\n",
              "      <td>3</td>\n",
              "      <td>0</td>\n",
              "      <td>10</td>\n",
              "      <td>5</td>\n",
              "      <td>4</td>\n",
              "      <td>0</td>\n",
              "      <td>0</td>\n",
              "      <td>70</td>\n",
              "      <td>0</td>\n",
              "      <td>0</td>\n",
              "      <td>493</td>\n",
              "      <td>1,120</td>\n",
              "    </tr>\n",
              "    <tr>\n",
              "      <th>14</th>\n",
              "      <td>2019</td>\n",
              "      <td>마포구</td>\n",
              "      <td>92</td>\n",
              "      <td>14538</td>\n",
              "      <td>3353</td>\n",
              "      <td>3581</td>\n",
              "      <td>3056</td>\n",
              "      <td>1,096</td>\n",
              "      <td>0</td>\n",
              "      <td>474</td>\n",
              "      <td>967</td>\n",
              "      <td>0</td>\n",
              "      <td>102</td>\n",
              "      <td>0</td>\n",
              "      <td>0</td>\n",
              "      <td>0</td>\n",
              "      <td>0</td>\n",
              "      <td>0</td>\n",
              "      <td>64</td>\n",
              "      <td>0</td>\n",
              "      <td>124</td>\n",
              "      <td>93</td>\n",
              "      <td>1280</td>\n",
              "      <td>348</td>\n",
              "    </tr>\n",
              "    <tr>\n",
              "      <th>15</th>\n",
              "      <td>2019</td>\n",
              "      <td>양천구</td>\n",
              "      <td>69</td>\n",
              "      <td>13501</td>\n",
              "      <td>5622</td>\n",
              "      <td>3992</td>\n",
              "      <td>1065</td>\n",
              "      <td>956</td>\n",
              "      <td>0</td>\n",
              "      <td>74</td>\n",
              "      <td>176</td>\n",
              "      <td>0</td>\n",
              "      <td>36</td>\n",
              "      <td>0</td>\n",
              "      <td>0</td>\n",
              "      <td>4</td>\n",
              "      <td>0</td>\n",
              "      <td>0</td>\n",
              "      <td>0</td>\n",
              "      <td>197</td>\n",
              "      <td>0</td>\n",
              "      <td>0</td>\n",
              "      <td>784</td>\n",
              "      <td>595</td>\n",
              "    </tr>\n",
              "    <tr>\n",
              "      <th>16</th>\n",
              "      <td>2019</td>\n",
              "      <td>강서구</td>\n",
              "      <td>55</td>\n",
              "      <td>13719</td>\n",
              "      <td>3977</td>\n",
              "      <td>706</td>\n",
              "      <td>2231</td>\n",
              "      <td>2,508</td>\n",
              "      <td>0</td>\n",
              "      <td>1,651</td>\n",
              "      <td>201</td>\n",
              "      <td>0</td>\n",
              "      <td>0</td>\n",
              "      <td>0</td>\n",
              "      <td>0</td>\n",
              "      <td>110</td>\n",
              "      <td>0</td>\n",
              "      <td>0</td>\n",
              "      <td>0</td>\n",
              "      <td>59</td>\n",
              "      <td>282</td>\n",
              "      <td>0</td>\n",
              "      <td>1426</td>\n",
              "      <td>568</td>\n",
              "    </tr>\n",
              "    <tr>\n",
              "      <th>17</th>\n",
              "      <td>2019</td>\n",
              "      <td>구로구</td>\n",
              "      <td>81</td>\n",
              "      <td>11548</td>\n",
              "      <td>3594</td>\n",
              "      <td>1527</td>\n",
              "      <td>1884</td>\n",
              "      <td>2,157</td>\n",
              "      <td>13</td>\n",
              "      <td>3</td>\n",
              "      <td>0</td>\n",
              "      <td>0</td>\n",
              "      <td>0</td>\n",
              "      <td>5</td>\n",
              "      <td>0</td>\n",
              "      <td>17</td>\n",
              "      <td>0</td>\n",
              "      <td>0</td>\n",
              "      <td>0</td>\n",
              "      <td>0</td>\n",
              "      <td>30</td>\n",
              "      <td>26</td>\n",
              "      <td>1082</td>\n",
              "      <td>1,210</td>\n",
              "    </tr>\n",
              "    <tr>\n",
              "      <th>18</th>\n",
              "      <td>2019</td>\n",
              "      <td>금천구</td>\n",
              "      <td>30</td>\n",
              "      <td>6603</td>\n",
              "      <td>3545</td>\n",
              "      <td>1024</td>\n",
              "      <td>407</td>\n",
              "      <td>1,123</td>\n",
              "      <td>0</td>\n",
              "      <td>35</td>\n",
              "      <td>177</td>\n",
              "      <td>0</td>\n",
              "      <td>27</td>\n",
              "      <td>0</td>\n",
              "      <td>0</td>\n",
              "      <td>7</td>\n",
              "      <td>0</td>\n",
              "      <td>0</td>\n",
              "      <td>0</td>\n",
              "      <td>0</td>\n",
              "      <td>5</td>\n",
              "      <td>0</td>\n",
              "      <td>184</td>\n",
              "      <td>69</td>\n",
              "    </tr>\n",
              "    <tr>\n",
              "      <th>19</th>\n",
              "      <td>2019</td>\n",
              "      <td>영등포구</td>\n",
              "      <td>114</td>\n",
              "      <td>18220</td>\n",
              "      <td>5879</td>\n",
              "      <td>3439</td>\n",
              "      <td>3419</td>\n",
              "      <td>2,952</td>\n",
              "      <td>147</td>\n",
              "      <td>51</td>\n",
              "      <td>99</td>\n",
              "      <td>0</td>\n",
              "      <td>57</td>\n",
              "      <td>0</td>\n",
              "      <td>12</td>\n",
              "      <td>174</td>\n",
              "      <td>0</td>\n",
              "      <td>0</td>\n",
              "      <td>0</td>\n",
              "      <td>0</td>\n",
              "      <td>40</td>\n",
              "      <td>19</td>\n",
              "      <td>1281</td>\n",
              "      <td>651</td>\n",
              "    </tr>\n",
              "    <tr>\n",
              "      <th>20</th>\n",
              "      <td>2019</td>\n",
              "      <td>동작구</td>\n",
              "      <td>29</td>\n",
              "      <td>7083</td>\n",
              "      <td>2178</td>\n",
              "      <td>829</td>\n",
              "      <td>1421</td>\n",
              "      <td>1,127</td>\n",
              "      <td>0</td>\n",
              "      <td>116</td>\n",
              "      <td>8</td>\n",
              "      <td>0</td>\n",
              "      <td>0</td>\n",
              "      <td>0</td>\n",
              "      <td>0</td>\n",
              "      <td>0</td>\n",
              "      <td>0</td>\n",
              "      <td>0</td>\n",
              "      <td>0</td>\n",
              "      <td>206</td>\n",
              "      <td>7</td>\n",
              "      <td>0</td>\n",
              "      <td>397</td>\n",
              "      <td>794</td>\n",
              "    </tr>\n",
              "    <tr>\n",
              "      <th>21</th>\n",
              "      <td>2019</td>\n",
              "      <td>관악구</td>\n",
              "      <td>32</td>\n",
              "      <td>10154</td>\n",
              "      <td>2280</td>\n",
              "      <td>2188</td>\n",
              "      <td>185</td>\n",
              "      <td>2,416</td>\n",
              "      <td>0</td>\n",
              "      <td>95</td>\n",
              "      <td>149</td>\n",
              "      <td>0</td>\n",
              "      <td>219</td>\n",
              "      <td>0</td>\n",
              "      <td>0</td>\n",
              "      <td>0</td>\n",
              "      <td>0</td>\n",
              "      <td>0</td>\n",
              "      <td>0</td>\n",
              "      <td>1,120</td>\n",
              "      <td>59</td>\n",
              "      <td>0</td>\n",
              "      <td>249</td>\n",
              "      <td>1,194</td>\n",
              "    </tr>\n",
              "    <tr>\n",
              "      <th>22</th>\n",
              "      <td>2019</td>\n",
              "      <td>서초구</td>\n",
              "      <td>56</td>\n",
              "      <td>16548</td>\n",
              "      <td>3800</td>\n",
              "      <td>5036</td>\n",
              "      <td>3409</td>\n",
              "      <td>254</td>\n",
              "      <td>0</td>\n",
              "      <td>1,159</td>\n",
              "      <td>478</td>\n",
              "      <td>11</td>\n",
              "      <td>0</td>\n",
              "      <td>0</td>\n",
              "      <td>0</td>\n",
              "      <td>721</td>\n",
              "      <td>0</td>\n",
              "      <td>0</td>\n",
              "      <td>0</td>\n",
              "      <td>91</td>\n",
              "      <td>0</td>\n",
              "      <td>0</td>\n",
              "      <td>446</td>\n",
              "      <td>1,143</td>\n",
              "    </tr>\n",
              "    <tr>\n",
              "      <th>23</th>\n",
              "      <td>2019</td>\n",
              "      <td>강남구</td>\n",
              "      <td>60</td>\n",
              "      <td>23349</td>\n",
              "      <td>7210</td>\n",
              "      <td>7559</td>\n",
              "      <td>2991</td>\n",
              "      <td>2,455</td>\n",
              "      <td>0</td>\n",
              "      <td>864</td>\n",
              "      <td>524</td>\n",
              "      <td>0</td>\n",
              "      <td>0</td>\n",
              "      <td>0</td>\n",
              "      <td>65</td>\n",
              "      <td>0</td>\n",
              "      <td>0</td>\n",
              "      <td>0</td>\n",
              "      <td>0</td>\n",
              "      <td>0</td>\n",
              "      <td>0</td>\n",
              "      <td>0</td>\n",
              "      <td>768</td>\n",
              "      <td>913</td>\n",
              "    </tr>\n",
              "    <tr>\n",
              "      <th>24</th>\n",
              "      <td>2019</td>\n",
              "      <td>송파구</td>\n",
              "      <td>99</td>\n",
              "      <td>22858</td>\n",
              "      <td>11894</td>\n",
              "      <td>4180</td>\n",
              "      <td>2400</td>\n",
              "      <td>992</td>\n",
              "      <td>0</td>\n",
              "      <td>14</td>\n",
              "      <td>0</td>\n",
              "      <td>0</td>\n",
              "      <td>0</td>\n",
              "      <td>11</td>\n",
              "      <td>722</td>\n",
              "      <td>329</td>\n",
              "      <td>0</td>\n",
              "      <td>0</td>\n",
              "      <td>0</td>\n",
              "      <td>0</td>\n",
              "      <td>215</td>\n",
              "      <td>0</td>\n",
              "      <td>1651</td>\n",
              "      <td>450</td>\n",
              "    </tr>\n",
              "    <tr>\n",
              "      <th>25</th>\n",
              "      <td>2019</td>\n",
              "      <td>강동구</td>\n",
              "      <td>66</td>\n",
              "      <td>17152</td>\n",
              "      <td>5474</td>\n",
              "      <td>4284</td>\n",
              "      <td>2417</td>\n",
              "      <td>2,309</td>\n",
              "      <td>0</td>\n",
              "      <td>0</td>\n",
              "      <td>57</td>\n",
              "      <td>0</td>\n",
              "      <td>0</td>\n",
              "      <td>0</td>\n",
              "      <td>0</td>\n",
              "      <td>0</td>\n",
              "      <td>0</td>\n",
              "      <td>0</td>\n",
              "      <td>0</td>\n",
              "      <td>0</td>\n",
              "      <td>0</td>\n",
              "      <td>0</td>\n",
              "      <td>642</td>\n",
              "      <td>1,969</td>\n",
              "    </tr>\n",
              "    <tr>\n",
              "      <th>26</th>\n",
              "      <td>2019</td>\n",
              "      <td>공원녹지사업소</td>\n",
              "      <td>1</td>\n",
              "      <td>236</td>\n",
              "      <td>179</td>\n",
              "      <td>26</td>\n",
              "      <td>24</td>\n",
              "      <td>0</td>\n",
              "      <td>0</td>\n",
              "      <td>0</td>\n",
              "      <td>0</td>\n",
              "      <td>0</td>\n",
              "      <td>0</td>\n",
              "      <td>0</td>\n",
              "      <td>0</td>\n",
              "      <td>3</td>\n",
              "      <td>0</td>\n",
              "      <td>0</td>\n",
              "      <td>0</td>\n",
              "      <td>0</td>\n",
              "      <td>0</td>\n",
              "      <td>0</td>\n",
              "      <td>4</td>\n",
              "      <td>0</td>\n",
              "    </tr>\n",
              "    <tr>\n",
              "      <th>27</th>\n",
              "      <td>2019</td>\n",
              "      <td>시설관리공단</td>\n",
              "      <td>9</td>\n",
              "      <td>15250</td>\n",
              "      <td>2600</td>\n",
              "      <td>1222</td>\n",
              "      <td>2071</td>\n",
              "      <td>1,850</td>\n",
              "      <td>0</td>\n",
              "      <td>0</td>\n",
              "      <td>3,290</td>\n",
              "      <td>0</td>\n",
              "      <td>0</td>\n",
              "      <td>0</td>\n",
              "      <td>0</td>\n",
              "      <td>0</td>\n",
              "      <td>0</td>\n",
              "      <td>278</td>\n",
              "      <td>17</td>\n",
              "      <td>0</td>\n",
              "      <td>37</td>\n",
              "      <td>0</td>\n",
              "      <td>2868</td>\n",
              "      <td>1,017</td>\n",
              "    </tr>\n",
              "  </tbody>\n",
              "</table>\n",
              "</div>"
            ],
            "text/plain": [
              "      기간      자치구   노선수      수량    은행나무  ...    무궁화    소나무   목련   이팝나무      기타\n",
              "0   2019      서울시  1412  307351  108050  ...  2,374  4,539  378  20088  20,112\n",
              "1   2019      종로구    70    7329    4072  ...      0    239    0    711      29\n",
              "2   2019       중구    48    8250    3640  ...     46  2,162    0    470     817\n",
              "3   2019      용산구    39    7835    4444  ...      0     51  126    198     780\n",
              "4   2019      성동구    38    8120    1090  ...      0     53    0    709     646\n",
              "5   2019      광진구    28    7223    1247  ...      0     20  113    760     443\n",
              "6   2019     동대문구    43   10664    3749  ...      1      0    0   1176     456\n",
              "7   2019      중랑구    57    8365    2774  ...    212     64    0    449   1,156\n",
              "8   2019      성북구    78    8449    2722  ...      5     97    0    853     547\n",
              "9   2019      강북구    31    7789    3510  ...      0  1,007    0    575     410\n",
              "10  2019      도봉구    63    9572    4914  ...    214     15    0     47   1,070\n",
              "11  2019      노원구    50   14489    6505  ...    150     32    1    142   1,135\n",
              "12  2019      은평구    35    9880    4324  ...      3      0    0    443     582\n",
              "13  2019     서대문구    39    8627    3474  ...     70      0    0    493   1,120\n",
              "14  2019      마포구    92   14538    3353  ...      0    124   93   1280     348\n",
              "15  2019      양천구    69   13501    5622  ...    197      0    0    784     595\n",
              "16  2019      강서구    55   13719    3977  ...     59    282    0   1426     568\n",
              "17  2019      구로구    81   11548    3594  ...      0     30   26   1082   1,210\n",
              "18  2019      금천구    30    6603    3545  ...      0      5    0    184      69\n",
              "19  2019     영등포구   114   18220    5879  ...      0     40   19   1281     651\n",
              "20  2019      동작구    29    7083    2178  ...    206      7    0    397     794\n",
              "21  2019      관악구    32   10154    2280  ...  1,120     59    0    249   1,194\n",
              "22  2019      서초구    56   16548    3800  ...     91      0    0    446   1,143\n",
              "23  2019      강남구    60   23349    7210  ...      0      0    0    768     913\n",
              "24  2019      송파구    99   22858   11894  ...      0    215    0   1651     450\n",
              "25  2019      강동구    66   17152    5474  ...      0      0    0    642   1,969\n",
              "26  2019  공원녹지사업소     1     236     179  ...      0      0    0      4       0\n",
              "27  2019   시설관리공단     9   15250    2600  ...      0     37    0   2868   1,017\n",
              "\n",
              "[28 rows x 24 columns]"
            ]
          },
          "metadata": {
            "tags": []
          },
          "execution_count": 3
        }
      ]
    },
    {
      "cell_type": "markdown",
      "metadata": {
        "id": "oxsx9cN7dUPp"
      },
      "source": [
        "### \"서울시에는 구별로 평균 약 400 그루 정도의 `이팝나무`가 있다\"라는 가설에 대해 가설검정을 시행하세요.\n",
        "\n",
        "- 단, `서울시`, `공원녹지사업소`, `시설관리공단` 부분의 데이터는 제외합니다.\n",
        "- 가설검정 결과의 pvalue 값을 `pv1`에 저장하세요. (`.pvalue` 사용)"
      ]
    },
    {
      "cell_type": "code",
      "metadata": {
        "id": "nfucb5GYpn1D",
        "colab": {
          "base_uri": "https://localhost:8080/"
        },
        "outputId": "dc129b82-6681-45cd-c01b-5fb87b7fdadc"
      },
      "source": [
        "#서울시, 공원녹지 사업소, 시설관리공단 데이터 제외\n",
        "tr = trees['자치구'].isin(['서울시', '공원녹지사업소', '시설관리공단'])\n",
        "trees = trees[~tr]\n",
        "#이팝나무 데이터 도출 및 평균\n",
        "tree1 = trees['이팝나무']\n",
        "tree1.mean()"
      ],
      "execution_count": null,
      "outputs": [
        {
          "output_type": "execute_result",
          "data": {
            "text/plain": [
              "688.64"
            ]
          },
          "metadata": {
            "tags": []
          },
          "execution_count": 8
        }
      ]
    },
    {
      "cell_type": "markdown",
      "metadata": {
        "id": "OrL15WRyDhbH"
      },
      "source": [
        ""
      ]
    },
    {
      "cell_type": "code",
      "metadata": {
        "colab": {
          "base_uri": "https://localhost:8080/"
        },
        "id": "uKHmKb5uZabU",
        "outputId": "9eec1ba5-b099-4f56-ad9e-0ff2a75ab45a"
      },
      "source": [
        "#귀무가설: 서울시에는 구별로 평균 약 400 그루 정도의 이팝나무가 있다\n",
        "#가설 검정\n",
        "from scipy import stats\n",
        "print(stats.ttest_1samp(tree1, 400))"
      ],
      "execution_count": null,
      "outputs": [
        {
          "output_type": "stream",
          "text": [
            "Ttest_1sampResult(statistic=3.3809205562101288, pvalue=0.002470712850935819)\n"
          ],
          "name": "stdout"
        }
      ]
    },
    {
      "cell_type": "code",
      "metadata": {
        "colab": {
          "base_uri": "https://localhost:8080/"
        },
        "id": "NhwF5fG2iDHy",
        "outputId": "7eee8504-0a02-467a-e256-075f7729b265"
      },
      "source": [
        "#Pvalue 저장\n",
        "#귀무가설은 틀렸다\n",
        "pv1 = stats.ttest_1samp(tree1, 400).pvalue\n",
        "pv1"
      ],
      "execution_count": null,
      "outputs": [
        {
          "output_type": "execute_result",
          "data": {
            "text/plain": [
              "0.002470712850935819"
            ]
          },
          "metadata": {
            "tags": []
          },
          "execution_count": 10
        }
      ]
    },
    {
      "cell_type": "markdown",
      "metadata": {
        "id": "yAkyHaEnbNYa"
      },
      "source": [
        "### 이번에는 10개의 구를 샘플링하여, 위에 대한 가설검정을 다시 한번 시행해보세요.\n",
        "\n",
        "- 단, 아래의 코드를 참조하여 sample을 위한 seed 는 123로 설정하세요.\n",
        "- 가설검정 결과의 pvalue값을 `pv2`에 저장하세요\n"
      ]
    },
    {
      "cell_type": "code",
      "metadata": {
        "id": "DbQPGNNLq_AN",
        "colab": {
          "base_uri": "https://localhost:8080/"
        },
        "outputId": "8cdc4c21-a594-4bf2-db9d-1621dfb4e133"
      },
      "source": [
        "import numpy as np\n",
        "np.random.seed(123)\n",
        "\n",
        "rd = np.random.choice(tree1, size = 10)\n",
        "rd"
      ],
      "execution_count": null,
      "outputs": [
        {
          "output_type": "execute_result",
          "data": {
            "text/plain": [
              "array([1280,  198,  198,  449,  184,  397,  142,  768,  470,  711])"
            ]
          },
          "metadata": {
            "tags": []
          },
          "execution_count": 11
        }
      ]
    },
    {
      "cell_type": "code",
      "metadata": {
        "colab": {
          "base_uri": "https://localhost:8080/"
        },
        "id": "3C_hIsd3QUaV",
        "outputId": "82e3adb8-b935-4a93-9966-1a612d17a887"
      },
      "source": [
        "print(stats.ttest_1samp(rd, 400))"
      ],
      "execution_count": null,
      "outputs": [
        {
          "output_type": "stream",
          "text": [
            "Ttest_1sampResult(statistic=0.706555193453698, pvalue=0.49772576203804575)\n"
          ],
          "name": "stdout"
        }
      ]
    },
    {
      "cell_type": "code",
      "metadata": {
        "colab": {
          "base_uri": "https://localhost:8080/"
        },
        "id": "zg87D1qFpY4z",
        "outputId": "21f85560-019c-4a28-8eb1-81509937143e"
      },
      "source": [
        "pv2 = stats.ttest_1samp(rd, 400).pvalue\n",
        "pv2"
      ],
      "execution_count": null,
      "outputs": [
        {
          "output_type": "execute_result",
          "data": {
            "text/plain": [
              "0.49772576203804575"
            ]
          },
          "metadata": {
            "tags": []
          },
          "execution_count": 13
        }
      ]
    },
    {
      "cell_type": "markdown",
      "metadata": {
        "id": "TPT-ZTt0PuIk"
      },
      "source": [
        "## 2. Two-Sample T-test 연습"
      ]
    },
    {
      "cell_type": "markdown",
      "metadata": {
        "id": "2WZnCBsR_2jT"
      },
      "source": [
        "### \"서울시의 구별 평균 느티나무수와 왕벚나무의 수는 차이가 없다\"라는 가설에 대해 가설검정을 시행하세요.\n",
        "\n",
        "- 단, `서울시`, `공원녹지사업소`, `시설관리공단` 부분의 데이터는 제외합니다.\n",
        "- 가설검정 결과의 pvalue를 `pv3`에 저장하세요"
      ]
    },
    {
      "cell_type": "code",
      "metadata": {
        "id": "lAs832N1tc7k",
        "colab": {
          "base_uri": "https://localhost:8080/"
        },
        "outputId": "cfef6cc5-ab59-4350-c973-27f7020c73c8"
      },
      "source": [
        "tr = trees['자치구'].isin(['서울시', '공원녹지사업소', '시설관리공단'])\n",
        "trees = trees[~tr]\n",
        "t1 = trees['느티나무']\n",
        "t2 = pd.to_numeric(trees['왕벚나무'].str.replace(',',''))\n",
        "\n",
        "print(t1.head())\n",
        "print(t2.head())"
      ],
      "execution_count": null,
      "outputs": [
        {
          "output_type": "stream",
          "text": [
            "1     619\n",
            "2     460\n",
            "3     373\n",
            "4    1975\n",
            "5    1057\n",
            "Name: 느티나무, dtype: int64\n",
            "1    421\n",
            "2    289\n",
            "3    262\n",
            "4    602\n",
            "5    940\n",
            "Name: 왕벚나무, dtype: int64\n"
          ],
          "name": "stdout"
        }
      ]
    },
    {
      "cell_type": "code",
      "metadata": {
        "colab": {
          "base_uri": "https://localhost:8080/"
        },
        "id": "_aZGG5VFQcAy",
        "outputId": "91dd3a72-ebae-459a-9270-650e2a5c8713"
      },
      "source": [
        "t1.mean(), t2.mean()"
      ],
      "execution_count": null,
      "outputs": [
        {
          "output_type": "execute_result",
          "data": {
            "text/plain": [
              "(1415.12, 1292.0)"
            ]
          },
          "metadata": {
            "tags": []
          },
          "execution_count": 15
        }
      ]
    },
    {
      "cell_type": "code",
      "metadata": {
        "colab": {
          "base_uri": "https://localhost:8080/"
        },
        "id": "zzrxH29WV4b9",
        "outputId": "abc78f51-c3f8-4755-a308-71064e3d864e"
      },
      "source": [
        "#분산 확인 = 결과>0.1 므로 분산 동일\n",
        "res = stats.levene(t1,t2).pvalue\n",
        "res"
      ],
      "execution_count": null,
      "outputs": [
        {
          "output_type": "execute_result",
          "data": {
            "text/plain": [
              "0.4319252158673391"
            ]
          },
          "metadata": {
            "tags": []
          },
          "execution_count": 17
        }
      ]
    },
    {
      "cell_type": "code",
      "metadata": {
        "colab": {
          "base_uri": "https://localhost:8080/"
        },
        "id": "cJ6T7svBnzm8",
        "outputId": "9e8bff1d-7188-47f2-f5c7-613ddbdf1ffb"
      },
      "source": [
        "#귀무가설은 맞다 \n",
        "pv3 = stats.ttest_ind(t1,t2, equal_var = True).pvalue\n",
        "pv3"
      ],
      "execution_count": null,
      "outputs": [
        {
          "output_type": "execute_result",
          "data": {
            "text/plain": [
              "0.6455096880085703"
            ]
          },
          "metadata": {
            "tags": []
          },
          "execution_count": 18
        }
      ]
    },
    {
      "cell_type": "markdown",
      "metadata": {
        "id": "vhhXvirEAeCH"
      },
      "source": [
        "\n",
        "### Two-Sample One-tailed test를 사용하여 **평균 느티나무수가 왕벚나무 수보다 크다**라는 가설에 대한 가설검정을 시행하세요.\n",
        "- 해당 가설검정의 결과를 `ans`에 저장하세요.\n",
        "\n",
        "이 때 `ans`가 가질 수 있는 값은 아래와 같습니다 :\n",
        "1. \"느티나무\" ( 느티나무의 수가 통계적으로 유의하게 많은 경우 )\n",
        "2. \"왕벚나무\" ( 왕벚나무의 수가 통계적으로 유의하게 많은 경우 )\n",
        "3. \"없음\" (통계적으로 유의하지 않은 경우)\n",
        "\n",
        "다음 링크를 참조하세요.\n",
        "<https://stackoverflow.com/questions/15984221/how-to-perform-two-sample-one-tailed-t-test-with-numpy-scipy>"
      ]
    },
    {
      "cell_type": "code",
      "metadata": {
        "colab": {
          "base_uri": "https://localhost:8080/"
        },
        "id": "BF8Rj7fi6p9b",
        "outputId": "b2daa11a-de55-4c95-f9b5-25459b1b3850"
      },
      "source": [
        "t1.mean(), t2.mean()"
      ],
      "execution_count": null,
      "outputs": [
        {
          "output_type": "execute_result",
          "data": {
            "text/plain": [
              "(1415.12, 1292.0)"
            ]
          },
          "metadata": {
            "tags": []
          },
          "execution_count": 19
        }
      ]
    },
    {
      "cell_type": "code",
      "metadata": {
        "id": "7_rUz26cjYxf"
      },
      "source": [
        "!pip install --upgrade scipy"
      ],
      "execution_count": null,
      "outputs": []
    },
    {
      "cell_type": "code",
      "metadata": {
        "id": "imZ2KmOlVLkd"
      },
      "source": [
        "from scipy.stats import ttest_ind  \n",
        "\n",
        "# Two-Sample One-tailed test\n",
        "def t_test(x,y,alternative='both-sided'):\n",
        "    double_p = ttest_ind(x,y,equal_var = False).pvalue\n",
        "    if alternative == 'both-sided':\n",
        "        pval = double_p\n",
        "    elif alternative == 'greater':\n",
        "        if np.mean(x) > np.mean(y):\n",
        "            pval = double_p/2.      #one tail이므로 2로 나누어준다\n",
        "        else:\n",
        "          pval = 1.0 - double_p/2.\n",
        "    elif alternative == 'less':\n",
        "        if np.mean(x) < np.mean(y):\n",
        "            pval = double_p/2.\n",
        "        else:\n",
        "            pval = 1.0 - double_p/2.\n",
        "    return pval"
      ],
      "execution_count": null,
      "outputs": []
    },
    {
      "cell_type": "code",
      "metadata": {
        "id": "hVsjgr8e9Sea",
        "colab": {
          "base_uri": "https://localhost:8080/"
        },
        "outputId": "7558ae43-e973-4228-9b40-831d49c3625e"
      },
      "source": [
        "#ans 구하기\n",
        "t1 = trees['느티나무']\n",
        "t2 = pd.to_numeric(trees['왕벚나무'].str.replace(',',''))\n",
        "if t_test(t1,t2,alternative = 'greater') > 0.5:\n",
        "  print('왕벚나무')\n",
        "elif t_test(t2,t1,alternative ='less') > 0.5:\n",
        "  print('느티나무')\n",
        "else:\n",
        "  print('없음')"
      ],
      "execution_count": null,
      "outputs": [
        {
          "output_type": "stream",
          "text": [
            "없음\n"
          ],
          "name": "stdout"
        }
      ]
    },
    {
      "cell_type": "code",
      "metadata": {
        "id": "PHtJTfePWI84"
      },
      "source": [
        "ans = 3"
      ],
      "execution_count": null,
      "outputs": []
    },
    {
      "cell_type": "markdown",
      "metadata": {
        "id": "C5pkmOuKgK9Y"
      },
      "source": [
        "## 🔥 **도전과제**\n",
        "> 3문제 모두 하면 됩니다.\n",
        "\n"
      ]
    },
    {
      "cell_type": "markdown",
      "metadata": {
        "id": "3114xDdlPjFx"
      },
      "source": [
        "### 1. Compare mean for multiple-sample \n",
        " \n",
        "다음 링크를 참조하세요. <https://reneshbedre.github.io/blog/anova.html>\n",
        "\n",
        "구별, 은행나무, 양버즘나무, 느티나무에 대해서 ANOVA Test를 실행하세요.\n",
        "\n",
        "단, `서울시`, `공원녹지사업소`, `시설관리공단` 부분의 데이터는 제외합니다."
      ]
    },
    {
      "cell_type": "code",
      "metadata": {
        "id": "dPmXOHh1Cfea"
      },
      "source": [
        "from scipy.stats import f_oneway\n",
        "from scipy.stats import ttest_1samp\n",
        "import matplotlib.pyplot as plt\n",
        "import seaborn as sns\n",
        "tr = trees['자치구'].isin(['서울시', '공원녹지사업소', '시설관리공단'])\n",
        "trees = trees[~tr]"
      ],
      "execution_count": null,
      "outputs": []
    },
    {
      "cell_type": "code",
      "metadata": {
        "id": "SAijfjA6Jl6o"
      },
      "source": [
        "trees_melt = pd.melt(trees.reset_index(), id_vars=['자치구'], value_vars = ['은행나무','양버즘나무','느티나무'])\n",
        "sns.boxplot(x='자치구', y='value', hue='variable', data=trees_melt, palette='Set3')\n",
        "sns.set(rc={'figure.figsize':(20,8)}, font_scale=1.5, style='whitegrid')"
      ],
      "execution_count": null,
      "outputs": []
    },
    {
      "cell_type": "code",
      "metadata": {
        "id": "QQk6jozeMI-F"
      },
      "source": [
        "ax = sns.boxplot(x='variable', y='value', data=trees_melt, color='#99c2a2')\n",
        "ax = sns.swarmplot(x='variable', y=\"value\", data=trees_melt, color='#7d0013')"
      ],
      "execution_count": null,
      "outputs": []
    },
    {
      "cell_type": "code",
      "metadata": {
        "colab": {
          "base_uri": "https://localhost:8080/"
        },
        "id": "8UXVQX6aKeNH",
        "outputId": "5c7ac0cf-8309-4125-9136-3f715c1a50c1"
      },
      "source": [
        "import scipy.stats as stats\n",
        "\n",
        "fvalue, pvalue = stats.f_oneway(trees['은행나무'], trees['양버즘나무'], trees['느티나무'])\n",
        "print(fvalue, pvalue)"
      ],
      "execution_count": null,
      "outputs": [
        {
          "output_type": "stream",
          "text": [
            "17.006289557888046 8.935183167883698e-07\n"
          ],
          "name": "stdout"
        }
      ]
    },
    {
      "cell_type": "code",
      "metadata": {
        "colab": {
          "base_uri": "https://localhost:8080/",
          "height": 105
        },
        "id": "IxFpnTyWKG5D",
        "outputId": "05dc4d38-5346-4f43-fb4c-ee68756a10ee"
      },
      "source": [
        "import statsmodels.api as sm\n",
        "from statsmodels.formula.api import ols\n",
        "\n",
        "model = ols('value ~ C(variable)', data = trees_melt).fit()\n",
        "annova_table = sm.stats.anova_lm(model, typ=2)\n",
        "annova_table\n",
        "\n",
        "#P.value는 8.935183e-07으로 구별 나무간의 격차가 있다는 결과 도출"
      ],
      "execution_count": null,
      "outputs": [
        {
          "output_type": "execute_result",
          "data": {
            "text/html": [
              "<div>\n",
              "<style scoped>\n",
              "    .dataframe tbody tr th:only-of-type {\n",
              "        vertical-align: middle;\n",
              "    }\n",
              "\n",
              "    .dataframe tbody tr th {\n",
              "        vertical-align: top;\n",
              "    }\n",
              "\n",
              "    .dataframe thead th {\n",
              "        text-align: right;\n",
              "    }\n",
              "</style>\n",
              "<table border=\"1\" class=\"dataframe\">\n",
              "  <thead>\n",
              "    <tr style=\"text-align: right;\">\n",
              "      <th></th>\n",
              "      <th>sum_sq</th>\n",
              "      <th>df</th>\n",
              "      <th>F</th>\n",
              "      <th>PR(&gt;F)</th>\n",
              "    </tr>\n",
              "  </thead>\n",
              "  <tbody>\n",
              "    <tr>\n",
              "      <th>C(variable)</th>\n",
              "      <td>9.990817e+07</td>\n",
              "      <td>2.0</td>\n",
              "      <td>17.00629</td>\n",
              "      <td>8.935183e-07</td>\n",
              "    </tr>\n",
              "    <tr>\n",
              "      <th>Residual</th>\n",
              "      <td>2.114920e+08</td>\n",
              "      <td>72.0</td>\n",
              "      <td>NaN</td>\n",
              "      <td>NaN</td>\n",
              "    </tr>\n",
              "  </tbody>\n",
              "</table>\n",
              "</div>"
            ],
            "text/plain": [
              "                   sum_sq    df         F        PR(>F)\n",
              "C(variable)  9.990817e+07   2.0  17.00629  8.935183e-07\n",
              "Residual     2.114920e+08  72.0       NaN           NaN"
            ]
          },
          "metadata": {
            "tags": []
          },
          "execution_count": 31
        }
      ]
    },
    {
      "cell_type": "markdown",
      "metadata": {
        "id": "nLl4aWDPCVaO"
      },
      "source": [
        "### 2. Sampling\n",
        "\n",
        "- 세션 시간에 배웠던 4가지 sample 방식을 구현해보세요.\n",
        "\n",
        "- 이를 위한 데이터는 1 부터 100 이며, sampling해야 하는 수는 20개 입니다.\n",
        "\n",
        "- Stratified random sampling을 위한 그룹을 나누는 기준은 1-10, 11-20, ... 과 같은 방식입니다.\n",
        "\n",
        "- Cluster sampling 을 위한 그룹을 나누는 기준은 5로 나눴을때의 나머지 값입니다. (0,1,2,3,4)"
      ]
    },
    {
      "cell_type": "code",
      "metadata": {
        "colab": {
          "base_uri": "https://localhost:8080/",
          "height": 391
        },
        "id": "yyJ6w_cdbxZJ",
        "outputId": "8d1b79d9-277f-4921-c531-28767c43fcdd"
      },
      "source": [
        "import pandas as pd\n",
        "import numpy as np\n",
        "sample = pd.DataFrame(columns=[\"count\"])\n",
        "sample.loc[:,\"count\"] = np.arange(101) \n",
        "sample = sample.iloc[1:]\n",
        "sample"
      ],
      "execution_count": null,
      "outputs": [
        {
          "output_type": "execute_result",
          "data": {
            "text/html": [
              "<div>\n",
              "<style scoped>\n",
              "    .dataframe tbody tr th:only-of-type {\n",
              "        vertical-align: middle;\n",
              "    }\n",
              "\n",
              "    .dataframe tbody tr th {\n",
              "        vertical-align: top;\n",
              "    }\n",
              "\n",
              "    .dataframe thead th {\n",
              "        text-align: right;\n",
              "    }\n",
              "</style>\n",
              "<table border=\"1\" class=\"dataframe\">\n",
              "  <thead>\n",
              "    <tr style=\"text-align: right;\">\n",
              "      <th></th>\n",
              "      <th>count</th>\n",
              "    </tr>\n",
              "  </thead>\n",
              "  <tbody>\n",
              "    <tr>\n",
              "      <th>1</th>\n",
              "      <td>1</td>\n",
              "    </tr>\n",
              "    <tr>\n",
              "      <th>2</th>\n",
              "      <td>2</td>\n",
              "    </tr>\n",
              "    <tr>\n",
              "      <th>3</th>\n",
              "      <td>3</td>\n",
              "    </tr>\n",
              "    <tr>\n",
              "      <th>4</th>\n",
              "      <td>4</td>\n",
              "    </tr>\n",
              "    <tr>\n",
              "      <th>5</th>\n",
              "      <td>5</td>\n",
              "    </tr>\n",
              "    <tr>\n",
              "      <th>...</th>\n",
              "      <td>...</td>\n",
              "    </tr>\n",
              "    <tr>\n",
              "      <th>96</th>\n",
              "      <td>96</td>\n",
              "    </tr>\n",
              "    <tr>\n",
              "      <th>97</th>\n",
              "      <td>97</td>\n",
              "    </tr>\n",
              "    <tr>\n",
              "      <th>98</th>\n",
              "      <td>98</td>\n",
              "    </tr>\n",
              "    <tr>\n",
              "      <th>99</th>\n",
              "      <td>99</td>\n",
              "    </tr>\n",
              "    <tr>\n",
              "      <th>100</th>\n",
              "      <td>100</td>\n",
              "    </tr>\n",
              "  </tbody>\n",
              "</table>\n",
              "<p>100 rows × 1 columns</p>\n",
              "</div>"
            ],
            "text/plain": [
              "     count\n",
              "1        1\n",
              "2        2\n",
              "3        3\n",
              "4        4\n",
              "5        5\n",
              "..     ...\n",
              "96      96\n",
              "97      97\n",
              "98      98\n",
              "99      99\n",
              "100    100\n",
              "\n",
              "[100 rows x 1 columns]"
            ]
          },
          "metadata": {
            "tags": []
          },
          "execution_count": 67
        }
      ]
    },
    {
      "cell_type": "code",
      "metadata": {
        "id": "QUPwaynLAQjS",
        "colab": {
          "base_uri": "https://localhost:8080/"
        },
        "outputId": "5367acde-a719-4fad-e3ae-c3041bd14fe0"
      },
      "source": [
        "#simple random sampling\n",
        "data = np.random.randint(0,100,20)\n",
        "data"
      ],
      "execution_count": null,
      "outputs": [
        {
          "output_type": "execute_result",
          "data": {
            "text/plain": [
              "array([99, 67, 65,  7, 70, 99, 97, 39, 82, 92, 38,  5,  9, 40, 68, 87, 21,\n",
              "       89, 50, 36])"
            ]
          },
          "metadata": {
            "tags": []
          },
          "execution_count": 68
        }
      ]
    },
    {
      "cell_type": "code",
      "metadata": {
        "colab": {
          "base_uri": "https://localhost:8080/"
        },
        "id": "KH-DgmLUrZ0G",
        "outputId": "81e16840-21d0-4378-958d-863dccbd36f6"
      },
      "source": [
        "#systematic sampling\n",
        "data = pd.DataFrame(sample)\n",
        "def systematic_sampling(data, step):\n",
        "    indexes = np.arange(0,len(data), step=step)\n",
        "    systematic_sample = data.iloc[indexes]\n",
        "    return systematic_sample\n",
        "\n",
        "systematic_sample = systematic_sampling(data, 5)\n",
        "print(systematic_sample)\n",
        "systematic_sample.shape"
      ],
      "execution_count": null,
      "outputs": [
        {
          "output_type": "stream",
          "text": [
            "    count\n",
            "1       1\n",
            "6       6\n",
            "11     11\n",
            "16     16\n",
            "21     21\n",
            "26     26\n",
            "31     31\n",
            "36     36\n",
            "41     41\n",
            "46     46\n",
            "51     51\n",
            "56     56\n",
            "61     61\n",
            "66     66\n",
            "71     71\n",
            "76     76\n",
            "81     81\n",
            "86     86\n",
            "91     91\n",
            "96     96\n"
          ],
          "name": "stdout"
        },
        {
          "output_type": "execute_result",
          "data": {
            "text/plain": [
              "(20, 1)"
            ]
          },
          "metadata": {
            "tags": []
          },
          "execution_count": 78
        }
      ]
    },
    {
      "cell_type": "code",
      "metadata": {
        "colab": {
          "base_uri": "https://localhost:8080/",
          "height": 391
        },
        "id": "hSsfq9WaYV2o",
        "outputId": "3610c311-e1cb-438a-ea85-b9f2fd38ab95"
      },
      "source": [
        "sample.groupby('count', group_keys=False).apply(lambda x: x.sample(min(len(x), 10)))\n"
      ],
      "execution_count": null,
      "outputs": [
        {
          "output_type": "execute_result",
          "data": {
            "text/html": [
              "<div>\n",
              "<style scoped>\n",
              "    .dataframe tbody tr th:only-of-type {\n",
              "        vertical-align: middle;\n",
              "    }\n",
              "\n",
              "    .dataframe tbody tr th {\n",
              "        vertical-align: top;\n",
              "    }\n",
              "\n",
              "    .dataframe thead th {\n",
              "        text-align: right;\n",
              "    }\n",
              "</style>\n",
              "<table border=\"1\" class=\"dataframe\">\n",
              "  <thead>\n",
              "    <tr style=\"text-align: right;\">\n",
              "      <th></th>\n",
              "      <th>count</th>\n",
              "      <th>rest</th>\n",
              "    </tr>\n",
              "  </thead>\n",
              "  <tbody>\n",
              "    <tr>\n",
              "      <th>1</th>\n",
              "      <td>1</td>\n",
              "      <td>1</td>\n",
              "    </tr>\n",
              "    <tr>\n",
              "      <th>2</th>\n",
              "      <td>2</td>\n",
              "      <td>2</td>\n",
              "    </tr>\n",
              "    <tr>\n",
              "      <th>3</th>\n",
              "      <td>3</td>\n",
              "      <td>3</td>\n",
              "    </tr>\n",
              "    <tr>\n",
              "      <th>4</th>\n",
              "      <td>4</td>\n",
              "      <td>4</td>\n",
              "    </tr>\n",
              "    <tr>\n",
              "      <th>5</th>\n",
              "      <td>5</td>\n",
              "      <td>0</td>\n",
              "    </tr>\n",
              "    <tr>\n",
              "      <th>...</th>\n",
              "      <td>...</td>\n",
              "      <td>...</td>\n",
              "    </tr>\n",
              "    <tr>\n",
              "      <th>96</th>\n",
              "      <td>96</td>\n",
              "      <td>1</td>\n",
              "    </tr>\n",
              "    <tr>\n",
              "      <th>97</th>\n",
              "      <td>97</td>\n",
              "      <td>2</td>\n",
              "    </tr>\n",
              "    <tr>\n",
              "      <th>98</th>\n",
              "      <td>98</td>\n",
              "      <td>3</td>\n",
              "    </tr>\n",
              "    <tr>\n",
              "      <th>99</th>\n",
              "      <td>99</td>\n",
              "      <td>4</td>\n",
              "    </tr>\n",
              "    <tr>\n",
              "      <th>100</th>\n",
              "      <td>100</td>\n",
              "      <td>0</td>\n",
              "    </tr>\n",
              "  </tbody>\n",
              "</table>\n",
              "<p>100 rows × 2 columns</p>\n",
              "</div>"
            ],
            "text/plain": [
              "     count  rest\n",
              "1        1     1\n",
              "2        2     2\n",
              "3        3     3\n",
              "4        4     4\n",
              "5        5     0\n",
              "..     ...   ...\n",
              "96      96     1\n",
              "97      97     2\n",
              "98      98     3\n",
              "99      99     4\n",
              "100    100     0\n",
              "\n",
              "[100 rows x 2 columns]"
            ]
          },
          "metadata": {
            "tags": []
          },
          "execution_count": 167
        }
      ]
    },
    {
      "cell_type": "code",
      "metadata": {
        "id": "XRJQkUZctQkD",
        "colab": {
          "base_uri": "https://localhost:8080/",
          "height": 162
        },
        "outputId": "e85c1f91-af92-4794-fd67-877d6f61cc07"
      },
      "source": [
        "#Cluster Sampling\n",
        "sample['rest'] = sample['count']%5\n",
        "sample\n",
        "\n",
        "sample['Cluster_id'] = df.groupby "
      ],
      "execution_count": null,
      "outputs": [
        {
          "output_type": "execute_result",
          "data": {
            "text/html": [
              "<div>\n",
              "<style scoped>\n",
              "    .dataframe tbody tr th:only-of-type {\n",
              "        vertical-align: middle;\n",
              "    }\n",
              "\n",
              "    .dataframe tbody tr th {\n",
              "        vertical-align: top;\n",
              "    }\n",
              "\n",
              "    .dataframe thead th {\n",
              "        text-align: right;\n",
              "    }\n",
              "</style>\n",
              "<table border=\"1\" class=\"dataframe\">\n",
              "  <thead>\n",
              "    <tr style=\"text-align: right;\">\n",
              "      <th></th>\n",
              "      <th>count</th>\n",
              "      <th>rest</th>\n",
              "    </tr>\n",
              "  </thead>\n",
              "  <tbody>\n",
              "    <tr>\n",
              "      <th>2</th>\n",
              "      <td>2</td>\n",
              "      <td>2</td>\n",
              "    </tr>\n",
              "    <tr>\n",
              "      <th>5</th>\n",
              "      <td>5</td>\n",
              "      <td>0</td>\n",
              "    </tr>\n",
              "    <tr>\n",
              "      <th>6</th>\n",
              "      <td>6</td>\n",
              "      <td>1</td>\n",
              "    </tr>\n",
              "    <tr>\n",
              "      <th>9</th>\n",
              "      <td>9</td>\n",
              "      <td>4</td>\n",
              "    </tr>\n",
              "  </tbody>\n",
              "</table>\n",
              "</div>"
            ],
            "text/plain": [
              "   count  rest\n",
              "2      2     2\n",
              "5      5     0\n",
              "6      6     1\n",
              "9      9     4"
            ]
          },
          "metadata": {
            "tags": []
          },
          "execution_count": 166
        }
      ]
    },
    {
      "cell_type": "markdown",
      "metadata": {
        "id": "3PdoNE4VvVnR"
      },
      "source": [
        "### 3. Data transform\n",
        "다음 링크를 참조하여  `Inverse transform sampling` 을 구현합니다.\n",
        "\n",
        "<https://youtu.be/9ixzzPQWuAY>\n",
        "\n",
        "0 ~ 1 의 값을 동일한 확률로 갖는 `uniform distribution`으로 부터 `binomial distribution`으로 transform 하는 코드를 작성한 뒤, 두가지 결과를 시각화를 통해 비교하세요.\n"
      ]
    },
    {
      "cell_type": "code",
      "metadata": {
        "colab": {
          "base_uri": "https://localhost:8080/"
        },
        "id": "R3W4GRhlg-JN",
        "outputId": "d4ecda47-0d33-4bcc-eb43-35fa19c00c76"
      },
      "source": [
        "# importing module\n",
        "import numpy as np\n",
        "  \n",
        "  \n",
        "# numpy.random.uniform() method\n",
        "r = np.random.uniform(size=4)\n",
        "  \n",
        "# printing numbers\n",
        "print(r)"
      ],
      "execution_count": null,
      "outputs": [
        {
          "output_type": "stream",
          "text": [
            "[0.58256712 0.58754516 0.52437617 0.89753523]\n"
          ],
          "name": "stdout"
        }
      ]
    }
  ]
}