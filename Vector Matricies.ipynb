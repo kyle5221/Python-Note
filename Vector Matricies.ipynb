{
  "nbformat": 4,
  "nbformat_minor": 0,
  "metadata": {
    "colab": {
      "name": "n131a-vectors-matrices.ipynb",
      "provenance": []
    },
    "kernelspec": {
      "display_name": "Python 3",
      "language": "python",
      "name": "python3"
    },
    "language_info": {
      "codemirror_mode": {
        "name": "ipython",
        "version": 3
      },
      "file_extension": ".py",
      "mimetype": "text/x-python",
      "name": "python",
      "nbconvert_exporter": "python",
      "pygments_lexer": "ipython3",
      "version": "3.8.2"
    }
  },
  "cells": [
    {
      "cell_type": "markdown",
      "metadata": {
        "id": "Y7hxe5O-9ukJ"
      },
      "source": [
        "<img src='https://i.imgur.com/RDAD11M.png' width = '200' align = 'right'>\n",
        "\n",
        "## *DATA SCIENCE / SECTION 1 / SPRINT 3 / NOTE 1*\n",
        "\n",
        "# 📝 Assignment"
      ]
    },
    {
      "cell_type": "markdown",
      "metadata": {
        "id": "yXA3GwWhY9KL"
      },
      "source": [
        "## 1. Portfolio\n",
        "\n",
        "`Dot product` & `Matrix Multiplication` 을 이용하여 다음 포트폴리오의 사람별 총합을 계산하세요.\n",
        "- 결과는 `res`에 list형태로 저장합니다.\n",
        "\n",
        "|People|Name|Price|Amount|\n",
        "|:-:|:-:|:-:|:-:|\n",
        "|X|A|100|35|\n",
        "|X|B|500|10|\n",
        "|X|C|250|25|\n",
        "|X|D|50|40|\n",
        "|Y|A|100|-|\n",
        "|Y|B|500|50|\n",
        "|Y|C|250|50|\n",
        "|Y|D|50|-|\n",
        "|Z|A|100|-|\n",
        "|Z|B|500|-|\n",
        "|Z|C|250|100|\n",
        "|Z|D|50|-|\n",
        "\n"
      ]
    },
    {
      "cell_type": "code",
      "metadata": {
        "id": "ErSR5soVblfv"
      },
      "source": [
        "import numpy\n",
        "import numpy as np\n",
        "x = numpy.array([100,500,250,50])\n",
        "x1 = numpy.array([35,10,25,40])\n",
        "y = numpy.array([100,500,250,50])\n",
        "y1 = numpy.array([0,50,50,0])\n",
        "z = numpy.array([100,500,250,50])\n",
        "z1 = numpy.array([0,0,100,0])"
      ],
      "execution_count": null,
      "outputs": []
    },
    {
      "cell_type": "code",
      "metadata": {
        "colab": {
          "base_uri": "https://localhost:8080/"
        },
        "id": "JqNep9jsqt-d",
        "outputId": "709da572-4823-4bcf-a8a8-47fa4eb96adc"
      },
      "source": [
        "a = np.dot(x,x1)\n",
        "b = np.dot(y,y1)\n",
        "c = np.dot(z,z1)\n",
        "res = [a,b,c]\n",
        "res"
      ],
      "execution_count": null,
      "outputs": [
        {
          "output_type": "execute_result",
          "data": {
            "text/plain": [
              "[16750, 37500, 25000]"
            ]
          },
          "metadata": {
            "tags": []
          },
          "execution_count": 10
        }
      ]
    },
    {
      "cell_type": "markdown",
      "metadata": {
        "id": "dMgAVgIuGe_B"
      },
      "source": [
        "## 2. Norms\n",
        "\n",
        "주어진 값 $x_0, x_1, ... x_n$ 를 element로 갖는 벡터 $v$에 대하여 \n",
        "\n",
        "$L_1$ Norm 의 정의는 다음과 같습니다. \n",
        "\n",
        "$|v| = |x_0| + |x_1| + ... + |x_n|$\n",
        "\n",
        "$L_2$ Norm 의 정의는 다음과 같습니다.\n",
        "\n",
        "$||v|| = \\sqrt {{x_0}^2 + {x_1}^2 + ... + {x_n}^2}$\n",
        "\n",
        "이를 참조하여 주어진 벡터에 대해서 $L_2$ Norm 의 값과 $L_1$ Norm 의 값의 차이(**절대값**)를 계산하는 함수를 만드세요.\n",
        "\n"
      ]
    },
    {
      "cell_type": "code",
      "metadata": {
        "id": "XrYfAExIGemC"
      },
      "source": [
        "from numpy.linalg import norm\n",
        "from numpy import array\n",
        "\n",
        "def NormDif(v): # v = np.array()\n",
        "    l1 = norm(v,1)\n",
        "    l2 = norm(v,2)\n",
        "    return abs(l1 - l2)"
      ],
      "execution_count": null,
      "outputs": []
    },
    {
      "cell_type": "code",
      "metadata": {
        "colab": {
          "base_uri": "https://localhost:8080/"
        },
        "id": "3CrrQvPj0iaE",
        "outputId": "430a4fdd-03b4-4b72-cc33-8496674863c5"
      },
      "source": [
        "NormDif(array([1,2,3,4]))"
      ],
      "execution_count": null,
      "outputs": [
        {
          "output_type": "execute_result",
          "data": {
            "text/plain": [
              "4.522774424948339"
            ]
          },
          "metadata": {
            "tags": []
          },
          "execution_count": 131
        }
      ]
    },
    {
      "cell_type": "markdown",
      "metadata": {
        "id": "VBJHWdyalU4G"
      },
      "source": [
        "## 3. Errors\n",
        "\n",
        "\n",
        "\n",
        "- 2개의 벡터와, error의 타입을 입력받아 그 결과값을 계산하는 함수를 작성하세요.\n",
        "\n",
        "- 여기서 error의 타입은 `MSE`, `MAE` 2가지 입니다.\n",
        "\n"
      ]
    },
    {
      "cell_type": "code",
      "metadata": {
        "id": "LQy8_pEUHHDC"
      },
      "source": [
        "from sklearn.metrics import mean_absolute_error as mae\n",
        "from sklearn.metrics import mean_squared_error as mse\n",
        "\n",
        "def error(x, y, type) :\n",
        "  MAE = mae(x,y)\n",
        "  MSE = mse(x,y)\n",
        "  if type == 'MAE':\n",
        "      return MAE\n",
        "  elif type == 'MSE':\n",
        "      return MSE\n",
        "  return None"
      ],
      "execution_count": null,
      "outputs": []
    },
    {
      "cell_type": "code",
      "metadata": {
        "colab": {
          "base_uri": "https://localhost:8080/"
        },
        "id": "qrgjiUQ6ug0W",
        "outputId": "21e4692c-9cf1-4069-a4c2-548b631cdc13"
      },
      "source": [
        "print(error(np.array([5,10,30]), np.array([21,2,8]), 'MSE'))\n",
        "print(error(np.array([1, 2, 3]), np.array([4, 5, 6]), 'MAE'))"
      ],
      "execution_count": null,
      "outputs": [
        {
          "output_type": "stream",
          "text": [
            "268.0\n",
            "3.0\n"
          ],
          "name": "stdout"
        }
      ]
    },
    {
      "cell_type": "markdown",
      "metadata": {
        "id": "l2Teph_aS16e"
      },
      "source": [
        "# 4. Inverse\n",
        "\n",
        "- 주어진 matrix에 대해서 inverse matrix를 계산하여 반환하는 함수를 작성하세요. \n",
        "- 이 때 inverse 계산이 불가능 한 경우 `-1` 을 반환합니다."
      ]
    },
    {
      "cell_type": "code",
      "metadata": {
        "id": "1hseshZkS1eX"
      },
      "source": [
        "def myInverse(m) : # m = np.array()\n",
        "   #determinant = det\n",
        "   det = np.linalg.det(m)\n",
        "   if det == 0:\n",
        "    return -1\n",
        "   elif det != 0:\n",
        "    return 0"
      ],
      "execution_count": null,
      "outputs": []
    },
    {
      "cell_type": "code",
      "metadata": {
        "colab": {
          "base_uri": "https://localhost:8080/"
        },
        "id": "n16_ImGwvkns",
        "outputId": "9bd59059-47b8-44c8-a44d-12a05ebfeb81"
      },
      "source": [
        "myInverse(np.array([[1,2],[3,4]]))"
      ],
      "execution_count": null,
      "outputs": [
        {
          "output_type": "execute_result",
          "data": {
            "text/plain": [
              "0"
            ]
          },
          "metadata": {
            "tags": []
          },
          "execution_count": 124
        }
      ]
    },
    {
      "cell_type": "code",
      "metadata": {
        "colab": {
          "base_uri": "https://localhost:8080/"
        },
        "id": "Tdt29AbZxkuj",
        "outputId": "dfa0e5e9-e4b5-4a97-eeea-56d1eaf72193"
      },
      "source": [
        "myInverse(np.array([[2,4],[4,8]]))"
      ],
      "execution_count": null,
      "outputs": [
        {
          "output_type": "execute_result",
          "data": {
            "text/plain": [
              "-1"
            ]
          },
          "metadata": {
            "tags": []
          },
          "execution_count": 125
        }
      ]
    },
    {
      "cell_type": "markdown",
      "metadata": {
        "id": "V0iTO4McYjtk"
      },
      "source": [
        "# 🔥 도전과제 \n",
        "\n"
      ]
    },
    {
      "cell_type": "markdown",
      "metadata": {
        "id": "3p45qAIGFTBZ"
      },
      "source": [
        "다음 링크의 내용을 참조하여 **Cramer's rule**을 사용해 $x_1$, $x_2$, $x_3$의 값을 구하세요.\n",
        "\n",
        "<https://youtu.be/6StS7VjtuGI>\n",
        "\n",
        "\n",
        "$x_1$ + $2x_3$ = 6\n",
        "\n",
        "$-3x_1$ + $4x_2$ + $6x3$ = 30\n",
        "\n",
        "$-x_1$ $-2x_2$ + $3x_3$ = 8\n",
        "\n"
      ]
    },
    {
      "cell_type": "code",
      "metadata": {
        "id": "kgah0fsmX2nF"
      },
      "source": [
        "ex =  [[1,0,2],\n",
        "     [-3,4,6],\n",
        "     [-1,-2,3]]\n",
        "\n",
        "ex1 =[[6,0,2],\n",
        "     [30,4,6],\n",
        "     [8,-2,3]]\n",
        "\n",
        "ex2 =[[1,6,2],\n",
        "     [-3,30,6],\n",
        "     [-1,8,3]]\n",
        "\n",
        "ex3 =[[1,0,6],\n",
        "     [-3,4,30],\n",
        "     [-1,-2,8]]\n",
        "\n"
      ],
      "execution_count": null,
      "outputs": []
    },
    {
      "cell_type": "code",
      "metadata": {
        "colab": {
          "base_uri": "https://localhost:8080/"
        },
        "id": "xwLm5hvEW4By",
        "outputId": "fd8f3940-6d29-49ca-fc2b-3cf26c0e9295"
      },
      "source": [
        "#기본 cramer's rule\n",
        "x1 = np.linalg.det(ex1)/np.linalg.det(ex)\n",
        "x2 = np.linalg.det(ex2)/np.linalg.det(ex)\n",
        "x3 = np.linalg.det(ex3)/np.linalg.det(ex)\n",
        "print('(x1,x2,x3) = ', (x1,x2,x3))"
      ],
      "execution_count": null,
      "outputs": [
        {
          "output_type": "stream",
          "text": [
            "(x1,x2,x3) =  (-0.9090909090909088, 1.6363636363636358, 3.4545454545454533)\n"
          ],
          "name": "stdout"
        }
      ]
    },
    {
      "cell_type": "code",
      "metadata": {
        "colab": {
          "base_uri": "https://localhost:8080/"
        },
        "id": "Sg2oSzX7aGGw",
        "outputId": "2082d1f5-68b4-4ea4-fb9c-566120fa1cbe"
      },
      "source": [
        "#역행렬 이용\n",
        "print('(x1,x2,x3) =',np.dot(np.linalg.inv(ex), [6,30,8]))"
      ],
      "execution_count": null,
      "outputs": [
        {
          "output_type": "stream",
          "text": [
            "(x1,x2,x3) = [-0.90909091  1.63636364  3.45454545]\n"
          ],
          "name": "stdout"
        }
      ]
    }
  ]
}