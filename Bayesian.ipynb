{
  "nbformat": 4,
  "nbformat_minor": 0,
  "metadata": {
    "colab": {
      "name": "n124a-bayesian-inference.ipynb",
      "provenance": [],
      "collapsed_sections": []
    },
    "kernelspec": {
      "display_name": "Python 3",
      "language": "python",
      "name": "python3"
    },
    "language_info": {
      "codemirror_mode": {
        "name": "ipython",
        "version": 3
      },
      "file_extension": ".py",
      "mimetype": "text/x-python",
      "name": "python",
      "nbconvert_exporter": "python",
      "pygments_lexer": "ipython3",
      "version": "3.8.2"
    }
  },
  "cells": [
    {
      "cell_type": "markdown",
      "metadata": {
        "id": "H7OLbevlbd_Z"
      },
      "source": [
        "<img src='https://i.imgur.com/RDAD11M.png' width = '200' align = 'right'>\n",
        "\n",
        "## *DATA SCIENCE / SECTION 1 / SPRINT 2 / NOTE 4*\n",
        "\n",
        "# 📝 Assignment\n",
        "\n",
        "# 베이지안 통계"
      ]
    },
    {
      "cell_type": "markdown",
      "metadata": {
        "id": "lPwZPpad3UOc"
      },
      "source": [
        "## 1. Multiple Choice Test\n",
        "\n",
        "객관식 문제를 푸는 과정에서, 학생은 답을 이미 알고 있거나 찍어야 합니다. \n",
        "\n",
        "학생이 답을 알 확률은 $p$이고, 답을 찍어서 맞출 확률이 $1\\over{m}$ 이라고 할 때 $m$과 $p$를 입력받아 학생이 문제의 답을 알고 맞췄을 확률을 계산하는 함수를 작성하세요."
      ]
    },
    {
      "cell_type": "code",
      "metadata": {
        "id": "trk9r0Tc97Mc",
        "colab": {
          "base_uri": "https://localhost:8080/"
        },
        "outputId": "eeaa4be5-c260-4bba-9402-301610f1b5e8"
      },
      "source": [
        "import numpy as np\n",
        "from scipy import stats\n",
        "\n",
        "def correct(p, m):\n",
        "    know = p # 정답 안다\n",
        "    dont_know = 1-p # 정답 모른다\n",
        "    correct = (1/m) #찍어서 맞음\n",
        "    wrong = 1-(1/m) #찍어서 틀림\n",
        "\n",
        "    know_correct = 1*know #답 맞고 정답 암\n",
        "    know_know = (1*know)+(correct*dont_know) #정답알고 맞음 + 정답 몰랐는데 찍어서 맞음\n",
        "    return know_correct / know_know\n",
        "\n",
        "correct(0.5,5)\n"
      ],
      "execution_count": null,
      "outputs": [
        {
          "output_type": "execute_result",
          "data": {
            "text/plain": [
              "0.8333333333333334"
            ]
          },
          "metadata": {
            "tags": []
          },
          "execution_count": 25
        }
      ]
    },
    {
      "cell_type": "code",
      "metadata": {
        "id": "FZuyy2g4nC-j",
        "colab": {
          "base_uri": "https://localhost:8080/"
        },
        "outputId": "71927181-5d14-4f07-b46f-e36f43148b2c"
      },
      "source": [
        "correct(0.25, 4)"
      ],
      "execution_count": null,
      "outputs": [
        {
          "output_type": "execute_result",
          "data": {
            "text/plain": [
              "0.5714285714285714"
            ]
          },
          "metadata": {
            "tags": []
          },
          "execution_count": 26
        }
      ]
    },
    {
      "cell_type": "markdown",
      "metadata": {
        "id": "rfatZAHfIzUn"
      },
      "source": [
        "## 2. Blood Test\n",
        "\n",
        "특정 질병을 가지고 있는 경우 **99%** 의 확률로 탐지 할 수 있는 실험방법이 있습니다.\n",
        "\n",
        "그러나 동시에 이 방법은, **1%** 의 확률로 질병이 없지만 질병이 있다고 진단 하는 경우도 있는데요.\n",
        "\n",
        "실제로 모든 인구중 **0.5%** 만이 이 질병을 가지고 있다고 하겠습니다.\n",
        "\n",
        "특정 사람이 이 방법을 통해 질병이 있다고 진단 받았을때, 실제로 질병을 가지고 있을 확률을 구하는 함수를 작성하세요."
      ]
    },
    {
      "cell_type": "code",
      "metadata": {
        "id": "qKYGZ5fkFjQ-",
        "colab": {
          "base_uri": "https://localhost:8080/"
        },
        "outputId": "25132066-12ec-4476-8e17-5a2010a9bed1"
      },
      "source": [
        "p_pos_used = 0.99\n",
        "p_used = 0.005\n",
        "p_pos_not_used = 0.01\n",
        "p_not_used = 1 - p_used\n",
        "numerator = p_pos_used * p_used\n",
        "denominator = (p_pos_used * p_used) + (p_pos_not_used * p_not_used)\n",
        "posterior_probability = numerator / denominator\n",
        "posterior_probability"
      ],
      "execution_count": null,
      "outputs": [
        {
          "output_type": "execute_result",
          "data": {
            "text/plain": [
              "0.33221476510067116"
            ]
          },
          "metadata": {
            "tags": []
          },
          "execution_count": 7
        }
      ]
    },
    {
      "cell_type": "code",
      "metadata": {
        "colab": {
          "base_uri": "https://localhost:8080/"
        },
        "id": "BZ1bzDsfPhpY",
        "outputId": "b3c34518-589b-4c12-c0c7-3a34fbe46a1c"
      },
      "source": [
        "def disease(prior, tpr, fpr):\n",
        "  p_right = tpr #탐지 정상\n",
        "  p_percentage = prior #인구중 질병 있음\n",
        "  p_wrong = fpr #탐지 오류\n",
        "  p_no_use = 1 - p_percentage #질병 없음\n",
        "\n",
        "  p_disease_right = (p_right * p_percentage) / ((p_right * p_percentage) + (p_wrong * p_no_use))\n",
        "\n",
        "  return p_disease_right\n",
        "\n",
        "print(disease(0.005, 0.99, 0.01))\n",
        "\n",
        "\n",
        "\n"
      ],
      "execution_count": null,
      "outputs": [
        {
          "output_type": "stream",
          "text": [
            "0.33221476510067116\n"
          ],
          "name": "stdout"
        }
      ]
    },
    {
      "cell_type": "code",
      "metadata": {
        "id": "CxPImt9EnNQR",
        "colab": {
          "base_uri": "https://localhost:8080/"
        },
        "outputId": "b8b65def-24c5-40d5-c6b4-d32249f3a17a"
      },
      "source": [
        "disease(0.01, 0.995, 0.005)"
      ],
      "execution_count": null,
      "outputs": [
        {
          "output_type": "execute_result",
          "data": {
            "text/plain": [
              "0.6677852348993288"
            ]
          },
          "metadata": {
            "tags": []
          },
          "execution_count": 30
        }
      ]
    },
    {
      "cell_type": "markdown",
      "metadata": {
        "id": "GP7Jv1XvwtkX"
      },
      "source": [
        "## 🔥 도전 과제:\n",
        "\n"
      ]
    },
    {
      "cell_type": "markdown",
      "metadata": {
        "id": "M3WuZEGM3UOd"
      },
      "source": [
        "### 다음 문제를 읽고 답을 구하세요\n",
        "\n",
        "At a Certain stage of a criminal investigation, the inspector in charge is **60%** convinced of the guild of a certain suspect. <br>\n",
        "Suppose now that a new piece of evidence that shows that the criminal has a left-handedness is uncovered. <br>\n",
        "If **20% of population possesses this characteristic**, how certain of the guilt of the suspect should the inspector now be if it turns out that the suspect is among this group? <br>\n",
        "\n",
        "After that, the new evidence is subject to different possible interpretations, and in fact only shows that it is **90% likely that the criminal possess this characteristic**.  \n",
        "In this case how likely would it be that the suspect is guilty?"
      ]
    },
    {
      "cell_type": "code",
      "metadata": {
        "colab": {
          "base_uri": "https://localhost:8080/"
        },
        "id": "3Y2Y-l-zIzUp",
        "outputId": "1af89976-41f5-49d9-c8f5-daf791e52ae1"
      },
      "source": [
        "#how certain of the guilt of the suspect should the inspector now be if it turns out that the suspect is among this group?\n",
        "p_guilty = 0.6 #60퍼센트 확률로 범죄자임을 확신\n",
        "p_used = 1 #범죄자는 왼손잡이다\n",
        "p_charac = 0.2 #20퍼센트의 population이 왼손잡이\n",
        "p_n_guilty = 1 - p_guilty\n",
        "\n",
        "posterior_probability = (1 * 0.6)/(1*0.6 + 0.2*0.4)\n",
        "\n",
        "guilty_left = p_guilty * p_used\n",
        "left = (p_guilty * p_used) + (p_n_guilty * p_charac)\n",
        "ans = guilty_left / left\n",
        "ans\n",
        "\n"
      ],
      "execution_count": null,
      "outputs": [
        {
          "output_type": "execute_result",
          "data": {
            "text/plain": [
              "0.8823529411764707"
            ]
          },
          "metadata": {
            "tags": []
          },
          "execution_count": 22
        }
      ]
    },
    {
      "cell_type": "code",
      "metadata": {
        "colab": {
          "base_uri": "https://localhost:8080/"
        },
        "id": "Gj2Xh1PcwJe9",
        "outputId": "f23a1d9e-5090-4e41-a188-d80de01064e5"
      },
      "source": [
        "p_guilty = 0.6 #60퍼센트 확률로 범죄자\n",
        "p_used = 0.9 #범죄자가 왼손잡이일 확률 90%로 변경\n",
        "p_charac = 0.2 #20퍼센트의 population이 왼손잡이\n",
        "p_n_guilty = 1 - p_guilty\n",
        "\n",
        "posterior_probability = (0.9 * 0.6)/(0.9*0.6 + 0.2*0.4)\n",
        "\n",
        "guilty_left = p_guilty * p_used\n",
        "left = (p_guilty * p_used) + (p_n_guilty * p_charac)\n",
        "ans = guilty_left / left\n",
        "ans"
      ],
      "execution_count": null,
      "outputs": [
        {
          "output_type": "execute_result",
          "data": {
            "text/plain": [
              "0.8709677419354838"
            ]
          },
          "metadata": {
            "tags": []
          },
          "execution_count": 23
        }
      ]
    }
  ]
}