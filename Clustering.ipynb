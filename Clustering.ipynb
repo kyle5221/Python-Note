{
  "nbformat": 4,
  "nbformat_minor": 0,
  "metadata": {
    "colab": {
      "name": "n134a-clustering.ipynb",
      "provenance": []
    },
    "kernelspec": {
      "display_name": "Python 3",
      "language": "python",
      "name": "python3"
    },
    "language_info": {
      "codemirror_mode": {
        "name": "ipython",
        "version": 3
      },
      "file_extension": ".py",
      "mimetype": "text/x-python",
      "name": "python",
      "nbconvert_exporter": "python",
      "pygments_lexer": "ipython3",
      "version": "3.8.2"
    }
  },
  "cells": [
    {
      "cell_type": "markdown",
      "metadata": {
        "id": "y-3rVFtGLMJM"
      },
      "source": [
        "<img src='https://i.imgur.com/RDAD11M.png' width = '200' align = 'right'>\n",
        "\n",
        "## *DATA SCIENCE / SECTION 1 / SPRINT 3 / NOTE 4*\n",
        "\n",
        "# 📝 Assignment\n"
      ]
    },
    {
      "cell_type": "markdown",
      "metadata": {
        "id": "_VS3FFSFLR3a"
      },
      "source": [
        "# Breast Cancer Clustering\n",
        "\n"
      ]
    },
    {
      "cell_type": "markdown",
      "metadata": {
        "id": "3WZDb57q1j-x"
      },
      "source": [
        "## 1. 아래의 주소를 참조하여, 데이터를 `df`에 준비하세요.\n",
        "\n",
        "<https://www.kaggle.com/uciml/breast-cancer-wisconsin-data>\n",
        "\n",
        "- Feature마다 scale이 다르기 때문에 `StandardScaler`를 적용해야합니다.\n",
        "- 이후,  \"diagnosis\"에 있는 label 데이터를 따로 `label`이라는 변수로 생성하세요.\n",
        "- \"diagnosis\"를 제거한 나머지 데이터를 사용하여 k-means clustering을 하며, \n",
        "- `n_clusters = 2`, `random_state = 42`를 제외한 다른 parameter는 default option을 사용합니다."
      ]
    },
    {
      "cell_type": "code",
      "metadata": {
        "colab": {
          "resources": {
            "http://localhost:8080/nbextensions/google.colab/files.js": {
              "data": "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",
              "ok": true,
              "headers": [
                [
                  "content-type",
                  "application/javascript"
                ]
              ],
              "status": 200,
              "status_text": ""
            }
          },
          "base_uri": "https://localhost:8080/",
          "height": 75
        },
        "id": "bLxEQKbCarWO",
        "outputId": "81bbc6b9-69e6-477d-e2b4-930d97c8bc4c"
      },
      "source": [
        "from google.colab import files\n",
        "uploaded = files.upload()"
      ],
      "execution_count": null,
      "outputs": [
        {
          "output_type": "display_data",
          "data": {
            "text/html": [
              "\n",
              "     <input type=\"file\" id=\"files-30788b82-ab85-49e0-b543-12d4c172965d\" name=\"files[]\" multiple disabled\n",
              "        style=\"border:none\" />\n",
              "     <output id=\"result-30788b82-ab85-49e0-b543-12d4c172965d\">\n",
              "      Upload widget is only available when the cell has been executed in the\n",
              "      current browser session. Please rerun this cell to enable.\n",
              "      </output>\n",
              "      <script src=\"/nbextensions/google.colab/files.js\"></script> "
            ],
            "text/plain": [
              "<IPython.core.display.HTML object>"
            ]
          },
          "metadata": {
            "tags": []
          }
        },
        {
          "output_type": "stream",
          "text": [
            "Saving data.csv to data (1).csv\n"
          ],
          "name": "stdout"
        }
      ]
    },
    {
      "cell_type": "code",
      "metadata": {
        "id": "ws5R9X6hLJQ2",
        "colab": {
          "base_uri": "https://localhost:8080/"
        },
        "outputId": "ce90dc92-2d82-4e1f-a7db-b5ab4aec987a"
      },
      "source": [
        "import pandas as pd\n",
        "import numpy as np\n",
        "import seaborn as sns\n",
        "from sklearn.cluster import KMeans \n",
        "from sklearn.preprocessing import StandardScaler \n",
        "from sklearn.decomposition import PCA\n",
        "import matplotlib.pyplot as plt\n",
        "\n",
        "#데이터 불러오기\n",
        "df = pd.read_csv('data.csv')\n",
        "\n",
        "#Diagnosis -> Label로 저장\n",
        "label = df['diagnosis']\n",
        "\n",
        "#숫자 데이터만 도출\n",
        "df = df.drop('diagnosis', axis=1)\n",
        "\n",
        "#의미없는 데이터 제거\n",
        "df = df.drop('Unnamed: 32', axis=1)\n",
        "df = df.drop('id', axis=1)\n",
        "\n",
        "\n",
        "#정규화\n",
        "scaler = StandardScaler()\n",
        "scaler.fit(df)\n",
        "df = scaler.transform(df)\n",
        "df"
      ],
      "execution_count": null,
      "outputs": [
        {
          "output_type": "execute_result",
          "data": {
            "text/plain": [
              "array([[ 1.09706398, -2.07333501,  1.26993369, ...,  2.29607613,\n",
              "         2.75062224,  1.93701461],\n",
              "       [ 1.82982061, -0.35363241,  1.68595471, ...,  1.0870843 ,\n",
              "        -0.24388967,  0.28118999],\n",
              "       [ 1.57988811,  0.45618695,  1.56650313, ...,  1.95500035,\n",
              "         1.152255  ,  0.20139121],\n",
              "       ...,\n",
              "       [ 0.70228425,  2.0455738 ,  0.67267578, ...,  0.41406869,\n",
              "        -1.10454895, -0.31840916],\n",
              "       [ 1.83834103,  2.33645719,  1.98252415, ...,  2.28998549,\n",
              "         1.91908301,  2.21963528],\n",
              "       [-1.80840125,  1.22179204, -1.81438851, ..., -1.74506282,\n",
              "        -0.04813821, -0.75120669]])"
            ]
          },
          "metadata": {
            "tags": []
          },
          "execution_count": 148
        }
      ]
    },
    {
      "cell_type": "code",
      "metadata": {
        "colab": {
          "base_uri": "https://localhost:8080/",
          "height": 294
        },
        "id": "SYe-psp4dXjs",
        "outputId": "d77a6df8-49b1-452d-cab5-93293e399817"
      },
      "source": [
        "#Elbow methods\n",
        "sum_of_sqd = []\n",
        "K = range(1, 15)\n",
        "for k in K:\n",
        "    km = KMeans(n_clusters = k)\n",
        "    km = km.fit(df)\n",
        "    sum_of_sqd.append(km.inertia_)\n",
        "\n",
        "plt.plot(K, sum_of_sqd, 'bx-')\n",
        "plt.xlabel('k')\n",
        "plt.ylabel('Sum_of_squared_distances')\n",
        "plt.title('Elbow Method For Optimal k')\n",
        "plt.show()\n"
      ],
      "execution_count": null,
      "outputs": [
        {
          "output_type": "display_data",
          "data": {
            "image/png": "[encoded data removed]",
            "text/plain": [
              "<Figure size 432x288 with 1 Axes>"
            ]
          },
          "metadata": {
            "tags": [],
            "needs_background": "light"
          }
        }
      ]
    },
    {
      "cell_type": "code",
      "metadata": {
        "colab": {
          "base_uri": "https://localhost:8080/"
        },
        "id": "WFv4LIBIjY2M",
        "outputId": "bcccd875-3d84-414e-c88b-a5742ab935eb"
      },
      "source": [
        "#K-Means Clustering \n",
        "k2_means = KMeans(n_clusters=2, random_state=42)\n",
        "k2_means.fit(df)\n",
        "clusters = k2_means.labels_\n",
        "series = pd.Series(clusters)\n",
        "series"
      ],
      "execution_count": null,
      "outputs": [
        {
          "output_type": "execute_result",
          "data": {
            "text/plain": [
              "0      0\n",
              "1      0\n",
              "2      0\n",
              "3      0\n",
              "4      0\n",
              "      ..\n",
              "564    0\n",
              "565    0\n",
              "566    0\n",
              "567    0\n",
              "568    1\n",
              "Length: 569, dtype: int32"
            ]
          },
          "metadata": {
            "tags": []
          },
          "execution_count": 163
        }
      ]
    },
    {
      "cell_type": "code",
      "metadata": {
        "colab": {
          "base_uri": "https://localhost:8080/",
          "height": 406
        },
        "id": "QjjnL_EckOhD",
        "outputId": "95571b83-8e55-4b45-dc2d-214330a4ef22"
      },
      "source": [
        "#PCA & DataFrame\n",
        "pca = PCA(n_components = 2)\n",
        "pc = pca.fit_transform(df)\n",
        "final_df = pd.DataFrame(data = pc, columns = ['PC1','PC2'])\n",
        "final_df['Cluster'] = series\n",
        "final_df"
      ],
      "execution_count": null,
      "outputs": [
        {
          "output_type": "execute_result",
          "data": {
            "text/html": [
              "<div>\n",
              "<style scoped>\n",
              "    .dataframe tbody tr th:only-of-type {\n",
              "        vertical-align: middle;\n",
              "    }\n",
              "\n",
              "    .dataframe tbody tr th {\n",
              "        vertical-align: top;\n",
              "    }\n",
              "\n",
              "    .dataframe thead th {\n",
              "        text-align: right;\n",
              "    }\n",
              "</style>\n",
              "<table border=\"1\" class=\"dataframe\">\n",
              "  <thead>\n",
              "    <tr style=\"text-align: right;\">\n",
              "      <th></th>\n",
              "      <th>PC1</th>\n",
              "      <th>PC2</th>\n",
              "      <th>Cluster</th>\n",
              "    </tr>\n",
              "  </thead>\n",
              "  <tbody>\n",
              "    <tr>\n",
              "      <th>0</th>\n",
              "      <td>9.192837</td>\n",
              "      <td>1.948583</td>\n",
              "      <td>0</td>\n",
              "    </tr>\n",
              "    <tr>\n",
              "      <th>1</th>\n",
              "      <td>2.387802</td>\n",
              "      <td>-3.768172</td>\n",
              "      <td>0</td>\n",
              "    </tr>\n",
              "    <tr>\n",
              "      <th>2</th>\n",
              "      <td>5.733896</td>\n",
              "      <td>-1.075174</td>\n",
              "      <td>0</td>\n",
              "    </tr>\n",
              "    <tr>\n",
              "      <th>3</th>\n",
              "      <td>7.122953</td>\n",
              "      <td>10.275589</td>\n",
              "      <td>0</td>\n",
              "    </tr>\n",
              "    <tr>\n",
              "      <th>4</th>\n",
              "      <td>3.935302</td>\n",
              "      <td>-1.948072</td>\n",
              "      <td>0</td>\n",
              "    </tr>\n",
              "    <tr>\n",
              "      <th>...</th>\n",
              "      <td>...</td>\n",
              "      <td>...</td>\n",
              "      <td>...</td>\n",
              "    </tr>\n",
              "    <tr>\n",
              "      <th>564</th>\n",
              "      <td>6.439315</td>\n",
              "      <td>-3.576817</td>\n",
              "      <td>0</td>\n",
              "    </tr>\n",
              "    <tr>\n",
              "      <th>565</th>\n",
              "      <td>3.793382</td>\n",
              "      <td>-3.584048</td>\n",
              "      <td>0</td>\n",
              "    </tr>\n",
              "    <tr>\n",
              "      <th>566</th>\n",
              "      <td>1.256179</td>\n",
              "      <td>-1.902297</td>\n",
              "      <td>0</td>\n",
              "    </tr>\n",
              "    <tr>\n",
              "      <th>567</th>\n",
              "      <td>10.374794</td>\n",
              "      <td>1.672010</td>\n",
              "      <td>0</td>\n",
              "    </tr>\n",
              "    <tr>\n",
              "      <th>568</th>\n",
              "      <td>-5.475243</td>\n",
              "      <td>-0.670637</td>\n",
              "      <td>1</td>\n",
              "    </tr>\n",
              "  </tbody>\n",
              "</table>\n",
              "<p>569 rows × 3 columns</p>\n",
              "</div>"
            ],
            "text/plain": [
              "           PC1        PC2  Cluster\n",
              "0     9.192837   1.948583        0\n",
              "1     2.387802  -3.768172        0\n",
              "2     5.733896  -1.075174        0\n",
              "3     7.122953  10.275589        0\n",
              "4     3.935302  -1.948072        0\n",
              "..         ...        ...      ...\n",
              "564   6.439315  -3.576817        0\n",
              "565   3.793382  -3.584048        0\n",
              "566   1.256179  -1.902297        0\n",
              "567  10.374794   1.672010        0\n",
              "568  -5.475243  -0.670637        1\n",
              "\n",
              "[569 rows x 3 columns]"
            ]
          },
          "metadata": {
            "tags": []
          },
          "execution_count": 164
        }
      ]
    },
    {
      "cell_type": "code",
      "metadata": {
        "colab": {
          "base_uri": "https://localhost:8080/",
          "height": 406
        },
        "id": "0ZwYrkqtlB8_",
        "outputId": "23159801-670d-4111-aeec-b29ecc44f196"
      },
      "source": [
        "label_df = pd.DataFrame(data = pc, columns = ['PC1', 'PC2'])\n",
        "label_df['Diagnosis'] = pd.Series(label)\n",
        "label_df"
      ],
      "execution_count": null,
      "outputs": [
        {
          "output_type": "execute_result",
          "data": {
            "text/html": [
              "<div>\n",
              "<style scoped>\n",
              "    .dataframe tbody tr th:only-of-type {\n",
              "        vertical-align: middle;\n",
              "    }\n",
              "\n",
              "    .dataframe tbody tr th {\n",
              "        vertical-align: top;\n",
              "    }\n",
              "\n",
              "    .dataframe thead th {\n",
              "        text-align: right;\n",
              "    }\n",
              "</style>\n",
              "<table border=\"1\" class=\"dataframe\">\n",
              "  <thead>\n",
              "    <tr style=\"text-align: right;\">\n",
              "      <th></th>\n",
              "      <th>PC1</th>\n",
              "      <th>PC2</th>\n",
              "      <th>Diagnosis</th>\n",
              "    </tr>\n",
              "  </thead>\n",
              "  <tbody>\n",
              "    <tr>\n",
              "      <th>0</th>\n",
              "      <td>9.192837</td>\n",
              "      <td>1.948583</td>\n",
              "      <td>M</td>\n",
              "    </tr>\n",
              "    <tr>\n",
              "      <th>1</th>\n",
              "      <td>2.387802</td>\n",
              "      <td>-3.768172</td>\n",
              "      <td>M</td>\n",
              "    </tr>\n",
              "    <tr>\n",
              "      <th>2</th>\n",
              "      <td>5.733896</td>\n",
              "      <td>-1.075174</td>\n",
              "      <td>M</td>\n",
              "    </tr>\n",
              "    <tr>\n",
              "      <th>3</th>\n",
              "      <td>7.122953</td>\n",
              "      <td>10.275589</td>\n",
              "      <td>M</td>\n",
              "    </tr>\n",
              "    <tr>\n",
              "      <th>4</th>\n",
              "      <td>3.935302</td>\n",
              "      <td>-1.948072</td>\n",
              "      <td>M</td>\n",
              "    </tr>\n",
              "    <tr>\n",
              "      <th>...</th>\n",
              "      <td>...</td>\n",
              "      <td>...</td>\n",
              "      <td>...</td>\n",
              "    </tr>\n",
              "    <tr>\n",
              "      <th>564</th>\n",
              "      <td>6.439315</td>\n",
              "      <td>-3.576817</td>\n",
              "      <td>M</td>\n",
              "    </tr>\n",
              "    <tr>\n",
              "      <th>565</th>\n",
              "      <td>3.793382</td>\n",
              "      <td>-3.584048</td>\n",
              "      <td>M</td>\n",
              "    </tr>\n",
              "    <tr>\n",
              "      <th>566</th>\n",
              "      <td>1.256179</td>\n",
              "      <td>-1.902297</td>\n",
              "      <td>M</td>\n",
              "    </tr>\n",
              "    <tr>\n",
              "      <th>567</th>\n",
              "      <td>10.374794</td>\n",
              "      <td>1.672010</td>\n",
              "      <td>M</td>\n",
              "    </tr>\n",
              "    <tr>\n",
              "      <th>568</th>\n",
              "      <td>-5.475243</td>\n",
              "      <td>-0.670637</td>\n",
              "      <td>B</td>\n",
              "    </tr>\n",
              "  </tbody>\n",
              "</table>\n",
              "<p>569 rows × 3 columns</p>\n",
              "</div>"
            ],
            "text/plain": [
              "           PC1        PC2 Diagnosis\n",
              "0     9.192837   1.948583         M\n",
              "1     2.387802  -3.768172         M\n",
              "2     5.733896  -1.075174         M\n",
              "3     7.122953  10.275589         M\n",
              "4     3.935302  -1.948072         M\n",
              "..         ...        ...       ...\n",
              "564   6.439315  -3.576817         M\n",
              "565   3.793382  -3.584048         M\n",
              "566   1.256179  -1.902297         M\n",
              "567  10.374794   1.672010         M\n",
              "568  -5.475243  -0.670637         B\n",
              "\n",
              "[569 rows x 3 columns]"
            ]
          },
          "metadata": {
            "tags": []
          },
          "execution_count": 165
        }
      ]
    },
    {
      "cell_type": "code",
      "metadata": {
        "colab": {
          "base_uri": "https://localhost:8080/",
          "height": 294
        },
        "id": "heQJprMhmyCI",
        "outputId": "e351edd8-8a5c-45b2-d5b5-78323a4fd2d6"
      },
      "source": [
        "sns.scatterplot(data = label_df ,x='PC1',y='PC2', hue='Diagnosis')\n",
        "plt.title('Diagnosis Labeled')\n",
        "plt.show()"
      ],
      "execution_count": null,
      "outputs": [
        {
          "output_type": "display_data",
          "data": {
            "image/png": "[encoded data removed]",
            "text/plain": [
              "<Figure size 432x288 with 1 Axes>"
            ]
          },
          "metadata": {
            "tags": [],
            "needs_background": "light"
          }
        }
      ]
    },
    {
      "cell_type": "code",
      "metadata": {
        "colab": {
          "base_uri": "https://localhost:8080/",
          "height": 406
        },
        "id": "mEJChRgDTKp7",
        "outputId": "8603b636-bf8d-4684-d8b4-00fab2f27a93"
      },
      "source": [
        "#여기서 부터는 90퍼센트 이상 찾기 구현 그래프 연습\n",
        "\n",
        "pca = PCA(n_components = 14)\n",
        "pc = pca.fit_transform(df)\n",
        "final_df = pd.DataFrame(data = pc, columns = ['PC1','PC2','PC3','PC4', 'PC5', 'PC6','PC7','PC8','PC9','PC10','PC11','PC12','PC13','PC14'])\n",
        "final_df['Cluster'] = series\n",
        "final_df"
      ],
      "execution_count": null,
      "outputs": [
        {
          "output_type": "execute_result",
          "data": {
            "text/html": [
              "<div>\n",
              "<style scoped>\n",
              "    .dataframe tbody tr th:only-of-type {\n",
              "        vertical-align: middle;\n",
              "    }\n",
              "\n",
              "    .dataframe tbody tr th {\n",
              "        vertical-align: top;\n",
              "    }\n",
              "\n",
              "    .dataframe thead th {\n",
              "        text-align: right;\n",
              "    }\n",
              "</style>\n",
              "<table border=\"1\" class=\"dataframe\">\n",
              "  <thead>\n",
              "    <tr style=\"text-align: right;\">\n",
              "      <th></th>\n",
              "      <th>PC1</th>\n",
              "      <th>PC2</th>\n",
              "      <th>PC3</th>\n",
              "      <th>PC4</th>\n",
              "      <th>PC5</th>\n",
              "      <th>PC6</th>\n",
              "      <th>PC7</th>\n",
              "      <th>PC8</th>\n",
              "      <th>PC9</th>\n",
              "      <th>PC10</th>\n",
              "      <th>PC11</th>\n",
              "      <th>PC12</th>\n",
              "      <th>PC13</th>\n",
              "      <th>PC14</th>\n",
              "      <th>Cluster</th>\n",
              "    </tr>\n",
              "  </thead>\n",
              "  <tbody>\n",
              "    <tr>\n",
              "      <th>0</th>\n",
              "      <td>9.192837</td>\n",
              "      <td>1.948583</td>\n",
              "      <td>-1.123166</td>\n",
              "      <td>3.633731</td>\n",
              "      <td>-1.195110</td>\n",
              "      <td>1.411424</td>\n",
              "      <td>2.159370</td>\n",
              "      <td>-0.398407</td>\n",
              "      <td>-0.157119</td>\n",
              "      <td>-0.877402</td>\n",
              "      <td>0.262955</td>\n",
              "      <td>-0.859015</td>\n",
              "      <td>0.103391</td>\n",
              "      <td>-0.690802</td>\n",
              "      <td>0</td>\n",
              "    </tr>\n",
              "    <tr>\n",
              "      <th>1</th>\n",
              "      <td>2.387802</td>\n",
              "      <td>-3.768172</td>\n",
              "      <td>-0.529293</td>\n",
              "      <td>1.118264</td>\n",
              "      <td>0.621775</td>\n",
              "      <td>0.028656</td>\n",
              "      <td>0.013358</td>\n",
              "      <td>0.240988</td>\n",
              "      <td>-0.711905</td>\n",
              "      <td>1.106994</td>\n",
              "      <td>0.813118</td>\n",
              "      <td>0.157922</td>\n",
              "      <td>-0.943523</td>\n",
              "      <td>-0.653473</td>\n",
              "      <td>0</td>\n",
              "    </tr>\n",
              "    <tr>\n",
              "      <th>2</th>\n",
              "      <td>5.733896</td>\n",
              "      <td>-1.075174</td>\n",
              "      <td>-0.551748</td>\n",
              "      <td>0.912083</td>\n",
              "      <td>-0.177086</td>\n",
              "      <td>0.541452</td>\n",
              "      <td>-0.668166</td>\n",
              "      <td>0.097374</td>\n",
              "      <td>0.024066</td>\n",
              "      <td>0.454276</td>\n",
              "      <td>-0.605603</td>\n",
              "      <td>0.124388</td>\n",
              "      <td>-0.410630</td>\n",
              "      <td>0.016678</td>\n",
              "      <td>0</td>\n",
              "    </tr>\n",
              "    <tr>\n",
              "      <th>3</th>\n",
              "      <td>7.122953</td>\n",
              "      <td>10.275589</td>\n",
              "      <td>-3.232790</td>\n",
              "      <td>0.152547</td>\n",
              "      <td>-2.960878</td>\n",
              "      <td>3.053422</td>\n",
              "      <td>1.429911</td>\n",
              "      <td>1.059565</td>\n",
              "      <td>-1.405440</td>\n",
              "      <td>-1.116975</td>\n",
              "      <td>-1.151514</td>\n",
              "      <td>1.011316</td>\n",
              "      <td>-0.933269</td>\n",
              "      <td>-0.487417</td>\n",
              "      <td>0</td>\n",
              "    </tr>\n",
              "    <tr>\n",
              "      <th>4</th>\n",
              "      <td>3.935302</td>\n",
              "      <td>-1.948072</td>\n",
              "      <td>1.389767</td>\n",
              "      <td>2.940639</td>\n",
              "      <td>0.546747</td>\n",
              "      <td>-1.226495</td>\n",
              "      <td>-0.936213</td>\n",
              "      <td>0.636376</td>\n",
              "      <td>-0.263805</td>\n",
              "      <td>0.377705</td>\n",
              "      <td>0.651360</td>\n",
              "      <td>-0.110515</td>\n",
              "      <td>0.387947</td>\n",
              "      <td>-0.539181</td>\n",
              "      <td>0</td>\n",
              "    </tr>\n",
              "    <tr>\n",
              "      <th>...</th>\n",
              "      <td>...</td>\n",
              "      <td>...</td>\n",
              "      <td>...</td>\n",
              "      <td>...</td>\n",
              "      <td>...</td>\n",
              "      <td>...</td>\n",
              "      <td>...</td>\n",
              "      <td>...</td>\n",
              "      <td>...</td>\n",
              "      <td>...</td>\n",
              "      <td>...</td>\n",
              "      <td>...</td>\n",
              "      <td>...</td>\n",
              "      <td>...</td>\n",
              "      <td>...</td>\n",
              "    </tr>\n",
              "    <tr>\n",
              "      <th>564</th>\n",
              "      <td>6.439315</td>\n",
              "      <td>-3.576817</td>\n",
              "      <td>2.459487</td>\n",
              "      <td>1.177314</td>\n",
              "      <td>-0.074824</td>\n",
              "      <td>-2.375193</td>\n",
              "      <td>-0.596130</td>\n",
              "      <td>-0.035471</td>\n",
              "      <td>0.987929</td>\n",
              "      <td>0.256989</td>\n",
              "      <td>-0.062650</td>\n",
              "      <td>0.123343</td>\n",
              "      <td>-0.051728</td>\n",
              "      <td>-0.404293</td>\n",
              "      <td>0</td>\n",
              "    </tr>\n",
              "    <tr>\n",
              "      <th>565</th>\n",
              "      <td>3.793382</td>\n",
              "      <td>-3.584048</td>\n",
              "      <td>2.088476</td>\n",
              "      <td>-2.506028</td>\n",
              "      <td>-0.510723</td>\n",
              "      <td>-0.246710</td>\n",
              "      <td>-0.716326</td>\n",
              "      <td>-1.113360</td>\n",
              "      <td>-0.105207</td>\n",
              "      <td>-0.108633</td>\n",
              "      <td>0.244803</td>\n",
              "      <td>0.222752</td>\n",
              "      <td>-0.192637</td>\n",
              "      <td>0.015556</td>\n",
              "      <td>0</td>\n",
              "    </tr>\n",
              "    <tr>\n",
              "      <th>566</th>\n",
              "      <td>1.256179</td>\n",
              "      <td>-1.902297</td>\n",
              "      <td>0.562731</td>\n",
              "      <td>-2.089227</td>\n",
              "      <td>1.809991</td>\n",
              "      <td>-0.534447</td>\n",
              "      <td>-0.192758</td>\n",
              "      <td>0.341887</td>\n",
              "      <td>0.393917</td>\n",
              "      <td>0.520877</td>\n",
              "      <td>-0.840512</td>\n",
              "      <td>0.096473</td>\n",
              "      <td>0.157418</td>\n",
              "      <td>0.285691</td>\n",
              "      <td>0</td>\n",
              "    </tr>\n",
              "    <tr>\n",
              "      <th>567</th>\n",
              "      <td>10.374794</td>\n",
              "      <td>1.672010</td>\n",
              "      <td>-1.877029</td>\n",
              "      <td>-2.356031</td>\n",
              "      <td>-0.033742</td>\n",
              "      <td>0.567936</td>\n",
              "      <td>0.223082</td>\n",
              "      <td>-0.280238</td>\n",
              "      <td>-0.542034</td>\n",
              "      <td>-0.089295</td>\n",
              "      <td>-0.178625</td>\n",
              "      <td>-0.697459</td>\n",
              "      <td>1.225183</td>\n",
              "      <td>0.218692</td>\n",
              "      <td>0</td>\n",
              "    </tr>\n",
              "    <tr>\n",
              "      <th>568</th>\n",
              "      <td>-5.475243</td>\n",
              "      <td>-0.670637</td>\n",
              "      <td>1.490443</td>\n",
              "      <td>-2.299157</td>\n",
              "      <td>-0.184703</td>\n",
              "      <td>1.617837</td>\n",
              "      <td>1.698952</td>\n",
              "      <td>1.046354</td>\n",
              "      <td>0.374101</td>\n",
              "      <td>-0.047726</td>\n",
              "      <td>-0.144094</td>\n",
              "      <td>-0.179496</td>\n",
              "      <td>0.678897</td>\n",
              "      <td>-1.170725</td>\n",
              "      <td>1</td>\n",
              "    </tr>\n",
              "  </tbody>\n",
              "</table>\n",
              "<p>569 rows × 15 columns</p>\n",
              "</div>"
            ],
            "text/plain": [
              "           PC1        PC2       PC3  ...      PC13      PC14  Cluster\n",
              "0     9.192837   1.948583 -1.123166  ...  0.103391 -0.690802        0\n",
              "1     2.387802  -3.768172 -0.529293  ... -0.943523 -0.653473        0\n",
              "2     5.733896  -1.075174 -0.551748  ... -0.410630  0.016678        0\n",
              "3     7.122953  10.275589 -3.232790  ... -0.933269 -0.487417        0\n",
              "4     3.935302  -1.948072  1.389767  ...  0.387947 -0.539181        0\n",
              "..         ...        ...       ...  ...       ...       ...      ...\n",
              "564   6.439315  -3.576817  2.459487  ... -0.051728 -0.404293        0\n",
              "565   3.793382  -3.584048  2.088476  ... -0.192637  0.015556        0\n",
              "566   1.256179  -1.902297  0.562731  ...  0.157418  0.285691        0\n",
              "567  10.374794   1.672010 -1.877029  ...  1.225183  0.218692        0\n",
              "568  -5.475243  -0.670637  1.490443  ...  0.678897 -1.170725        1\n",
              "\n",
              "[569 rows x 15 columns]"
            ]
          },
          "metadata": {
            "tags": []
          },
          "execution_count": 157
        }
      ]
    },
    {
      "cell_type": "code",
      "metadata": {
        "colab": {
          "base_uri": "https://localhost:8080/"
        },
        "id": "W5zA0JXETlJ3",
        "outputId": "ca383176-6681-4d2d-c235-0523a626a1f3"
      },
      "source": [
        "pca.explained_variance_ratio_"
      ],
      "execution_count": null,
      "outputs": [
        {
          "output_type": "execute_result",
          "data": {
            "text/plain": [
              "array([0.44272026, 0.18971182, 0.09393163, 0.06602135, 0.05495768,\n",
              "       0.04024522, 0.02250734, 0.01588724, 0.01389649, 0.01168978,\n",
              "       0.00979719, 0.00870538, 0.00804525, 0.00523366])"
            ]
          },
          "metadata": {
            "tags": []
          },
          "execution_count": 158
        }
      ]
    },
    {
      "cell_type": "code",
      "metadata": {
        "colab": {
          "base_uri": "https://localhost:8080/",
          "height": 281
        },
        "id": "T0OJMOohTiUO",
        "outputId": "0c36ae72-e92c-41ba-cb48-6f0a196fa228"
      },
      "source": [
        "percentage = np.round(pca.explained_variance_ratio_*100, decimals=1)\n",
        "\n",
        "plt.title('Scree Plot')\n",
        "plt.bar(x= ['PC1','PC2','PC3','PC4', 'PC5', 'PC6','PC7','PC8','PC9','PC10','PC11','PC12','PC13','PC14'], height=percentage)\n",
        "plt.ylabel('Variance')\n",
        "\n",
        "plt.show()"
      ],
      "execution_count": null,
      "outputs": [
        {
          "output_type": "display_data",
          "data": {
            "image/png": "[encoded data removed]",
            "text/plain": [
              "<Figure size 432x288 with 1 Axes>"
            ]
          },
          "metadata": {
            "tags": [],
            "needs_background": "light"
          }
        }
      ]
    },
    {
      "cell_type": "code",
      "metadata": {
        "colab": {
          "base_uri": "https://localhost:8080/",
          "height": 298
        },
        "id": "8hjissYETtQp",
        "outputId": "e15f6341-7896-4d0d-f6f0-4dcdf77f96eb"
      },
      "source": [
        "cumulative_percentage = []\n",
        "cumulation = 1\n",
        "for cum in range(len(percentage)):\n",
        "  cumulation += percentage[cum]\n",
        "  cumulation\n",
        "  cumulative_percentage.append(cumulation)\n",
        "\n",
        "plt.title('Scree Plot')\n",
        "plt.bar(x= ['PC1','PC2','PC3','PC4', 'PC5', 'PC6','PC7','PC8','PC9','PC10','PC11','PC12','PC13','PC14'], height=cumulative_percentage)\n",
        "plt.ylabel('Variance')\n"
      ],
      "execution_count": null,
      "outputs": [
        {
          "output_type": "execute_result",
          "data": {
            "text/plain": [
              "Text(0, 0.5, 'Variance')"
            ]
          },
          "metadata": {
            "tags": []
          },
          "execution_count": 160
        },
        {
          "output_type": "display_data",
          "data": {
            "image/png": "[encoded data removed]",
            "text/plain": [
              "<Figure size 432x288 with 1 Axes>"
            ]
          },
          "metadata": {
            "tags": [],
            "needs_background": "light"
          }
        }
      ]
    },
    {
      "cell_type": "markdown",
      "metadata": {
        "id": "7ghqYSxrP_FE"
      },
      "source": [
        "## 2. 원래 데이터의 label과, clustering 이후의 라벨을 비교하여 accuracy를 측정하고 결과를 `Acc`에 저장하세요. \n",
        "\n",
        "- Acc = 전체 데이터 중 라벨이 일치하는 데이터 수 입니다.\n",
        "\n",
        "ex)\n",
        "\n",
        "|원래 라벨|cluster 이후 label|\n",
        "|:-:|:-:|\n",
        "|A|A|\n",
        "|A|B|\n",
        "|A|A|\n",
        "|B|B|\n",
        "|B|B|\n",
        "|B|A|\n",
        "\n",
        "accuracy = $(2 + 2) \\over 6$\n",
        "\n",
        "이때 아래의 코드를 참고하여 `0`과 `1`로 있는데이터를 `M`과 `B`로 바꿔서 작업하면 좋습니다. \n",
        "\n",
        "```python\n",
        "label2 = label2.replace(0,'M')\n",
        "label2 = label2.replace(1,'B')\n",
        "```"
      ]
    },
    {
      "cell_type": "code",
      "metadata": {
        "id": "QlS6wxWB89WU",
        "colab": {
          "base_uri": "https://localhost:8080/",
          "height": 406
        },
        "outputId": "52e6a9ea-f94b-45cf-eaf8-0e1ccc71daa7"
      },
      "source": [
        "compare_df = pd.DataFrame(data = pc, columns = ['PC1','PC2'])\n",
        "compare_df['Cluster'] = series\n",
        "compare_df['Diagnosis'] = pd.Series(label)\n",
        "\n",
        "revised_df = compare_df\n",
        "revised_df['Cluster'] = revised_df['Cluster'].replace(0, 'M')\n",
        "revised_df['Cluster'] = revised_df['Cluster'].replace(1, 'B')\n",
        "revised_df"
      ],
      "execution_count": null,
      "outputs": [
        {
          "output_type": "execute_result",
          "data": {
            "text/html": [
              "<div>\n",
              "<style scoped>\n",
              "    .dataframe tbody tr th:only-of-type {\n",
              "        vertical-align: middle;\n",
              "    }\n",
              "\n",
              "    .dataframe tbody tr th {\n",
              "        vertical-align: top;\n",
              "    }\n",
              "\n",
              "    .dataframe thead th {\n",
              "        text-align: right;\n",
              "    }\n",
              "</style>\n",
              "<table border=\"1\" class=\"dataframe\">\n",
              "  <thead>\n",
              "    <tr style=\"text-align: right;\">\n",
              "      <th></th>\n",
              "      <th>PC1</th>\n",
              "      <th>PC2</th>\n",
              "      <th>Cluster</th>\n",
              "      <th>Diagnosis</th>\n",
              "    </tr>\n",
              "  </thead>\n",
              "  <tbody>\n",
              "    <tr>\n",
              "      <th>0</th>\n",
              "      <td>9.192837</td>\n",
              "      <td>1.948583</td>\n",
              "      <td>M</td>\n",
              "      <td>M</td>\n",
              "    </tr>\n",
              "    <tr>\n",
              "      <th>1</th>\n",
              "      <td>2.387802</td>\n",
              "      <td>-3.768172</td>\n",
              "      <td>M</td>\n",
              "      <td>M</td>\n",
              "    </tr>\n",
              "    <tr>\n",
              "      <th>2</th>\n",
              "      <td>5.733896</td>\n",
              "      <td>-1.075174</td>\n",
              "      <td>M</td>\n",
              "      <td>M</td>\n",
              "    </tr>\n",
              "    <tr>\n",
              "      <th>3</th>\n",
              "      <td>7.122953</td>\n",
              "      <td>10.275589</td>\n",
              "      <td>M</td>\n",
              "      <td>M</td>\n",
              "    </tr>\n",
              "    <tr>\n",
              "      <th>4</th>\n",
              "      <td>3.935302</td>\n",
              "      <td>-1.948072</td>\n",
              "      <td>M</td>\n",
              "      <td>M</td>\n",
              "    </tr>\n",
              "    <tr>\n",
              "      <th>...</th>\n",
              "      <td>...</td>\n",
              "      <td>...</td>\n",
              "      <td>...</td>\n",
              "      <td>...</td>\n",
              "    </tr>\n",
              "    <tr>\n",
              "      <th>564</th>\n",
              "      <td>6.439315</td>\n",
              "      <td>-3.576817</td>\n",
              "      <td>M</td>\n",
              "      <td>M</td>\n",
              "    </tr>\n",
              "    <tr>\n",
              "      <th>565</th>\n",
              "      <td>3.793382</td>\n",
              "      <td>-3.584048</td>\n",
              "      <td>M</td>\n",
              "      <td>M</td>\n",
              "    </tr>\n",
              "    <tr>\n",
              "      <th>566</th>\n",
              "      <td>1.256179</td>\n",
              "      <td>-1.902297</td>\n",
              "      <td>M</td>\n",
              "      <td>M</td>\n",
              "    </tr>\n",
              "    <tr>\n",
              "      <th>567</th>\n",
              "      <td>10.374794</td>\n",
              "      <td>1.672010</td>\n",
              "      <td>M</td>\n",
              "      <td>M</td>\n",
              "    </tr>\n",
              "    <tr>\n",
              "      <th>568</th>\n",
              "      <td>-5.475243</td>\n",
              "      <td>-0.670637</td>\n",
              "      <td>B</td>\n",
              "      <td>B</td>\n",
              "    </tr>\n",
              "  </tbody>\n",
              "</table>\n",
              "<p>569 rows × 4 columns</p>\n",
              "</div>"
            ],
            "text/plain": [
              "           PC1        PC2 Cluster Diagnosis\n",
              "0     9.192837   1.948583       M         M\n",
              "1     2.387802  -3.768172       M         M\n",
              "2     5.733896  -1.075174       M         M\n",
              "3     7.122953  10.275589       M         M\n",
              "4     3.935302  -1.948072       M         M\n",
              "..         ...        ...     ...       ...\n",
              "564   6.439315  -3.576817       M         M\n",
              "565   3.793382  -3.584048       M         M\n",
              "566   1.256179  -1.902297       M         M\n",
              "567  10.374794   1.672010       M         M\n",
              "568  -5.475243  -0.670637       B         B\n",
              "\n",
              "[569 rows x 4 columns]"
            ]
          },
          "metadata": {
            "tags": []
          },
          "execution_count": 167
        }
      ]
    },
    {
      "cell_type": "code",
      "metadata": {
        "colab": {
          "base_uri": "https://localhost:8080/"
        },
        "id": "RzmU5k1rBv_e",
        "outputId": "7c66a69f-6300-4494-a830-e0fbf73959d2"
      },
      "source": [
        "compare_correct = (revised_df['Cluster'] == revised_df['Diagnosis']).sum()\n",
        "compare_wrong = (revised_df['Cluster'] != revised_df['Diagnosis']).sum()\n",
        "total = compare_correct + compare_wrong\n",
        "print(compare_correct, compare_wrong, total)"
      ],
      "execution_count": null,
      "outputs": [
        {
          "output_type": "stream",
          "text": [
            "515 54 569\n"
          ],
          "name": "stdout"
        }
      ]
    },
    {
      "cell_type": "code",
      "metadata": {
        "colab": {
          "base_uri": "https://localhost:8080/"
        },
        "id": "WawPmsxdC6op",
        "outputId": "9c33b760-44bb-4f6e-9159-56690890f9d2"
      },
      "source": [
        "accuracy = compare_correct/total\n",
        "accuracy"
      ],
      "execution_count": null,
      "outputs": [
        {
          "output_type": "execute_result",
          "data": {
            "text/plain": [
              "0.9050966608084359"
            ]
          },
          "metadata": {
            "tags": []
          },
          "execution_count": 169
        }
      ]
    },
    {
      "cell_type": "markdown",
      "metadata": {
        "id": "yx2kMI0k66Qj"
      },
      "source": [
        "# 🔥 도전 과제\n",
        "\n",
        "아래 링크를 참조하여 hierarchical clustering을 breast cancer dataset에 적용하고, 그 결과를 시각화하세요.\n",
        "\n",
        "<https://scikit-learn.org/stable/modules/clustering.html#hierarchical-clustering>\n"
      ]
    },
    {
      "cell_type": "code",
      "metadata": {
        "id": "BwUsIoLX9TfM",
        "colab": {
          "base_uri": "https://localhost:8080/",
          "height": 632
        },
        "outputId": "491957d4-4384-4860-92e0-4b039a555479"
      },
      "source": [
        "import scipy.cluster.hierarchy as shc\n",
        "from matplotlib import pyplot as plt\n",
        "\n",
        "plt.figure(figsize=(10, 7))\n",
        "plt.title(\"Breast Cancer Dendograms\")\n",
        "dend = shc.dendrogram(shc.linkage(df, method='ward'))"
      ],
      "execution_count": null,
      "outputs": [
        {
          "output_type": "error",
          "ename": "TypeError",
          "evalue": "ignored",
          "traceback": [
            "\u001b[0;31m---------------------------------------------------------------------------\u001b[0m",
            "\u001b[0;31mTypeError\u001b[0m                                 Traceback (most recent call last)",
            "\u001b[0;32m<ipython-input-185-e2f9ada5984b>\u001b[0m in \u001b[0;36m<module>\u001b[0;34m()\u001b[0m\n\u001b[1;32m      5\u001b[0m \u001b[0mplt\u001b[0m\u001b[0;34m.\u001b[0m\u001b[0mtitle\u001b[0m\u001b[0;34m(\u001b[0m\u001b[0;34m\"Breast Cancer Dendograms\"\u001b[0m\u001b[0;34m)\u001b[0m\u001b[0;34m\u001b[0m\u001b[0;34m\u001b[0m\u001b[0m\n\u001b[1;32m      6\u001b[0m \u001b[0mdend\u001b[0m \u001b[0;34m=\u001b[0m \u001b[0mshc\u001b[0m\u001b[0;34m.\u001b[0m\u001b[0mdendrogram\u001b[0m\u001b[0;34m(\u001b[0m\u001b[0mshc\u001b[0m\u001b[0;34m.\u001b[0m\u001b[0mlinkage\u001b[0m\u001b[0;34m(\u001b[0m\u001b[0mdf\u001b[0m\u001b[0;34m,\u001b[0m \u001b[0mmethod\u001b[0m\u001b[0;34m=\u001b[0m\u001b[0;34m'ward'\u001b[0m\u001b[0;34m)\u001b[0m\u001b[0;34m)\u001b[0m\u001b[0;34m\u001b[0m\u001b[0;34m\u001b[0m\u001b[0m\n\u001b[0;32m----> 7\u001b[0;31m \u001b[0mdend\u001b[0m \u001b[0;34m=\u001b[0m \u001b[0mdend\u001b[0m\u001b[0;34m(\u001b[0m\u001b[0mrandom_state\u001b[0m \u001b[0;34m=\u001b[0m \u001b[0;36m42\u001b[0m\u001b[0;34m)\u001b[0m\u001b[0;34m\u001b[0m\u001b[0;34m\u001b[0m\u001b[0m\n\u001b[0m",
            "\u001b[0;31mTypeError\u001b[0m: 'dict' object is not callable"
          ]
        },
        {
          "output_type": "display_data",
          "data": {
            "image/png": "[encoded data removed]",
            "text/plain": [
              "<Figure size 720x504 with 1 Axes>"
            ]
          },
          "metadata": {
            "tags": [],
            "needs_background": "light"
          }
        }
      ]
    },
    {
      "cell_type": "code",
      "metadata": {
        "id": "NlLHB2d-wepu"
      },
      "source": [
        "from sklearn.cluster.hierarchical import AgglomerativeClustering\n",
        "from scipy.cluster.hierarchy import dendrogram, linkage\n",
        "Z = linkage(df, 'ward')"
      ],
      "execution_count": null,
      "outputs": []
    },
    {
      "cell_type": "code",
      "metadata": {
        "id": "1G6jt-PvwlPk",
        "colab": {
          "base_uri": "https://localhost:8080/"
        },
        "outputId": "c0cf3c88-2320-4b75-d73b-cb42187dea0a"
      },
      "source": [
        "Z[:10].round(0)"
      ],
      "execution_count": null,
      "outputs": [
        {
          "output_type": "execute_result",
          "data": {
            "text/plain": [
              "array([[ 79., 362.,   1.,   2.],\n",
              "       [457., 458.,   1.,   2.],\n",
              "       [271., 390.,   1.,   2.],\n",
              "       [  6., 317.,   1.,   2.],\n",
              "       [ 90., 545.,   1.,   2.],\n",
              "       [298., 477.,   1.,   2.],\n",
              "       [ 74., 137.,   1.,   2.],\n",
              "       [107., 497.,   1.,   2.],\n",
              "       [425., 522.,   1.,   2.],\n",
              "       [158., 294.,   1.,   2.]])"
            ]
          },
          "metadata": {
            "tags": []
          },
          "execution_count": 188
        }
      ]
    },
    {
      "cell_type": "code",
      "metadata": {
        "id": "ydU1AP5PwmM7",
        "colab": {
          "base_uri": "https://localhost:8080/",
          "height": 646
        },
        "outputId": "20240376-cdff-426e-e590-33d13ff26eba"
      },
      "source": [
        "plt.figure(figsize=(25, 10))\n",
        "plt.title('Hierarchical Clustering Dendrogram')\n",
        "plt.xlabel('sample index')\n",
        "plt.ylabel('distance')\n",
        "dendrogram(\n",
        "    Z,\n",
        "    leaf_rotation=90.,  # rotates the x axis labels\n",
        "    leaf_font_size=8.,  # font size for the x axis labels\n",
        "    color_threshold=5\n",
        ")\n",
        "plt.show()"
      ],
      "execution_count": null,
      "outputs": [
        {
          "output_type": "display_data",
          "data": {
            "image/png": "[encoded data removed]",
            "text/plain": [
              "<Figure size 1800x720 with 1 Axes>"
            ]
          },
          "metadata": {
            "tags": [],
            "needs_background": "light"
          }
        }
      ]
    },
    {
      "cell_type": "code",
      "metadata": {
        "id": "BoaHvNaSwstN",
        "colab": {
          "base_uri": "https://localhost:8080/",
          "height": 284
        },
        "outputId": "c9a48a2a-dd57-422e-f5cf-c1412b0b14b7"
      },
      "source": [
        "plt.title('Hierarchical Clustering Dendrogram (truncated)')\n",
        "plt.xlabel('sample index')\n",
        "plt.ylabel('distance')\n",
        "dendrogram(\n",
        "    Z,\n",
        "    truncate_mode='lastp',  # show only the last p merged clusters\n",
        "    p=12,  # show only the last pa merged clusters\n",
        "    show_leaf_counts=False,  # otherwise numbers in brackets are counts\n",
        "    leaf_rotation=90.,\n",
        "    leaf_font_size=12.,\n",
        "    show_contracted=True,  # to get a distribution impression in truncated branches\n",
        "    color_threshold=50\n",
        ")\n",
        "plt.show()"
      ],
      "execution_count": null,
      "outputs": [
        {
          "output_type": "display_data",
          "data": {
            "image/png": "[encoded data removed]",
            "text/plain": [
              "<Figure size 432x288 with 1 Axes>"
            ]
          },
          "metadata": {
            "tags": [],
            "needs_background": "light"
          }
        }
      ]
    }
  ]
}