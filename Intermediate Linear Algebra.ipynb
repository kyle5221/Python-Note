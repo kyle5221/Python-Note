{
  "nbformat": 4,
  "nbformat_minor": 0,
  "metadata": {
    "colab": {
      "name": "n132a-intermediate-linear-algebra.ipynb",
      "provenance": []
    },
    "kernelspec": {
      "display_name": "Python 3",
      "language": "python",
      "name": "python3"
    },
    "language_info": {
      "codemirror_mode": {
        "name": "ipython",
        "version": 3
      },
      "file_extension": ".py",
      "mimetype": "text/x-python",
      "name": "python",
      "nbconvert_exporter": "python",
      "pygments_lexer": "ipython3",
      "version": "3.8.2"
    }
  },
  "cells": [
    {
      "cell_type": "markdown",
      "metadata": {
        "id": "GSNiYn8lr6nN"
      },
      "source": [
        "<img src='https://i.imgur.com/RDAD11M.png' width = '200' align = 'right'>\n",
        "\n",
        "## *DATA SCIENCE / SECTION 1 / SPRINT 3 / NOTE 2*\n",
        "\n",
        "# 📝 Assignment\n"
      ]
    },
    {
      "cell_type": "markdown",
      "metadata": {
        "id": "3d4izUhQvh2_"
      },
      "source": [
        "## 1. 주어진 리스트에 대해서 평균, 분산, 표준편차를 구하는 함수를 작성해보세요. (`mean`같은 builtin function 제외)\n",
        "> 이후 다음 데이터 [243, 278, 184, 249, 207] 에 대해서 해당 함수를 사용한 결과를 보이세요."
      ]
    },
    {
      "cell_type": "code",
      "metadata": {
        "id": "w1iZfYvBtEA1",
        "colab": {
          "base_uri": "https://localhost:8080/"
        },
        "outputId": "93719c54-9935-42e8-e0ce-d9e852b8eaec"
      },
      "source": [
        "import math\n",
        "v = [243, 278, 184, 249, 207]\n",
        "def mymean(v):\n",
        "  n = len(v)\n",
        "  total = sum(v)\n",
        "  mean = total/n\n",
        "  return mean\n",
        "\n",
        "res1 = mymean(v)\n",
        "res1"
      ],
      "execution_count": null,
      "outputs": [
        {
          "output_type": "execute_result",
          "data": {
            "text/plain": [
              "232.2"
            ]
          },
          "metadata": {
            "tags": []
          },
          "execution_count": 1
        }
      ]
    },
    {
      "cell_type": "code",
      "metadata": {
        "id": "6Z1ZjrmvAjjl",
        "colab": {
          "base_uri": "https://localhost:8080/"
        },
        "outputId": "bf042178-4476-45ed-85cd-ecfc4bfdd3b6"
      },
      "source": [
        "mymean([1, 2, 3, 4, 5, 6])"
      ],
      "execution_count": null,
      "outputs": [
        {
          "output_type": "execute_result",
          "data": {
            "text/plain": [
              "3.5"
            ]
          },
          "metadata": {
            "tags": []
          },
          "execution_count": 2
        }
      ]
    },
    {
      "cell_type": "code",
      "metadata": {
        "colab": {
          "base_uri": "https://localhost:8080/"
        },
        "id": "o4aH-N4k9BzJ",
        "outputId": "66996f18-3f95-4d11-c030-e2373f137463"
      },
      "source": [
        "v = [243, 278, 184, 249, 207]\n",
        "def myvar(v):\n",
        "  n = len(v)\n",
        "  total = sum(v)\n",
        "  mean = total/n\n",
        "  std = [(x-mean)**2 for x in v]\n",
        "  variance = sum(std)/n\n",
        "  return variance\n",
        "\n",
        "res2 = myvar(v)\n",
        "res2\n",
        "\n"
      ],
      "execution_count": null,
      "outputs": [
        {
          "output_type": "execute_result",
          "data": {
            "text/plain": [
              "1090.96"
            ]
          },
          "metadata": {
            "tags": []
          },
          "execution_count": 7
        }
      ]
    },
    {
      "cell_type": "code",
      "metadata": {
        "id": "jK2DKVdJAoh4",
        "colab": {
          "base_uri": "https://localhost:8080/"
        },
        "outputId": "e187866d-91b0-4571-fd44-8e00ec680d09"
      },
      "source": [
        "myvar([1, 2, 3, 4, 5, 6])"
      ],
      "execution_count": null,
      "outputs": [
        {
          "output_type": "execute_result",
          "data": {
            "text/plain": [
              "2.9166666666666665"
            ]
          },
          "metadata": {
            "tags": []
          },
          "execution_count": 8
        }
      ]
    },
    {
      "cell_type": "code",
      "metadata": {
        "colab": {
          "base_uri": "https://localhost:8080/"
        },
        "id": "oQXK2Rao9D25",
        "outputId": "990ef71e-2ea7-4862-8ee6-99083c16ba7a"
      },
      "source": [
        "v = [243, 278, 184, 249, 207]\n",
        "def mystd(v):\n",
        "  n = len(v)\n",
        "  total = sum(v)\n",
        "  mean = total/n\n",
        "  std = [(x-mean)**2 for x in v]\n",
        "  return std\n",
        "\n",
        "res3 = mystd(v)\n",
        "res3\n",
        "\n",
        "\n"
      ],
      "execution_count": null,
      "outputs": [
        {
          "output_type": "execute_result",
          "data": {
            "text/plain": [
              "[116.64000000000024,\n",
              " 2097.6400000000012,\n",
              " 2323.239999999999,\n",
              " 282.2400000000004,\n",
              " 635.0399999999994]"
            ]
          },
          "metadata": {
            "tags": []
          },
          "execution_count": 17
        }
      ]
    },
    {
      "cell_type": "markdown",
      "metadata": {
        "id": "oh63KaOctEp_"
      },
      "source": [
        "## 2. 위에서 사용된 데이터와 다음 데이터의 공분산과, 상관계수를 구해보세요 [88, 89, 83, 112, 104] "
      ]
    },
    {
      "cell_type": "code",
      "metadata": {
        "id": "G7ZB0krot564",
        "colab": {
          "base_uri": "https://localhost:8080/"
        },
        "outputId": "de5f9e1f-669c-46fc-9443-a8d032af92bd"
      },
      "source": [
        "import pandas as pd\n",
        "\n",
        "#공분산 구하기\n",
        "v = [243, 278, 184, 249, 207]\n",
        "z = [88, 89, 83, 112, 104]\n",
        "data = {'v':v, 'z':z}\n",
        "df = pd.DataFrame(data)\n",
        "cov = df.cov()\n",
        "res4 = cov['v']['z']\n",
        "res4"
      ],
      "execution_count": null,
      "outputs": [
        {
          "output_type": "execute_result",
          "data": {
            "text/plain": [
              "71.7"
            ]
          },
          "metadata": {
            "tags": []
          },
          "execution_count": 19
        }
      ]
    },
    {
      "cell_type": "code",
      "metadata": {
        "colab": {
          "base_uri": "https://localhost:8080/"
        },
        "id": "7g55sQeuFa_r",
        "outputId": "b07ce2a3-d356-469c-fd4d-f76e33d2b52e"
      },
      "source": [
        "#상관계수 구하기\n",
        "corr = df.corr()\n",
        "res5 = corr['v']['z']\n",
        "res5"
      ],
      "execution_count": null,
      "outputs": [
        {
          "output_type": "execute_result",
          "data": {
            "text/plain": [
              "0.15868973512570764"
            ]
          },
          "metadata": {
            "tags": []
          },
          "execution_count": 20
        }
      ]
    },
    {
      "cell_type": "code",
      "metadata": {
        "id": "837S6iaAIcD_",
        "colab": {
          "base_uri": "https://localhost:8080/"
        },
        "outputId": "c032dfb9-1b35-4eca-8497-7bbf1c5add48"
      },
      "source": [
        "a = [1, 2, 3, 4, 5, 6]\n",
        "b = [6, 5, 4, 3, 2, 1]\n",
        "d = {'a':a, 'b':b}\n",
        "df1 = pd.DataFrame(d)\n",
        "cov1 = df1.cov()\n",
        "result1 = cov1['a']['b']\n",
        "result1"
      ],
      "execution_count": null,
      "outputs": [
        {
          "output_type": "execute_result",
          "data": {
            "text/plain": [
              "-3.5"
            ]
          },
          "metadata": {
            "tags": []
          },
          "execution_count": 41
        }
      ]
    },
    {
      "cell_type": "code",
      "metadata": {
        "id": "gIQ-sMExA3BZ",
        "colab": {
          "base_uri": "https://localhost:8080/"
        },
        "outputId": "5f109c09-2c32-44dd-baab-a2767e794a57"
      },
      "source": [
        "a = [1, 2, 3, 4, 5, 6]\n",
        "b = [6, 5, 4, 3, 2, 1]\n",
        "d = {'a':a, 'b':b}\n",
        "df1 = pd.DataFrame(d)\n",
        "corr2 = df1.corr()\n",
        "result2 = corr['a']['b']\n",
        "result2"
      ],
      "execution_count": null,
      "outputs": [
        {
          "output_type": "execute_result",
          "data": {
            "text/plain": [
              "-1.0"
            ]
          },
          "metadata": {
            "tags": []
          },
          "execution_count": 38
        }
      ]
    },
    {
      "cell_type": "markdown",
      "metadata": {
        "id": "86iXLzwM2z8l"
      },
      "source": [
        "## 3. 다음 벡터들의 span과, 이가 의미하는 바를 설명하세요. \n",
        "\n",
        "\\begin{align}\n",
        "g = \\begin{bmatrix} 1 & 3 \\end{bmatrix}\n",
        "\\qquad\n",
        "h = \\begin{bmatrix} 2 & 6 \\end{bmatrix}\n",
        "\\end{align}"
      ]
    },
    {
      "cell_type": "code",
      "metadata": {
        "id": "fNpSjPcOScgH"
      },
      "source": [
        "res6 = 1\n",
        "#두 벡터는 dependent -> R1 만을 벡터로 만들수 있음"
      ],
      "execution_count": null,
      "outputs": []
    },
    {
      "cell_type": "code",
      "metadata": {
        "id": "-9Y_N2_Z5OEQ",
        "colab": {
          "base_uri": "https://localhost:8080/",
          "height": 281
        },
        "outputId": "99587cfa-de5f-4798-bba4-d3d4de6a4737"
      },
      "source": [
        "#2차원 벡터 \n",
        "\n",
        "import matplotlib.pyplot as plt\n",
        "import numpy as np\n",
        "from numpy import linalg as la\n",
        "plt.xlim(0, 5)          \n",
        "plt.ylim(0, 7)\n",
        "\n",
        "g = [1, 3]\n",
        "h = [2, 6]\n",
        "\n",
        "axes = plt.gca()\n",
        "x_vals = np.array(axes.get_xlim())\n",
        "y_vals = 0 * x_vals\n",
        "\n",
        "plt.plot(x_vals, y_vals, '--', color = '#0984e3')\n",
        "plt.arrow(0, 0, g[0], g[1], linewidth = 3, head_width = .05, head_length = .05, color = 'r')\n",
        "plt.arrow(0, 0, h[0], h[1], linewidth = 1, head_width = .05, head_length = .05, color = 'b')\n",
        "\n",
        "plt.title(\"span\")\n",
        "plt.show()"
      ],
      "execution_count": null,
      "outputs": [
        {
          "output_type": "display_data",
          "data": {
            "image/png": "[encoded data removed]",
            "text/plain": [
              "<Figure size 432x288 with 1 Axes>"
            ]
          },
          "metadata": {
            "tags": [],
            "needs_background": "light"
          }
        }
      ]
    },
    {
      "cell_type": "markdown",
      "metadata": {
        "id": "l1deylUj4IHH"
      },
      "source": [
        "## 4. 다음 벡터들의 span과, 이가 의미하는 바를 설명하세요.\n",
        "\n",
        "\\begin{align}\n",
        "l = \\begin{bmatrix} 1 & 2 & 3 \\end{bmatrix}\n",
        "\\qquad\n",
        "m = \\begin{bmatrix} -1 & 0 & 7 \\end{bmatrix}\n",
        "\\qquad\n",
        "n = \\begin{bmatrix} 4 & 8  & 2\\end{bmatrix}\n",
        "\\end{align}"
      ]
    },
    {
      "cell_type": "code",
      "metadata": {
        "id": "NWZ36G8QTMob"
      },
      "source": [
        "res7 = 3 # span (차원 수)"
      ],
      "execution_count": null,
      "outputs": []
    },
    {
      "cell_type": "code",
      "metadata": {
        "id": "XH-BlPKl5Ofa",
        "colab": {
          "base_uri": "https://localhost:8080/",
          "height": 247
        },
        "outputId": "b4c25bb5-0d63-4d34-e550-9b75193b78a4"
      },
      "source": [
        "#3차원 벡터\n",
        "l = [1,2,3]\n",
        "m = [-1,0,7]\n",
        "n = [4,8,2]\n",
        "\n",
        "fig = plt.figure()\n",
        "ax = plt.axes(projection='3d')\n",
        "ax.quiver(0,0,0,l[0],l[1],l[2], color='r',label='l')\n",
        "ax.quiver(0,0,0,m[0],m[1],m[2],  color='b', label='m')\n",
        "ax.quiver(0,0,0,n[0],n[1],n[2], color='g',label='n')\n",
        "ax.legend()\n",
        "plt.show()\n",
        "\n",
        "#l,m,n은 선형 독립임 "
      ],
      "execution_count": null,
      "outputs": [
        {
          "output_type": "display_data",
          "data": {
            "image/png": "[encoded data removed]",
            "text/plain": [
              "<Figure size 432x288 with 1 Axes>"
            ]
          },
          "metadata": {
            "tags": [],
            "needs_background": "light"
          }
        }
      ]
    },
    {
      "cell_type": "markdown",
      "metadata": {
        "id": "IpJwt9kw6v8U"
      },
      "source": [
        "## 5. 다음 매트릭스의 rank를 구하세요\n",
        "\n",
        "\\begin{align}\n",
        "P = \\begin{bmatrix} \n",
        "0 & 2 & 5 \\\\\n",
        " 3 & 6 & 12 \\\\\n",
        "3 & 2 & 2\n",
        "\\end{bmatrix}\n",
        "\\end{align}"
      ]
    },
    {
      "cell_type": "code",
      "metadata": {
        "id": "CAzw0q3KTu5d"
      },
      "source": [
        "res8 = 2"
      ],
      "execution_count": null,
      "outputs": []
    },
    {
      "cell_type": "code",
      "metadata": {
        "colab": {
          "base_uri": "https://localhost:8080/"
        },
        "id": "eVPc35qi71IF",
        "outputId": "446c15bc-362a-4e58-aa03-964263137e51"
      },
      "source": [
        "import numpy\n",
        "A = numpy.matrix([[0,2,5],[3,6,12],[3,2,2]])\n",
        "numpy.linalg.matrix_rank(A)"
      ],
      "execution_count": null,
      "outputs": [
        {
          "output_type": "execute_result",
          "data": {
            "text/plain": [
              "2"
            ]
          },
          "metadata": {
            "tags": []
          },
          "execution_count": 60
        }
      ]
    },
    {
      "cell_type": "markdown",
      "metadata": {
        "id": "TKkrPwRM-Oar"
      },
      "source": [
        "# 🔥 도전과제 \n",
        "\n",
        "주어진 데이터 (x, y)에 대해서 `y = x` 라는 벡터에 대해 projection을 계산하는 함수를 작성하세요. \n",
        "- (x, y) 는 (0, 0) 에서 (x, y)로 가는 벡터라 가정합니다.\n",
        "\n",
        "이후\n",
        "\n",
        "- 입력된 데이터를 파란색 선으로, \n",
        "- `y = x` 라는 벡터를 빨간색 선으로, 마지막으로 \n",
        "- projection 된 선을 녹색 점선(dashed)으로 그래프에 그리세요."
      ]
    },
    {
      "cell_type": "code",
      "metadata": {
        "id": "cp52kZra-ykj",
        "colab": {
          "base_uri": "https://localhost:8080/"
        },
        "outputId": "5ecddcf4-d7f0-4181-c559-7fdfa6474734"
      },
      "source": [
        "v = [7, 4]\n",
        "y = x\n",
        "\n",
        "def myProjection(v):\n",
        "  v = np.array(v)\n",
        "  xy = np.array([x, y])\n",
        "  xy_norm = np.sqrt(sum(xy**2))     \n",
        "  vprime = (np.dot(v, xy)/xy_norm**2)*xy\n",
        "  return vprime\n",
        "vprime = myProjection(v)\n",
        "vprime"
      ],
      "execution_count": null,
      "outputs": [
        {
          "output_type": "execute_result",
          "data": {
            "text/plain": [
              "array([5.5, 5.5])"
            ]
          },
          "metadata": {
            "tags": []
          },
          "execution_count": 58
        }
      ]
    },
    {
      "cell_type": "code",
      "metadata": {
        "id": "gDcMAm3WnJT2",
        "colab": {
          "base_uri": "https://localhost:8080/",
          "height": 428
        },
        "outputId": "61e79450-17d4-482e-a537-be252f8ee9c0"
      },
      "source": [
        "plt.figure(figsize = (7,7))\n",
        "plt.xlim(0,10)          \n",
        "plt.ylim(0,10)\n",
        "plt.xticks(ticks=np.arange(0, 10, step=1))\n",
        "plt.yticks(ticks=np.arange(0, 10, step=1))\n",
        "\n",
        "vprime = myProjection(v)\n",
        "vprime_norm = np.sqrt(sum(vprime**2))\n",
        "\n",
        "axes = plt.gca()\n",
        "plt.gca().set_aspect('equal')\n",
        "x_vals = np.array(axes.get_xlim())\n",
        "y_vals = x_vals\n",
        "\n",
        "plt.arrow(0, 0, vprime[0], vprime[1],linestyle = ':', lw = 3, color = 'green')\n",
        "plt.arrow(0, 0, v[0], v[1], linewidth = 3, head_width = .05, head_length = .05, color = 'b', alpha = 0.4)\n",
        "plt.arrow(v[0], v[1],vprime[0]-v[0], vprime[1]-v[1], linewidth = 3, head_width = .05, head_length = .05, color = 'yellow', alpha = 0.5)\n",
        "plt.arrow(0, 0,x, y, linewidth = 3, head_width = .05, head_length = .05, color = 'red', alpha = 0.5)\n",
        "\n",
        "plt.grid()\n",
        "plt.show()"
      ],
      "execution_count": null,
      "outputs": [
        {
          "output_type": "display_data",
          "data": {
            "image/png": "[encoded data removed]",
            "text/plain": [
              "<Figure size 504x504 with 1 Axes>"
            ]
          },
          "metadata": {
            "tags": [],
            "needs_background": "light"
          }
        }
      ]
    }
  ]
}